{
 "cells": [
  {
   "cell_type": "code",
   "execution_count": 1,
   "id": "7cf9580b-2a69-45bf-a036-0fde002d95a0",
   "metadata": {},
   "outputs": [],
   "source": [
    "import numpy as np\n",
    "import os\n",
    "from netCDF4 import Dataset\n",
    "\n",
    "import cartopy.crs as ccrs\n",
    "import matplotlib.pyplot as plt"
   ]
  },
  {
   "cell_type": "code",
   "execution_count": 2,
   "id": "9a253bef-013a-487e-97af-a963c80b58a0",
   "metadata": {},
   "outputs": [],
   "source": [
    "import os, sys\n",
    "module_path = os.path.abspath(os.path.join('C:/Users/Adam.000/Dropbox/Code/DisCo/'))\n",
    "sys.path.append(module_path)\n",
    "from visuals import *"
   ]
  },
  {
   "cell_type": "code",
   "execution_count": 3,
   "id": "18cc4d76-e1c0-40e8-9c07-b2b5808eb2a5",
   "metadata": {},
   "outputs": [],
   "source": [
    "matplotlib.use(\"TkAgg\")\n",
    "%matplotlib inline"
   ]
  },
  {
   "cell_type": "code",
   "execution_count": null,
   "id": "102dae96-f236-4906-bbf0-981b97baffea",
   "metadata": {},
   "outputs": [],
   "source": []
  },
  {
   "cell_type": "code",
   "execution_count": 4,
   "id": "76179a65-181f-44c2-aa09-0f78bb884a60",
   "metadata": {},
   "outputs": [],
   "source": [
    "datadir = \"D:/Adam/Extracted-Disco-Data/CAM5-1-0.25degree_All-Hist_est1_v3_run1.cam.h2.2015-08-29-00000.nc\"\n",
    "obs_load = Dataset(datadir, 'r')\n",
    "lats = obs_load['lat'][:]\n",
    "lons = obs_load['lon'][:]"
   ]
  },
  {
   "cell_type": "code",
   "execution_count": 5,
   "id": "284b5158-8142-4596-be47-58b559114139",
   "metadata": {},
   "outputs": [
    {
     "data": {
      "text/plain": [
       "-90.0"
      ]
     },
     "execution_count": 5,
     "metadata": {},
     "output_type": "execute_result"
    }
   ],
   "source": [
    "lats[0]"
   ]
  },
  {
   "cell_type": "code",
   "execution_count": 6,
   "id": "bc0a5c47-83b1-4a82-b4c9-6898310fcbb2",
   "metadata": {},
   "outputs": [
    {
     "data": {
      "text/plain": [
       "-66.76662320730117"
      ]
     },
     "execution_count": 6,
     "metadata": {},
     "output_type": "execute_result"
    }
   ],
   "source": [
    "lats[99]"
   ]
  },
  {
   "cell_type": "code",
   "execution_count": 7,
   "id": "fad09a15-4191-4cd5-8dca-df25d708bc59",
   "metadata": {},
   "outputs": [],
   "source": [
    "antarctic_lat = 99\n",
    "stropic_lat = 284\n",
    "ntropic_lat = 483\n",
    "arctic_lat = 668"
   ]
  },
  {
   "cell_type": "code",
   "execution_count": null,
   "id": "64a3f9eb-ee0f-44e8-b08b-8fc13a6ed72b",
   "metadata": {},
   "outputs": [],
   "source": []
  },
  {
   "cell_type": "markdown",
   "id": "aaab2a54-9f79-473a-aa39-b16c48ea3d4c",
   "metadata": {},
   "source": [
    "## load fields"
   ]
  },
  {
   "cell_type": "code",
   "execution_count": 8,
   "id": "fafa4ee5-01e7-4f8a-8bc2-f4b41c4203ed",
   "metadata": {},
   "outputs": [],
   "source": [
    "run_dir =  \"D:/Adam/Extracted-Disco-Data/AR-Extracted-Data/netcdf_data/\"\n",
    "obs_fields = []\n",
    "lcsdir =  \"D:/Adam/Extracted-Disco-Data/IVT_alt/result-16/fields/\"\n",
    "lcsfiles = sorted(os.listdir(lcsdir))"
   ]
  },
  {
   "cell_type": "code",
   "execution_count": 9,
   "id": "77ce2e44-433d-4bf4-b51a-f6290e284fb8",
   "metadata": {},
   "outputs": [],
   "source": [
    "for (i,s) in enumerate(lcsfiles):\n",
    "    index = i%8\n",
    "    if index == 0:\n",
    "        obs_name = s[:-6]+'00000.nc'\n",
    "        # obs_name = obs_name[:43]+obs_name[44:46]+'2'+obs_name[47:]\n",
    "        obs_load = Dataset(run_dir+obs_name, 'r')[\"PRECT\"][:]\n",
    "    obs_field = obs_load[index]\n",
    "    obs_fields.append(obs_field)"
   ]
  },
  {
   "cell_type": "code",
   "execution_count": 10,
   "id": "898509e5-926b-467b-8a2f-f57f49a32208",
   "metadata": {},
   "outputs": [],
   "source": [
    "precip_field = np.stack(obs_fields)"
   ]
  },
  {
   "cell_type": "code",
   "execution_count": 11,
   "id": "38103eca-eaf0-47a2-8c91-6b4c87903022",
   "metadata": {},
   "outputs": [
    {
     "data": {
      "text/plain": [
       "(500, 768, 1152)"
      ]
     },
     "execution_count": 11,
     "metadata": {},
     "output_type": "execute_result"
    }
   ],
   "source": [
    "np.shape(precip_field)"
   ]
  },
  {
   "cell_type": "code",
   "execution_count": 12,
   "id": "d44256eb-d755-4462-bfce-d8d5b696b5b4",
   "metadata": {},
   "outputs": [],
   "source": [
    "lcs_fields = []\n",
    "\n",
    "for i,s in enumerate(lcsfiles):\n",
    "    s_field = np.load(lcsdir+s)\n",
    "    lcs_fields.append(s_field)\n",
    "state_field = np.vstack(lcs_fields)"
   ]
  },
  {
   "cell_type": "code",
   "execution_count": 13,
   "id": "5da1f684-1fd2-43d6-b63c-0f8816f8dedc",
   "metadata": {},
   "outputs": [
    {
     "data": {
      "text/plain": [
       "(500, 768, 1152)"
      ]
     },
     "execution_count": 13,
     "metadata": {},
     "output_type": "execute_result"
    }
   ],
   "source": [
    "np.shape(state_field)"
   ]
  },
  {
   "cell_type": "code",
   "execution_count": null,
   "id": "a961a622-8663-4e04-b84f-9f7d21b2f8fb",
   "metadata": {},
   "outputs": [],
   "source": []
  },
  {
   "cell_type": "markdown",
   "id": "e7582870-1314-4d79-8128-da73223f1107",
   "metadata": {},
   "source": [
    "## create masked array to mask out background state from the LCS field"
   ]
  },
  {
   "cell_type": "code",
   "execution_count": 14,
   "id": "e0e6ece9-c7c1-4234-a67c-f2f1f2cf1387",
   "metadata": {},
   "outputs": [],
   "source": [
    "filteredIVT = np.ones(np.shape(state_field), dtype=int)\n",
    "filteredIVT[state_field==13] = 0\n",
    "filteredIVT[state_field==0] = 0 # also include boundary \"null\" state"
   ]
  },
  {
   "cell_type": "code",
   "execution_count": 15,
   "id": "72f6f89b-9b2f-4674-9820-e85cc1e1d5ae",
   "metadata": {},
   "outputs": [],
   "source": [
    "maskedIVT = np.ma.masked_array(filteredIVT, filteredIVT==0)"
   ]
  },
  {
   "cell_type": "code",
   "execution_count": null,
   "id": "550220e8-5e83-4c14-922e-41b8af0365a7",
   "metadata": {},
   "outputs": [],
   "source": []
  },
  {
   "cell_type": "markdown",
   "id": "904ca16a-edbf-4cab-8e4f-0d86a5d794e6",
   "metadata": {
    "tags": []
   },
   "source": [
    "### invert the masked array to first compute total spacetime volume of non-background states, i.e. EWE states "
   ]
  },
  {
   "cell_type": "code",
   "execution_count": 16,
   "id": "daeb85d1-e3d9-4265-8349-47ebda792b19",
   "metadata": {},
   "outputs": [],
   "source": [
    "wherestates = filteredIVT == 1"
   ]
  },
  {
   "cell_type": "code",
   "execution_count": 17,
   "id": "f9cc4449-3ac6-4a49-b40e-01c705d39133",
   "metadata": {},
   "outputs": [],
   "source": [
    "maskedIVT = np.ma.masked_array(filteredIVT, filteredIVT==0)"
   ]
  },
  {
   "cell_type": "code",
   "execution_count": 18,
   "id": "9657f3ca-c7c3-4a76-a4a6-4ab1dc74873a",
   "metadata": {},
   "outputs": [
    {
     "data": {
      "text/plain": [
       "True"
      ]
     },
     "execution_count": 18,
     "metadata": {},
     "output_type": "execute_result"
    }
   ],
   "source": [
    "np.array_equal(np.invert(maskedIVT.mask), wherestates)"
   ]
  },
  {
   "cell_type": "markdown",
   "id": "97092f53-06ec-42fd-873c-651a919e8e40",
   "metadata": {},
   "source": [
    "total spacetime volume:"
   ]
  },
  {
   "cell_type": "code",
   "execution_count": 19,
   "id": "122eb86e-b32d-42b2-b48d-11ed36bc4eab",
   "metadata": {},
   "outputs": [
    {
     "data": {
      "text/plain": [
       "19.610698332609957"
      ]
     },
     "execution_count": 19,
     "metadata": {},
     "output_type": "execute_result"
    }
   ],
   "source": [
    "np.sum(wherestates) / np.size(precip_field) * 100"
   ]
  },
  {
   "cell_type": "code",
   "execution_count": null,
   "id": "1cdf9756-92a4-4c9e-b50a-8a0a9e2b4de1",
   "metadata": {},
   "outputs": [],
   "source": []
  },
  {
   "cell_type": "markdown",
   "id": "483ee555-e359-4fda-a527-b6febdb431ca",
   "metadata": {},
   "source": [
    "### total precip co-occurring with EWE states"
   ]
  },
  {
   "cell_type": "code",
   "execution_count": 20,
   "id": "1a0c3038-e5d1-4244-b260-45646ba12d21",
   "metadata": {},
   "outputs": [],
   "source": [
    "maskedprecip = np.ma.masked_array(precip_field, maskedIVT.mask)"
   ]
  },
  {
   "cell_type": "code",
   "execution_count": 21,
   "id": "cd532732-20a3-48ac-acce-035faa3c86f6",
   "metadata": {},
   "outputs": [
    {
     "data": {
      "text/plain": [
       "48.243916034698486"
      ]
     },
     "execution_count": 21,
     "metadata": {},
     "output_type": "execute_result"
    }
   ],
   "source": [
    "(np.sum(maskedprecip) / np.sum(precip_field)) * 100"
   ]
  },
  {
   "cell_type": "code",
   "execution_count": null,
   "id": "6b4cb3f9-0900-48ac-b441-8c11e78e910f",
   "metadata": {},
   "outputs": [],
   "source": []
  },
  {
   "cell_type": "markdown",
   "id": "d7a96b28-0bd2-45c3-a229-8c7ff4750ac1",
   "metadata": {},
   "source": [
    "## compute co-occurring precip extremes for different percentiles"
   ]
  },
  {
   "cell_type": "code",
   "execution_count": 22,
   "id": "ad1dcff5-5057-4901-941f-5e797ee5ec2c",
   "metadata": {},
   "outputs": [],
   "source": [
    "sorted_precip = np.sort(precip_field.flatten())"
   ]
  },
  {
   "cell_type": "code",
   "execution_count": null,
   "id": "ce475a9a-658b-4d3c-a44b-31c6e3f2cfb3",
   "metadata": {},
   "outputs": [],
   "source": []
  },
  {
   "cell_type": "code",
   "execution_count": 23,
   "id": "222fd6f6-7520-4b0e-95d4-38212fada325",
   "metadata": {},
   "outputs": [],
   "source": [
    "percentile = 0.9"
   ]
  },
  {
   "cell_type": "code",
   "execution_count": 24,
   "id": "c777c933-e37a-4b8d-b00f-f0065d74992c",
   "metadata": {},
   "outputs": [
    {
     "data": {
      "text/plain": [
       "398131200.0"
      ]
     },
     "execution_count": 24,
     "metadata": {},
     "output_type": "execute_result"
    }
   ],
   "source": [
    "percentile * np.size(sorted_precip)"
   ]
  },
  {
   "cell_type": "code",
   "execution_count": 25,
   "id": "d70aaf7f-e5c2-4a8e-8d14-d1d224ddf2e6",
   "metadata": {},
   "outputs": [],
   "source": [
    "percentile_ind = int(percentile * np.size(sorted_precip))"
   ]
  },
  {
   "cell_type": "code",
   "execution_count": 26,
   "id": "755a1d33-9c5e-4195-901f-202e27a34f9d",
   "metadata": {},
   "outputs": [],
   "source": [
    "extreme_ind = (sorted_precip[percentile_ind] + sorted_precip[percentile_ind+1]) / 2.0"
   ]
  },
  {
   "cell_type": "code",
   "execution_count": 27,
   "id": "69c1d7fe-98b9-4d55-b954-64cead40d8d0",
   "metadata": {},
   "outputs": [],
   "source": [
    "total_extremes = np.sum(precip_field > extreme_ind)"
   ]
  },
  {
   "cell_type": "markdown",
   "id": "645b4cfe-8175-4a12-bcf3-c66f9c507115",
   "metadata": {},
   "source": [
    "make sure percentile is working properly"
   ]
  },
  {
   "cell_type": "code",
   "execution_count": 29,
   "id": "aec5ac68-450a-4321-b77d-15f876a4f32f",
   "metadata": {},
   "outputs": [
    {
     "data": {
      "text/plain": [
       "9.999999773943866"
      ]
     },
     "execution_count": 29,
     "metadata": {},
     "output_type": "execute_result"
    }
   ],
   "source": [
    "(total_extremes / np.size(precip_field)) *100"
   ]
  },
  {
   "cell_type": "code",
   "execution_count": 30,
   "id": "0bba1b6d-7737-4e79-8f9e-851ff6fafb1b",
   "metadata": {},
   "outputs": [],
   "source": [
    "state_extremes = np.sum(np.logical_and(wherestates, precip_field > extreme_ind))"
   ]
  },
  {
   "cell_type": "markdown",
   "id": "acc2b99e-c542-4e87-994a-b3ca0520706c",
   "metadata": {},
   "source": [
    "percent of co-occurring extremes:"
   ]
  },
  {
   "cell_type": "code",
   "execution_count": 31,
   "id": "fd65ee53-9b33-4035-95d5-6ba67acd3a30",
   "metadata": {},
   "outputs": [
    {
     "data": {
      "text/plain": [
       "44.95693732270276"
      ]
     },
     "execution_count": 31,
     "metadata": {},
     "output_type": "execute_result"
    }
   ],
   "source": [
    "(state_extremes / total_extremes) * 100"
   ]
  },
  {
   "cell_type": "code",
   "execution_count": null,
   "id": "1c75b9d3-0c68-457b-9ff4-b03d5b94d425",
   "metadata": {},
   "outputs": [],
   "source": []
  },
  {
   "cell_type": "code",
   "execution_count": 32,
   "id": "19aed479-dfc7-4368-a1a1-fb5b53c075ee",
   "metadata": {},
   "outputs": [],
   "source": [
    "percentile = 0.99"
   ]
  },
  {
   "cell_type": "code",
   "execution_count": 33,
   "id": "1dbae994-5c10-4f2f-a971-1b6ecd18620f",
   "metadata": {},
   "outputs": [
    {
     "data": {
      "text/plain": [
       "437944320.0"
      ]
     },
     "execution_count": 33,
     "metadata": {},
     "output_type": "execute_result"
    }
   ],
   "source": [
    "percentile * np.size(sorted_precip)"
   ]
  },
  {
   "cell_type": "code",
   "execution_count": 34,
   "id": "7d3baf04-733e-4658-9d2c-0ea42855f26a",
   "metadata": {},
   "outputs": [],
   "source": [
    "percentile_ind = int(percentile * np.size(sorted_precip))"
   ]
  },
  {
   "cell_type": "code",
   "execution_count": 35,
   "id": "931dda08-3ec5-406c-afac-aee6273d2dfb",
   "metadata": {},
   "outputs": [],
   "source": [
    "extreme_ind = (sorted_precip[percentile_ind] + sorted_precip[percentile_ind+1]) / 2.0"
   ]
  },
  {
   "cell_type": "code",
   "execution_count": 36,
   "id": "acbae41a-f0a0-4de8-9a59-445da97929ec",
   "metadata": {},
   "outputs": [],
   "source": [
    "total_extremes = np.sum(precip_field > extreme_ind)"
   ]
  },
  {
   "cell_type": "markdown",
   "id": "652a9a64-2e5b-4836-8659-4079fa1332a3",
   "metadata": {},
   "source": [
    "make sure percentile is working properly"
   ]
  },
  {
   "cell_type": "code",
   "execution_count": 37,
   "id": "ab1b6b63-1da0-4c6c-8fa6-73901079c8f7",
   "metadata": {},
   "outputs": [
    {
     "data": {
      "text/plain": [
       "0.9999997739438657"
      ]
     },
     "execution_count": 37,
     "metadata": {},
     "output_type": "execute_result"
    }
   ],
   "source": [
    "(total_extremes / np.size(precip_field)) *100"
   ]
  },
  {
   "cell_type": "code",
   "execution_count": 38,
   "id": "b9ec2b7a-ab67-4291-bfb6-5144475e3965",
   "metadata": {},
   "outputs": [],
   "source": [
    "state_extremes = np.sum(np.logical_and(wherestates, precip_field > extreme_ind))"
   ]
  },
  {
   "cell_type": "markdown",
   "id": "5eda6ed0-610a-4994-b345-9d8edae88514",
   "metadata": {},
   "source": [
    "percent of co-occurring extremes:"
   ]
  },
  {
   "cell_type": "code",
   "execution_count": 39,
   "id": "090b9e99-588b-488f-9628-ed8aa865494c",
   "metadata": {},
   "outputs": [
    {
     "data": {
      "text/plain": [
       "58.07559725739594"
      ]
     },
     "execution_count": 39,
     "metadata": {},
     "output_type": "execute_result"
    }
   ],
   "source": [
    "(state_extremes / total_extremes) * 100"
   ]
  },
  {
   "cell_type": "code",
   "execution_count": null,
   "id": "511358ce-d100-4c22-9310-89953d4411ab",
   "metadata": {},
   "outputs": [],
   "source": []
  },
  {
   "cell_type": "code",
   "execution_count": 40,
   "id": "b8a0bf59-6700-4f13-b742-e2214c563eda",
   "metadata": {},
   "outputs": [],
   "source": [
    "percentile = 0.999"
   ]
  },
  {
   "cell_type": "code",
   "execution_count": 41,
   "id": "fc569e31-a689-44bf-9d37-62450d396aad",
   "metadata": {},
   "outputs": [
    {
     "data": {
      "text/plain": [
       "441925632.0"
      ]
     },
     "execution_count": 41,
     "metadata": {},
     "output_type": "execute_result"
    }
   ],
   "source": [
    "percentile * np.size(sorted_precip)"
   ]
  },
  {
   "cell_type": "code",
   "execution_count": 42,
   "id": "9df9c05b-f1b3-4c8e-a3b9-ecd9fb0c5ff7",
   "metadata": {},
   "outputs": [],
   "source": [
    "percentile_ind = int(percentile * np.size(sorted_precip))"
   ]
  },
  {
   "cell_type": "code",
   "execution_count": 43,
   "id": "2187073a-31cc-45c9-a1d3-be19ea0ec6fa",
   "metadata": {},
   "outputs": [],
   "source": [
    "extreme_ind = (sorted_precip[percentile_ind] + sorted_precip[percentile_ind+1]) / 2.0"
   ]
  },
  {
   "cell_type": "code",
   "execution_count": 44,
   "id": "91074070-c9fa-46db-8cce-a8e8e9212070",
   "metadata": {},
   "outputs": [],
   "source": [
    "total_extremes = np.sum(precip_field > extreme_ind)"
   ]
  },
  {
   "cell_type": "markdown",
   "id": "c3a49230-f09a-46a2-9eb3-5c6ee090eeaf",
   "metadata": {},
   "source": [
    "make sure percentile is working properly"
   ]
  },
  {
   "cell_type": "code",
   "execution_count": 45,
   "id": "89c6639a-5335-48fa-be05-a9a45fbfc2cf",
   "metadata": {},
   "outputs": [
    {
     "data": {
      "text/plain": [
       "0.09999977394386574"
      ]
     },
     "execution_count": 45,
     "metadata": {},
     "output_type": "execute_result"
    }
   ],
   "source": [
    "(total_extremes / np.size(precip_field)) *100"
   ]
  },
  {
   "cell_type": "code",
   "execution_count": 46,
   "id": "2e31dff5-9cd2-410d-9dd6-36132db1031a",
   "metadata": {},
   "outputs": [],
   "source": [
    "state_extremes = np.sum(np.logical_and(wherestates, precip_field > extreme_ind))"
   ]
  },
  {
   "cell_type": "markdown",
   "id": "ac7ae64c-16f3-427c-9cb9-77a7e65df4db",
   "metadata": {},
   "source": [
    "percent of co-occurring extremes:"
   ]
  },
  {
   "cell_type": "code",
   "execution_count": 47,
   "id": "6c5a74ad-9dc4-4557-9193-df1b2dd98324",
   "metadata": {},
   "outputs": [
    {
     "data": {
      "text/plain": [
       "75.2694030070055"
      ]
     },
     "execution_count": 47,
     "metadata": {},
     "output_type": "execute_result"
    }
   ],
   "source": [
    "(state_extremes / total_extremes) * 100"
   ]
  },
  {
   "cell_type": "code",
   "execution_count": null,
   "id": "9ee5d41e-7836-40ec-a980-6969b3dfa2cc",
   "metadata": {},
   "outputs": [],
   "source": []
  },
  {
   "cell_type": "markdown",
   "id": "8845cb63-a815-434d-ae4e-404d99bafb3b",
   "metadata": {
    "tags": []
   },
   "source": [
    "## Calculations for zonal extremes"
   ]
  },
  {
   "cell_type": "code",
   "execution_count": null,
   "id": "ae66eeb2-71ca-47ee-ac04-afc0161a840a",
   "metadata": {},
   "outputs": [],
   "source": []
  },
  {
   "cell_type": "markdown",
   "id": "a7cb1fd5-4fe6-469a-8a18-8109efd1529d",
   "metadata": {},
   "source": [
    "### tropics"
   ]
  },
  {
   "cell_type": "code",
   "execution_count": 48,
   "id": "1c8251c2-8a70-4ec4-8a24-ca439e4cd457",
   "metadata": {},
   "outputs": [
    {
     "data": {
      "text/plain": [
       "(500, 768, 1152)"
      ]
     },
     "execution_count": 48,
     "metadata": {},
     "output_type": "execute_result"
    }
   ],
   "source": [
    "np.shape(precip_field)"
   ]
  },
  {
   "cell_type": "code",
   "execution_count": 49,
   "id": "569c458d-b1df-4f50-903e-4557524df272",
   "metadata": {},
   "outputs": [
    {
     "data": {
      "text/plain": [
       "(500, 199, 1152)"
      ]
     },
     "execution_count": 49,
     "metadata": {},
     "output_type": "execute_result"
    }
   ],
   "source": [
    "tropic_precip = precip_field[:, stropic_lat:ntropic_lat, :]\n",
    "np.shape(tropic_precip)"
   ]
  },
  {
   "cell_type": "code",
   "execution_count": 50,
   "id": "bf13c33c-f41e-4fe3-b799-69c73279947e",
   "metadata": {},
   "outputs": [
    {
     "data": {
      "text/plain": [
       "(500, 199, 1152)"
      ]
     },
     "execution_count": 50,
     "metadata": {},
     "output_type": "execute_result"
    }
   ],
   "source": [
    "tropic_states = state_field[:, stropic_lat:ntropic_lat, :]\n",
    "np.shape(tropic_states)"
   ]
  },
  {
   "cell_type": "code",
   "execution_count": 51,
   "id": "e0581ad5-b323-487d-8f10-707a96333af6",
   "metadata": {},
   "outputs": [],
   "source": [
    "filteredIVT = np.ones(np.shape(tropic_states), dtype=int)\n",
    "filteredIVT[tropic_states==13] = 0\n",
    "filteredIVT[tropic_states==0] = 0"
   ]
  },
  {
   "cell_type": "code",
   "execution_count": 52,
   "id": "d106bd85-41f3-4d77-b664-e6ee509d00db",
   "metadata": {},
   "outputs": [],
   "source": [
    "wherestates = filteredIVT == 1"
   ]
  },
  {
   "cell_type": "code",
   "execution_count": 53,
   "id": "f71742ee-fae0-4258-95ba-4a814b90a13f",
   "metadata": {},
   "outputs": [],
   "source": [
    "maskedIVT = np.ma.masked_array(filteredIVT, filteredIVT==0)"
   ]
  },
  {
   "cell_type": "code",
   "execution_count": null,
   "id": "c0d43f7b-083c-4408-8711-64993fe49388",
   "metadata": {},
   "outputs": [],
   "source": []
  },
  {
   "cell_type": "code",
   "execution_count": 54,
   "id": "435361fe-6a3f-4174-87df-f952deb5b355",
   "metadata": {},
   "outputs": [
    {
     "data": {
      "text/plain": [
       "38.41553514098269"
      ]
     },
     "execution_count": 54,
     "metadata": {},
     "output_type": "execute_result"
    }
   ],
   "source": [
    "np.sum(wherestates) / np.size(tropic_precip) * 100"
   ]
  },
  {
   "cell_type": "code",
   "execution_count": 55,
   "id": "b4195962-4bf4-4278-8304-55ab4c5e0ed8",
   "metadata": {},
   "outputs": [],
   "source": [
    "maskedprecip = np.ma.masked_array(tropic_precip, maskedIVT.mask)"
   ]
  },
  {
   "cell_type": "code",
   "execution_count": 56,
   "id": "a54d4bce-1ddf-4326-8d9a-212951827f55",
   "metadata": {},
   "outputs": [
    {
     "data": {
      "text/plain": [
       "61.93549633026123"
      ]
     },
     "execution_count": 56,
     "metadata": {},
     "output_type": "execute_result"
    }
   ],
   "source": [
    "(np.sum(maskedprecip) / np.sum(tropic_precip)) * 100"
   ]
  },
  {
   "cell_type": "code",
   "execution_count": null,
   "id": "e0c97bc5-090a-4ab3-90da-1a0a97e4ff20",
   "metadata": {},
   "outputs": [],
   "source": []
  },
  {
   "cell_type": "code",
   "execution_count": 57,
   "id": "c416ad82-f8c8-4027-bb1d-f04ad266d37e",
   "metadata": {},
   "outputs": [],
   "source": [
    "sorted_precip = np.sort(tropic_precip.flatten())"
   ]
  },
  {
   "cell_type": "code",
   "execution_count": null,
   "id": "42eb1738-fb9a-4ff0-b6f3-f2f249359b94",
   "metadata": {},
   "outputs": [],
   "source": []
  },
  {
   "cell_type": "code",
   "execution_count": 58,
   "id": "a63b40c7-61a2-4c1a-b5db-9e89978dc50f",
   "metadata": {},
   "outputs": [],
   "source": [
    "percentile = 0.9"
   ]
  },
  {
   "cell_type": "code",
   "execution_count": 59,
   "id": "135fc2d7-e919-4830-a069-4d18d4793d05",
   "metadata": {},
   "outputs": [
    {
     "data": {
      "text/plain": [
       "103161600.0"
      ]
     },
     "execution_count": 59,
     "metadata": {},
     "output_type": "execute_result"
    }
   ],
   "source": [
    "percentile * np.size(sorted_precip)"
   ]
  },
  {
   "cell_type": "code",
   "execution_count": 60,
   "id": "85c0bc3d-6ed5-469f-b977-8e61bad304d3",
   "metadata": {},
   "outputs": [],
   "source": [
    "percentile_ind = int(percentile * np.size(sorted_precip))"
   ]
  },
  {
   "cell_type": "code",
   "execution_count": 61,
   "id": "439ccd87-60b9-425a-a2aa-4013a40583cb",
   "metadata": {},
   "outputs": [],
   "source": [
    "extreme_ind = (sorted_precip[percentile_ind] + sorted_precip[percentile_ind+1]) / 2.0"
   ]
  },
  {
   "cell_type": "code",
   "execution_count": 62,
   "id": "61a94a48-ea2f-4c64-892e-cee31e82b857",
   "metadata": {},
   "outputs": [],
   "source": [
    "total_extremes = np.sum(tropic_precip > extreme_ind)"
   ]
  },
  {
   "cell_type": "code",
   "execution_count": 63,
   "id": "b4be8b57-52ef-4ef7-8b65-242c38f24380",
   "metadata": {},
   "outputs": [
    {
     "data": {
      "text/plain": [
       "9.999999127582356"
      ]
     },
     "execution_count": 63,
     "metadata": {},
     "output_type": "execute_result"
    }
   ],
   "source": [
    "(total_extremes / np.size(tropic_precip)) *100"
   ]
  },
  {
   "cell_type": "code",
   "execution_count": 64,
   "id": "225ee315-b959-42af-990f-2b179a5dd744",
   "metadata": {},
   "outputs": [],
   "source": [
    "state_extremes = np.sum(np.logical_and(wherestates, tropic_precip > extreme_ind))"
   ]
  },
  {
   "cell_type": "code",
   "execution_count": 65,
   "id": "55227b78-4907-4d48-99f7-1d2bfbc662cb",
   "metadata": {},
   "outputs": [
    {
     "data": {
      "text/plain": [
       "61.733830762652744"
      ]
     },
     "execution_count": 65,
     "metadata": {},
     "output_type": "execute_result"
    }
   ],
   "source": [
    "(state_extremes / total_extremes) * 100"
   ]
  },
  {
   "cell_type": "code",
   "execution_count": null,
   "id": "1dca3aad-4341-43b7-bf15-cfa2f54d533f",
   "metadata": {},
   "outputs": [],
   "source": []
  },
  {
   "cell_type": "code",
   "execution_count": 66,
   "id": "e6b9e0ec-89a5-4251-8fbc-2e50fdcf716f",
   "metadata": {},
   "outputs": [],
   "source": [
    "percentile = 0.99"
   ]
  },
  {
   "cell_type": "code",
   "execution_count": 67,
   "id": "064787ca-eb36-43a0-a713-8bf4262842c4",
   "metadata": {},
   "outputs": [
    {
     "data": {
      "text/plain": [
       "113477760.0"
      ]
     },
     "execution_count": 67,
     "metadata": {},
     "output_type": "execute_result"
    }
   ],
   "source": [
    "percentile * np.size(sorted_precip)"
   ]
  },
  {
   "cell_type": "code",
   "execution_count": 68,
   "id": "78ca625d-7ade-4645-ab52-2365b21164a4",
   "metadata": {},
   "outputs": [],
   "source": [
    "percentile_ind = int(percentile * np.size(sorted_precip))"
   ]
  },
  {
   "cell_type": "code",
   "execution_count": 69,
   "id": "2786189a-3a01-437d-afc8-955a2ca3a956",
   "metadata": {},
   "outputs": [],
   "source": [
    "extreme_ind = (sorted_precip[percentile_ind] + sorted_precip[percentile_ind+1]) / 2.0"
   ]
  },
  {
   "cell_type": "code",
   "execution_count": 70,
   "id": "78505658-8886-427f-8901-364ad70aec24",
   "metadata": {},
   "outputs": [],
   "source": [
    "total_extremes = np.sum(tropic_precip > extreme_ind)"
   ]
  },
  {
   "cell_type": "code",
   "execution_count": 71,
   "id": "8931d0f8-8846-408c-879f-cc2fa0f1064b",
   "metadata": {},
   "outputs": [
    {
     "data": {
      "text/plain": [
       "0.9999991275823562"
      ]
     },
     "execution_count": 71,
     "metadata": {},
     "output_type": "execute_result"
    }
   ],
   "source": [
    "(total_extremes / np.size(tropic_precip)) *100"
   ]
  },
  {
   "cell_type": "code",
   "execution_count": 72,
   "id": "10d6fb21-7d5e-4543-a98d-e45e9a08f92b",
   "metadata": {},
   "outputs": [],
   "source": [
    "state_extremes = np.sum(np.logical_and(wherestates, tropic_precip > extreme_ind))"
   ]
  },
  {
   "cell_type": "code",
   "execution_count": 73,
   "id": "feed81d1-cf90-41dd-93f2-9c8964d31d2c",
   "metadata": {},
   "outputs": [
    {
     "data": {
      "text/plain": [
       "69.53384067371638"
      ]
     },
     "execution_count": 73,
     "metadata": {},
     "output_type": "execute_result"
    }
   ],
   "source": [
    "(state_extremes / total_extremes) * 100"
   ]
  },
  {
   "cell_type": "code",
   "execution_count": null,
   "id": "4372dca0-c935-4884-aa7b-3c5f17b4804e",
   "metadata": {},
   "outputs": [],
   "source": []
  },
  {
   "cell_type": "code",
   "execution_count": 74,
   "id": "9b8392be-5b1a-436e-93fe-c10ef36ecac0",
   "metadata": {},
   "outputs": [],
   "source": [
    "percentile = 0.999"
   ]
  },
  {
   "cell_type": "code",
   "execution_count": 75,
   "id": "19ffe927-1109-4402-9552-a60431acb32c",
   "metadata": {},
   "outputs": [
    {
     "data": {
      "text/plain": [
       "114509376.0"
      ]
     },
     "execution_count": 75,
     "metadata": {},
     "output_type": "execute_result"
    }
   ],
   "source": [
    "percentile * np.size(sorted_precip)"
   ]
  },
  {
   "cell_type": "code",
   "execution_count": 76,
   "id": "6c13fb3f-5c71-40c4-938e-34dcaaddb454",
   "metadata": {},
   "outputs": [],
   "source": [
    "percentile_ind = int(percentile * np.size(sorted_precip))"
   ]
  },
  {
   "cell_type": "code",
   "execution_count": 77,
   "id": "370703b5-4ce0-4236-ace9-f770264d3a5e",
   "metadata": {},
   "outputs": [],
   "source": [
    "extreme_ind = (sorted_precip[percentile_ind] + sorted_precip[percentile_ind+1]) / 2.0"
   ]
  },
  {
   "cell_type": "code",
   "execution_count": 78,
   "id": "bb3e51bd-013b-436d-8473-f15b9d4f616d",
   "metadata": {},
   "outputs": [],
   "source": [
    "total_extremes = np.sum(tropic_precip > extreme_ind)"
   ]
  },
  {
   "cell_type": "code",
   "execution_count": 79,
   "id": "cc449baf-e35d-49e9-aa25-e392ce8af5ec",
   "metadata": {},
   "outputs": [
    {
     "data": {
      "text/plain": [
       "0.09999912758235624"
      ]
     },
     "execution_count": 79,
     "metadata": {},
     "output_type": "execute_result"
    }
   ],
   "source": [
    "(total_extremes / np.size(tropic_precip)) *100"
   ]
  },
  {
   "cell_type": "code",
   "execution_count": 80,
   "id": "42b52f7e-e1ee-4ed9-b476-fb00cbcbedc6",
   "metadata": {},
   "outputs": [],
   "source": [
    "state_extremes = np.sum(np.logical_and(wherestates, tropic_precip > extreme_ind))"
   ]
  },
  {
   "cell_type": "code",
   "execution_count": 81,
   "id": "0071b208-8081-41ce-aa6b-a2a93f95ab49",
   "metadata": {},
   "outputs": [
    {
     "data": {
      "text/plain": [
       "76.67745565898642"
      ]
     },
     "execution_count": 81,
     "metadata": {},
     "output_type": "execute_result"
    }
   ],
   "source": [
    "(state_extremes / total_extremes) * 100"
   ]
  },
  {
   "cell_type": "code",
   "execution_count": null,
   "id": "29fdedd9-9cf3-4350-b9a1-fc5cca5597cd",
   "metadata": {},
   "outputs": [],
   "source": []
  },
  {
   "cell_type": "markdown",
   "id": "638dcdfd-b16f-4f3d-9b46-3a58865af59d",
   "metadata": {
    "tags": []
   },
   "source": [
    "### north temperate"
   ]
  },
  {
   "cell_type": "code",
   "execution_count": 82,
   "id": "5a727b2a-b7f4-4aed-b4ba-3f700b66f6c5",
   "metadata": {},
   "outputs": [
    {
     "data": {
      "text/plain": [
       "(500, 768, 1152)"
      ]
     },
     "execution_count": 82,
     "metadata": {},
     "output_type": "execute_result"
    }
   ],
   "source": [
    "np.shape(precip_field)"
   ]
  },
  {
   "cell_type": "code",
   "execution_count": 83,
   "id": "d3734634-2a1c-41fc-b707-3b7a35297342",
   "metadata": {},
   "outputs": [
    {
     "data": {
      "text/plain": [
       "(500, 185, 1152)"
      ]
     },
     "execution_count": 83,
     "metadata": {},
     "output_type": "execute_result"
    }
   ],
   "source": [
    "north_precip = precip_field[:, ntropic_lat:arctic_lat, :]\n",
    "np.shape(north_precip)"
   ]
  },
  {
   "cell_type": "code",
   "execution_count": 84,
   "id": "dcabbe15-c956-4048-bf28-799f12df163d",
   "metadata": {},
   "outputs": [
    {
     "data": {
      "text/plain": [
       "(500, 185, 1152)"
      ]
     },
     "execution_count": 84,
     "metadata": {},
     "output_type": "execute_result"
    }
   ],
   "source": [
    "north_states = state_field[:, ntropic_lat:arctic_lat, :]\n",
    "np.shape(north_states)"
   ]
  },
  {
   "cell_type": "code",
   "execution_count": 85,
   "id": "4cd4d73d-c7ba-4deb-80f3-53d1ed633aa6",
   "metadata": {},
   "outputs": [],
   "source": [
    "filteredIVT = np.ones(np.shape(north_states), dtype=int)\n",
    "filteredIVT[north_states==13] = 0\n",
    "filteredIVT[north_states==0] = 0"
   ]
  },
  {
   "cell_type": "code",
   "execution_count": 86,
   "id": "20a75abc-48f4-49b5-9488-391c38d0e6e4",
   "metadata": {},
   "outputs": [],
   "source": [
    "wherestates = filteredIVT == 1"
   ]
  },
  {
   "cell_type": "code",
   "execution_count": 87,
   "id": "581a8b14-272c-4cd4-bd70-66c11dddbcb2",
   "metadata": {},
   "outputs": [],
   "source": [
    "maskedIVT = np.ma.masked_array(filteredIVT, filteredIVT==0)"
   ]
  },
  {
   "cell_type": "code",
   "execution_count": null,
   "id": "ff31e5f4-8b23-4f64-9031-af56598d724a",
   "metadata": {},
   "outputs": [],
   "source": []
  },
  {
   "cell_type": "code",
   "execution_count": 88,
   "id": "746873bc-e05f-44bb-ad80-3aefb00bb4c0",
   "metadata": {},
   "outputs": [
    {
     "data": {
      "text/plain": [
       "17.92901839339339"
      ]
     },
     "execution_count": 88,
     "metadata": {},
     "output_type": "execute_result"
    }
   ],
   "source": [
    "np.sum(wherestates) / np.size(north_precip) * 100"
   ]
  },
  {
   "cell_type": "code",
   "execution_count": 89,
   "id": "dfd4f19c-6cc0-4cd1-a06a-426cdc9beda8",
   "metadata": {},
   "outputs": [],
   "source": [
    "maskedprecip = np.ma.masked_array(north_precip, maskedIVT.mask)"
   ]
  },
  {
   "cell_type": "code",
   "execution_count": 90,
   "id": "1338ca19-a6af-42c3-b4b7-7bd4c8456527",
   "metadata": {},
   "outputs": [
    {
     "data": {
      "text/plain": [
       "46.997418999671936"
      ]
     },
     "execution_count": 90,
     "metadata": {},
     "output_type": "execute_result"
    }
   ],
   "source": [
    "(np.sum(maskedprecip) / np.sum(north_precip)) * 100"
   ]
  },
  {
   "cell_type": "code",
   "execution_count": null,
   "id": "9f60ea82-2557-4294-a261-43e4b42ba2d2",
   "metadata": {},
   "outputs": [],
   "source": []
  },
  {
   "cell_type": "code",
   "execution_count": 91,
   "id": "a37bb0d6-5e67-444d-8aec-feef1a4ba5ab",
   "metadata": {},
   "outputs": [],
   "source": [
    "sorted_precip = np.sort(north_precip.flatten())"
   ]
  },
  {
   "cell_type": "code",
   "execution_count": null,
   "id": "82cf0806-0ed3-40fe-958e-faf0d8ebf3cf",
   "metadata": {},
   "outputs": [],
   "source": []
  },
  {
   "cell_type": "code",
   "execution_count": 92,
   "id": "9cab4503-69a2-48a1-bca9-b09cd6af18f5",
   "metadata": {},
   "outputs": [],
   "source": [
    "percentile = 0.9"
   ]
  },
  {
   "cell_type": "code",
   "execution_count": 93,
   "id": "75531ca0-de67-4110-b04a-4f76f1faa46f",
   "metadata": {},
   "outputs": [
    {
     "data": {
      "text/plain": [
       "95904000.0"
      ]
     },
     "execution_count": 93,
     "metadata": {},
     "output_type": "execute_result"
    }
   ],
   "source": [
    "percentile * np.size(sorted_precip)"
   ]
  },
  {
   "cell_type": "code",
   "execution_count": 94,
   "id": "adb83baf-dd11-4c1e-a669-cc9dbcc6f3a5",
   "metadata": {},
   "outputs": [],
   "source": [
    "percentile_ind = int(percentile * np.size(sorted_precip))"
   ]
  },
  {
   "cell_type": "code",
   "execution_count": 95,
   "id": "85c83143-f794-4449-8755-f4331b6e67c3",
   "metadata": {},
   "outputs": [],
   "source": [
    "extreme_ind = (sorted_precip[percentile_ind] + sorted_precip[percentile_ind+1]) / 2.0"
   ]
  },
  {
   "cell_type": "code",
   "execution_count": 96,
   "id": "cd96a8e4-0185-4c5a-8347-c317fe1f2d1c",
   "metadata": {},
   "outputs": [],
   "source": [
    "total_extremes = np.sum(north_precip > extreme_ind)"
   ]
  },
  {
   "cell_type": "code",
   "execution_count": 97,
   "id": "fd6fca9c-cd04-478e-91a2-90233b6da4d0",
   "metadata": {},
   "outputs": [
    {
     "data": {
      "text/plain": [
       "9.999998123123124"
      ]
     },
     "execution_count": 97,
     "metadata": {},
     "output_type": "execute_result"
    }
   ],
   "source": [
    "(total_extremes / np.size(north_precip)) *100"
   ]
  },
  {
   "cell_type": "code",
   "execution_count": 98,
   "id": "5e1f7dea-b7e6-4f51-bf11-e48433d54f06",
   "metadata": {},
   "outputs": [],
   "source": [
    "state_extremes = np.sum(np.logical_and(wherestates, north_precip > extreme_ind))"
   ]
  },
  {
   "cell_type": "code",
   "execution_count": 99,
   "id": "55defc4f-4407-45b6-9cc9-fd30b2f0f4ba",
   "metadata": {},
   "outputs": [
    {
     "data": {
      "text/plain": [
       "39.51222588442678"
      ]
     },
     "execution_count": 99,
     "metadata": {},
     "output_type": "execute_result"
    }
   ],
   "source": [
    "(state_extremes / total_extremes) * 100"
   ]
  },
  {
   "cell_type": "code",
   "execution_count": null,
   "id": "d4a60a59-c7bc-4487-9428-8c6249dad763",
   "metadata": {},
   "outputs": [],
   "source": []
  },
  {
   "cell_type": "code",
   "execution_count": 100,
   "id": "164a4931-bc0f-44e4-9baf-60e46cbe5748",
   "metadata": {},
   "outputs": [],
   "source": [
    "percentile = 0.99"
   ]
  },
  {
   "cell_type": "code",
   "execution_count": 101,
   "id": "19c38d86-e8b4-42ef-91c8-e01705271349",
   "metadata": {},
   "outputs": [
    {
     "data": {
      "text/plain": [
       "105494400.0"
      ]
     },
     "execution_count": 101,
     "metadata": {},
     "output_type": "execute_result"
    }
   ],
   "source": [
    "percentile * np.size(sorted_precip)"
   ]
  },
  {
   "cell_type": "code",
   "execution_count": 102,
   "id": "465ab155-96d2-447d-bcfe-a2688786a028",
   "metadata": {},
   "outputs": [],
   "source": [
    "percentile_ind = int(percentile * np.size(sorted_precip))"
   ]
  },
  {
   "cell_type": "code",
   "execution_count": 103,
   "id": "cf7321b1-2ea6-4f1a-a304-961dadd56363",
   "metadata": {},
   "outputs": [],
   "source": [
    "extreme_ind = (sorted_precip[percentile_ind] + sorted_precip[percentile_ind+1]) / 2.0"
   ]
  },
  {
   "cell_type": "code",
   "execution_count": 104,
   "id": "7ba8a911-183e-4ee6-a711-6155f783d855",
   "metadata": {},
   "outputs": [],
   "source": [
    "total_extremes = np.sum(north_precip > extreme_ind)"
   ]
  },
  {
   "cell_type": "code",
   "execution_count": 105,
   "id": "7e2a5d9c-c043-4939-863e-e348ccc1a41f",
   "metadata": {},
   "outputs": [
    {
     "data": {
      "text/plain": [
       "0.9999990615615616"
      ]
     },
     "execution_count": 105,
     "metadata": {},
     "output_type": "execute_result"
    }
   ],
   "source": [
    "(total_extremes / np.size(north_precip)) *100"
   ]
  },
  {
   "cell_type": "code",
   "execution_count": 106,
   "id": "439c823c-9bb8-4c4a-b680-a2e70acc6a75",
   "metadata": {},
   "outputs": [],
   "source": [
    "state_extremes = np.sum(np.logical_and(wherestates, north_precip > extreme_ind))"
   ]
  },
  {
   "cell_type": "code",
   "execution_count": 107,
   "id": "73a31fa8-97c7-4fca-b7ed-dde4669a0dce",
   "metadata": {},
   "outputs": [
    {
     "data": {
      "text/plain": [
       "54.76713097516045"
      ]
     },
     "execution_count": 107,
     "metadata": {},
     "output_type": "execute_result"
    }
   ],
   "source": [
    "(state_extremes / total_extremes) * 100"
   ]
  },
  {
   "cell_type": "code",
   "execution_count": null,
   "id": "ccf3429d-e415-4c4c-ab17-be99d7792737",
   "metadata": {},
   "outputs": [],
   "source": []
  },
  {
   "cell_type": "code",
   "execution_count": 108,
   "id": "b397ca58-ef0e-4e27-8a61-bb5bb4ec7f82",
   "metadata": {},
   "outputs": [],
   "source": [
    "percentile = 0.999"
   ]
  },
  {
   "cell_type": "code",
   "execution_count": 109,
   "id": "b444bc7b-32b6-466f-b805-7cd51a1328b8",
   "metadata": {},
   "outputs": [
    {
     "data": {
      "text/plain": [
       "106453440.0"
      ]
     },
     "execution_count": 109,
     "metadata": {},
     "output_type": "execute_result"
    }
   ],
   "source": [
    "percentile * np.size(sorted_precip)"
   ]
  },
  {
   "cell_type": "code",
   "execution_count": 110,
   "id": "3baabf8f-bc23-4d3f-9522-33b7388184ff",
   "metadata": {},
   "outputs": [],
   "source": [
    "percentile_ind = int(percentile * np.size(sorted_precip))"
   ]
  },
  {
   "cell_type": "code",
   "execution_count": 111,
   "id": "291274ad-1b4d-41da-9aaf-6b2b9509355d",
   "metadata": {},
   "outputs": [],
   "source": [
    "extreme_ind = (sorted_precip[percentile_ind] + sorted_precip[percentile_ind+1]) / 2.0"
   ]
  },
  {
   "cell_type": "code",
   "execution_count": 112,
   "id": "2e8c322f-1c84-43ae-8dcc-710b02919ad2",
   "metadata": {},
   "outputs": [],
   "source": [
    "total_extremes = np.sum(north_precip > extreme_ind)"
   ]
  },
  {
   "cell_type": "code",
   "execution_count": 113,
   "id": "418a910d-ab0a-407d-8f36-7c330e01f384",
   "metadata": {},
   "outputs": [
    {
     "data": {
      "text/plain": [
       "0.09999906156156156"
      ]
     },
     "execution_count": 113,
     "metadata": {},
     "output_type": "execute_result"
    }
   ],
   "source": [
    "(total_extremes / np.size(north_precip)) *100"
   ]
  },
  {
   "cell_type": "code",
   "execution_count": 114,
   "id": "11cdb89a-76e1-4421-a7d1-0e925ff8cdcb",
   "metadata": {},
   "outputs": [],
   "source": [
    "state_extremes = np.sum(np.logical_and(wherestates, north_precip > extreme_ind))"
   ]
  },
  {
   "cell_type": "code",
   "execution_count": 115,
   "id": "83846212-6f13-48d9-9204-9582aef1263d",
   "metadata": {},
   "outputs": [
    {
     "data": {
      "text/plain": [
       "79.21433196632852"
      ]
     },
     "execution_count": 115,
     "metadata": {},
     "output_type": "execute_result"
    }
   ],
   "source": [
    "(state_extremes / total_extremes) * 100"
   ]
  },
  {
   "cell_type": "code",
   "execution_count": null,
   "id": "7525894a-5d8b-459e-b29f-f54bc1382f0a",
   "metadata": {},
   "outputs": [],
   "source": []
  },
  {
   "cell_type": "markdown",
   "id": "fdfa117d-d5f5-4eb4-9c22-43a6ee7063c5",
   "metadata": {},
   "source": [
    "### south temperate"
   ]
  },
  {
   "cell_type": "code",
   "execution_count": 116,
   "id": "dd0ad685-ee3f-45a1-9e36-cba4ba617466",
   "metadata": {},
   "outputs": [
    {
     "data": {
      "text/plain": [
       "(500, 768, 1152)"
      ]
     },
     "execution_count": 116,
     "metadata": {},
     "output_type": "execute_result"
    }
   ],
   "source": [
    "np.shape(precip_field)"
   ]
  },
  {
   "cell_type": "code",
   "execution_count": 117,
   "id": "5f1bb3f0-e988-40c1-bc28-4e3e4c9c94dc",
   "metadata": {},
   "outputs": [
    {
     "data": {
      "text/plain": [
       "(500, 185, 1152)"
      ]
     },
     "execution_count": 117,
     "metadata": {},
     "output_type": "execute_result"
    }
   ],
   "source": [
    "south_precip = precip_field[:, antarctic_lat:stropic_lat, :]\n",
    "np.shape(south_precip)"
   ]
  },
  {
   "cell_type": "code",
   "execution_count": 118,
   "id": "8832c9b6-e1f0-4774-ba16-a47ffa1f361d",
   "metadata": {},
   "outputs": [
    {
     "data": {
      "text/plain": [
       "(500, 185, 1152)"
      ]
     },
     "execution_count": 118,
     "metadata": {},
     "output_type": "execute_result"
    }
   ],
   "source": [
    "south_states = state_field[:, antarctic_lat:stropic_lat, :]\n",
    "np.shape(south_states)"
   ]
  },
  {
   "cell_type": "code",
   "execution_count": 119,
   "id": "d63613d3-5a2d-47f7-bef6-e703e78533be",
   "metadata": {},
   "outputs": [],
   "source": [
    "filteredIVT = np.ones(np.shape(south_states), dtype=int)\n",
    "filteredIVT[south_states==13] = 0\n",
    "filteredIVT[south_states==0] = 0"
   ]
  },
  {
   "cell_type": "code",
   "execution_count": 120,
   "id": "7bf8416d-5577-4365-a802-5e88376cde10",
   "metadata": {},
   "outputs": [],
   "source": [
    "wherestates = filteredIVT == 1"
   ]
  },
  {
   "cell_type": "code",
   "execution_count": 121,
   "id": "ea38bfd4-43b1-4875-b236-d8a4f118f4bd",
   "metadata": {},
   "outputs": [],
   "source": [
    "maskedIVT = np.ma.masked_array(filteredIVT, filteredIVT==0)"
   ]
  },
  {
   "cell_type": "code",
   "execution_count": null,
   "id": "3ff01327-875c-4fce-87eb-d095d01bbddf",
   "metadata": {},
   "outputs": [],
   "source": []
  },
  {
   "cell_type": "code",
   "execution_count": 122,
   "id": "96d885b9-0a53-413f-9088-dfadf2e22d9e",
   "metadata": {},
   "outputs": [
    {
     "data": {
      "text/plain": [
       "20.87145082582583"
      ]
     },
     "execution_count": 122,
     "metadata": {},
     "output_type": "execute_result"
    }
   ],
   "source": [
    "np.sum(wherestates) / np.size(south_precip) * 100"
   ]
  },
  {
   "cell_type": "code",
   "execution_count": 123,
   "id": "bd4f6027-5b4a-4c91-bb8a-72549959dca5",
   "metadata": {},
   "outputs": [],
   "source": [
    "maskedprecip = np.ma.masked_array(south_precip, maskedIVT.mask)"
   ]
  },
  {
   "cell_type": "code",
   "execution_count": 124,
   "id": "c70e2749-7c0d-4d6a-a537-429c0b45f946",
   "metadata": {},
   "outputs": [
    {
     "data": {
      "text/plain": [
       "45.299723744392395"
      ]
     },
     "execution_count": 124,
     "metadata": {},
     "output_type": "execute_result"
    }
   ],
   "source": [
    "(np.sum(maskedprecip) / np.sum(south_precip)) * 100"
   ]
  },
  {
   "cell_type": "code",
   "execution_count": null,
   "id": "b988d5ac-6818-4089-9891-d90089eb5541",
   "metadata": {},
   "outputs": [],
   "source": []
  },
  {
   "cell_type": "code",
   "execution_count": 125,
   "id": "324e3dc6-1e46-48db-aa5f-2c14e84d25b0",
   "metadata": {},
   "outputs": [],
   "source": [
    "sorted_precip = np.sort(south_precip.flatten())"
   ]
  },
  {
   "cell_type": "code",
   "execution_count": null,
   "id": "17c5fca3-dbdf-4f13-ae47-b2483bde4d84",
   "metadata": {},
   "outputs": [],
   "source": []
  },
  {
   "cell_type": "code",
   "execution_count": 126,
   "id": "074c1da8-1edd-4f02-b0a3-23e47f7e9929",
   "metadata": {},
   "outputs": [],
   "source": [
    "percentile = 0.9"
   ]
  },
  {
   "cell_type": "code",
   "execution_count": 127,
   "id": "70e26c1a-6231-42f0-8ccd-562999c51a7f",
   "metadata": {},
   "outputs": [
    {
     "data": {
      "text/plain": [
       "95904000.0"
      ]
     },
     "execution_count": 127,
     "metadata": {},
     "output_type": "execute_result"
    }
   ],
   "source": [
    "percentile * np.size(sorted_precip)"
   ]
  },
  {
   "cell_type": "code",
   "execution_count": 128,
   "id": "505970a3-b687-4336-8558-c2ddef9efdf2",
   "metadata": {},
   "outputs": [],
   "source": [
    "percentile_ind = int(percentile * np.size(sorted_precip))"
   ]
  },
  {
   "cell_type": "code",
   "execution_count": 129,
   "id": "890e23cb-86a9-42a3-a675-5d8009a41a0c",
   "metadata": {},
   "outputs": [],
   "source": [
    "extreme_ind = (sorted_precip[percentile_ind] + sorted_precip[percentile_ind+1]) / 2.0"
   ]
  },
  {
   "cell_type": "code",
   "execution_count": 130,
   "id": "6f89c8a1-79f6-431c-b9c1-f913cd85a98a",
   "metadata": {},
   "outputs": [],
   "source": [
    "total_extremes = np.sum(south_precip > extreme_ind)"
   ]
  },
  {
   "cell_type": "code",
   "execution_count": 131,
   "id": "21655872-ea55-4c8a-9e4e-db771c6859c5",
   "metadata": {},
   "outputs": [
    {
     "data": {
      "text/plain": [
       "9.999998123123124"
      ]
     },
     "execution_count": 131,
     "metadata": {},
     "output_type": "execute_result"
    }
   ],
   "source": [
    "(total_extremes / np.size(south_precip)) *100"
   ]
  },
  {
   "cell_type": "code",
   "execution_count": 132,
   "id": "b8323ed5-1b11-4c54-98a5-32f3ad095def",
   "metadata": {},
   "outputs": [],
   "source": [
    "state_extremes = np.sum(np.logical_and(wherestates, south_precip > extreme_ind))"
   ]
  },
  {
   "cell_type": "code",
   "execution_count": 133,
   "id": "1521d133-ea70-4aa3-87ca-9dfc4037b7ec",
   "metadata": {},
   "outputs": [
    {
     "data": {
      "text/plain": [
       "42.107477873025125"
      ]
     },
     "execution_count": 133,
     "metadata": {},
     "output_type": "execute_result"
    }
   ],
   "source": [
    "(state_extremes / total_extremes) * 100"
   ]
  },
  {
   "cell_type": "code",
   "execution_count": null,
   "id": "fb74f947-7f4c-408b-b382-93d3fc26063f",
   "metadata": {},
   "outputs": [],
   "source": []
  },
  {
   "cell_type": "code",
   "execution_count": 134,
   "id": "6da627af-1bbe-45ea-b86c-3187f706b39d",
   "metadata": {},
   "outputs": [],
   "source": [
    "percentile = 0.99"
   ]
  },
  {
   "cell_type": "code",
   "execution_count": 135,
   "id": "8eb03641-4177-4382-9b69-e57dea3bdda7",
   "metadata": {},
   "outputs": [
    {
     "data": {
      "text/plain": [
       "105494400.0"
      ]
     },
     "execution_count": 135,
     "metadata": {},
     "output_type": "execute_result"
    }
   ],
   "source": [
    "percentile * np.size(sorted_precip)"
   ]
  },
  {
   "cell_type": "code",
   "execution_count": 136,
   "id": "8e073804-97cc-4c92-b50a-a10352e1cc48",
   "metadata": {},
   "outputs": [],
   "source": [
    "percentile_ind = int(percentile * np.size(sorted_precip))"
   ]
  },
  {
   "cell_type": "code",
   "execution_count": 137,
   "id": "72cbddf6-5df5-403a-ab39-ba4de28918c1",
   "metadata": {},
   "outputs": [],
   "source": [
    "extreme_ind = (sorted_precip[percentile_ind] + sorted_precip[percentile_ind+1]) / 2.0"
   ]
  },
  {
   "cell_type": "code",
   "execution_count": 138,
   "id": "76c50fa4-62b1-4efe-ade9-e8e908d8c1dd",
   "metadata": {},
   "outputs": [],
   "source": [
    "total_extremes = np.sum(south_precip > extreme_ind)"
   ]
  },
  {
   "cell_type": "code",
   "execution_count": 139,
   "id": "ae1850f8-be11-4110-b7d9-94f95ff05934",
   "metadata": {},
   "outputs": [
    {
     "data": {
      "text/plain": [
       "0.9999990615615616"
      ]
     },
     "execution_count": 139,
     "metadata": {},
     "output_type": "execute_result"
    }
   ],
   "source": [
    "(total_extremes / np.size(south_precip)) *100"
   ]
  },
  {
   "cell_type": "code",
   "execution_count": 140,
   "id": "326e24e6-d7a7-4860-abb0-ffb81cb7118f",
   "metadata": {},
   "outputs": [],
   "source": [
    "state_extremes = np.sum(np.logical_and(wherestates, south_precip > extreme_ind))"
   ]
  },
  {
   "cell_type": "code",
   "execution_count": 141,
   "id": "698d82d8-e9b6-40a0-ad7b-1e083634d926",
   "metadata": {},
   "outputs": [
    {
     "data": {
      "text/plain": [
       "60.836111895750655"
      ]
     },
     "execution_count": 141,
     "metadata": {},
     "output_type": "execute_result"
    }
   ],
   "source": [
    "(state_extremes / total_extremes) * 100"
   ]
  },
  {
   "cell_type": "code",
   "execution_count": null,
   "id": "cacd323f-b6cf-4443-93b1-3760622ca3cb",
   "metadata": {},
   "outputs": [],
   "source": []
  },
  {
   "cell_type": "code",
   "execution_count": 142,
   "id": "449ad035-564f-4a9e-85e7-9a8a328ea344",
   "metadata": {},
   "outputs": [],
   "source": [
    "percentile = 0.999"
   ]
  },
  {
   "cell_type": "code",
   "execution_count": 143,
   "id": "f4b8ed5d-ae70-4b39-bde7-9096080b12dd",
   "metadata": {},
   "outputs": [
    {
     "data": {
      "text/plain": [
       "106453440.0"
      ]
     },
     "execution_count": 143,
     "metadata": {},
     "output_type": "execute_result"
    }
   ],
   "source": [
    "percentile * np.size(sorted_precip)"
   ]
  },
  {
   "cell_type": "code",
   "execution_count": 144,
   "id": "88bbd01b-e33c-4172-92d4-a3b24ba5531c",
   "metadata": {},
   "outputs": [],
   "source": [
    "percentile_ind = int(percentile * np.size(sorted_precip))"
   ]
  },
  {
   "cell_type": "code",
   "execution_count": 145,
   "id": "b056b199-6695-4a48-9808-b46cbc4c92b0",
   "metadata": {},
   "outputs": [],
   "source": [
    "extreme_ind = (sorted_precip[percentile_ind] + sorted_precip[percentile_ind+1]) / 2.0"
   ]
  },
  {
   "cell_type": "code",
   "execution_count": 146,
   "id": "7fb095d9-f09b-4c9f-b9cb-19362f6dc0a5",
   "metadata": {},
   "outputs": [],
   "source": [
    "total_extremes = np.sum(south_precip > extreme_ind)"
   ]
  },
  {
   "cell_type": "code",
   "execution_count": 147,
   "id": "02756a6c-ac82-440b-81fe-f5fab4fed405",
   "metadata": {},
   "outputs": [
    {
     "data": {
      "text/plain": [
       "0.09999906156156156"
      ]
     },
     "execution_count": 147,
     "metadata": {},
     "output_type": "execute_result"
    }
   ],
   "source": [
    "(total_extremes / np.size(south_precip)) *100"
   ]
  },
  {
   "cell_type": "code",
   "execution_count": 148,
   "id": "86d07ec2-57f4-4100-912a-cc0c33262be8",
   "metadata": {},
   "outputs": [],
   "source": [
    "state_extremes = np.sum(np.logical_and(wherestates, south_precip > extreme_ind))"
   ]
  },
  {
   "cell_type": "code",
   "execution_count": 149,
   "id": "5df8338b-d822-4a35-98ca-a2410c1c6b45",
   "metadata": {},
   "outputs": [
    {
     "data": {
      "text/plain": [
       "76.43465122608133"
      ]
     },
     "execution_count": 149,
     "metadata": {},
     "output_type": "execute_result"
    }
   ],
   "source": [
    "(state_extremes / total_extremes) * 100"
   ]
  },
  {
   "cell_type": "code",
   "execution_count": null,
   "id": "b39b1160-8173-41d5-9db2-3f8e7d90b569",
   "metadata": {},
   "outputs": [],
   "source": []
  },
  {
   "cell_type": "code",
   "execution_count": null,
   "id": "47927ef1-3055-4889-a4f0-caf1b8e436c2",
   "metadata": {},
   "outputs": [],
   "source": []
  },
  {
   "cell_type": "markdown",
   "id": "a226378f-a007-4eff-9396-80ae9ccf13bb",
   "metadata": {},
   "source": [
    "## combined extra-tropics"
   ]
  },
  {
   "cell_type": "code",
   "execution_count": null,
   "id": "38db608e-1736-49c0-bb63-b159de1d31ad",
   "metadata": {},
   "outputs": [],
   "source": []
  },
  {
   "cell_type": "code",
   "execution_count": 26,
   "id": "84dfdd23-c7f6-41ee-a121-53558eb91b97",
   "metadata": {},
   "outputs": [
    {
     "data": {
      "text/plain": [
       "(500, 185, 1152)"
      ]
     },
     "execution_count": 26,
     "metadata": {},
     "output_type": "execute_result"
    }
   ],
   "source": [
    "north_precip = precip_field[:, ntropic_lat:arctic_lat, :]\n",
    "np.shape(north_precip)"
   ]
  },
  {
   "cell_type": "code",
   "execution_count": 30,
   "id": "d153a329-fc46-4099-a1b6-634a4ad7e9f7",
   "metadata": {},
   "outputs": [],
   "source": [
    "sorted_north = np.sort(north_precip.flatten())"
   ]
  },
  {
   "cell_type": "code",
   "execution_count": 27,
   "id": "33eed69c-1997-417e-9e69-075480bc3e40",
   "metadata": {},
   "outputs": [
    {
     "data": {
      "text/plain": [
       "(500, 185, 1152)"
      ]
     },
     "execution_count": 27,
     "metadata": {},
     "output_type": "execute_result"
    }
   ],
   "source": [
    "north_states = state_field[:, ntropic_lat:arctic_lat, :]\n",
    "np.shape(north_states)"
   ]
  },
  {
   "cell_type": "code",
   "execution_count": 28,
   "id": "3ba46f01-9906-4c92-b4e3-799df984dbf2",
   "metadata": {},
   "outputs": [],
   "source": [
    "north_filt = np.ones(np.shape(north_states), dtype=int)\n",
    "north_filt[north_states==13] = 0\n",
    "north_filt[north_states==0] = 0"
   ]
  },
  {
   "cell_type": "code",
   "execution_count": 29,
   "id": "7376bcbb-4e50-4b83-952f-045ba10bbfb4",
   "metadata": {},
   "outputs": [],
   "source": [
    "where_north = north_filt == 1"
   ]
  },
  {
   "cell_type": "code",
   "execution_count": null,
   "id": "2feb95db-58ef-4885-9353-4d2ff5201354",
   "metadata": {},
   "outputs": [],
   "source": []
  },
  {
   "cell_type": "code",
   "execution_count": 22,
   "id": "5f274ab9-eac4-49c9-819c-0f570f1c2de4",
   "metadata": {},
   "outputs": [
    {
     "data": {
      "text/plain": [
       "(500, 185, 1152)"
      ]
     },
     "execution_count": 22,
     "metadata": {},
     "output_type": "execute_result"
    }
   ],
   "source": [
    "south_precip = precip_field[:, antarctic_lat:stropic_lat, :]\n",
    "np.shape(south_precip)"
   ]
  },
  {
   "cell_type": "code",
   "execution_count": 31,
   "id": "55ce7106-e3e0-4651-a37f-0ebb2234ad9d",
   "metadata": {},
   "outputs": [],
   "source": [
    "sorted_south = np.sort(south_precip.flatten())"
   ]
  },
  {
   "cell_type": "code",
   "execution_count": 23,
   "id": "4e0af654-13b0-41f5-92aa-fdac048b460b",
   "metadata": {},
   "outputs": [
    {
     "data": {
      "text/plain": [
       "(500, 185, 1152)"
      ]
     },
     "execution_count": 23,
     "metadata": {},
     "output_type": "execute_result"
    }
   ],
   "source": [
    "south_states = state_field[:, antarctic_lat:stropic_lat, :]\n",
    "np.shape(south_states)"
   ]
  },
  {
   "cell_type": "code",
   "execution_count": 24,
   "id": "0af4aa93-4639-45f6-b285-b9fea1687ccb",
   "metadata": {},
   "outputs": [],
   "source": [
    "south_filt = np.ones(np.shape(south_states), dtype=int)\n",
    "south_filt[south_states==13] = 0\n",
    "south_filt[south_states==0] = 0"
   ]
  },
  {
   "cell_type": "code",
   "execution_count": 25,
   "id": "dfa06fcf-b5bd-4701-8a85-4d1bb353ba96",
   "metadata": {},
   "outputs": [],
   "source": [
    "where_south = south_filt == 1"
   ]
  },
  {
   "cell_type": "code",
   "execution_count": null,
   "id": "c74650f0-34a2-4c1d-8052-6a5835cb746c",
   "metadata": {},
   "outputs": [],
   "source": []
  },
  {
   "cell_type": "code",
   "execution_count": null,
   "id": "6e128bd0-ef27-47c6-9e2d-b4e28c85a34e",
   "metadata": {},
   "outputs": [],
   "source": []
  },
  {
   "cell_type": "code",
   "execution_count": 32,
   "id": "605d4758-8d21-4f87-8ec7-70b9e271e003",
   "metadata": {},
   "outputs": [],
   "source": [
    "percentile = 0.9"
   ]
  },
  {
   "cell_type": "code",
   "execution_count": 33,
   "id": "17f6fb9d-98b8-4ea2-a9bb-c9802851ce3e",
   "metadata": {},
   "outputs": [
    {
     "data": {
      "text/plain": [
       "95904000.0"
      ]
     },
     "execution_count": 33,
     "metadata": {},
     "output_type": "execute_result"
    }
   ],
   "source": [
    "percentile * np.size(sorted_north)"
   ]
  },
  {
   "cell_type": "code",
   "execution_count": 34,
   "id": "eb3800c4-e6d3-488c-b012-5b489b27bcd8",
   "metadata": {},
   "outputs": [],
   "source": [
    "percentile_ind = int(percentile * np.size(sorted_north))"
   ]
  },
  {
   "cell_type": "code",
   "execution_count": 35,
   "id": "6f05e2ee-9a47-4271-b0c7-a70e03caf840",
   "metadata": {},
   "outputs": [],
   "source": [
    "extreme_ind = (sorted_north[percentile_ind] + sorted_north[percentile_ind+1]) / 2.0"
   ]
  },
  {
   "cell_type": "code",
   "execution_count": 36,
   "id": "6f307041-5cd7-49d1-aed6-b19ce08a2211",
   "metadata": {},
   "outputs": [],
   "source": [
    "total_north = np.sum(north_precip > extreme_ind)"
   ]
  },
  {
   "cell_type": "code",
   "execution_count": 37,
   "id": "8ee28bf8-83ff-4639-a586-59a512880f24",
   "metadata": {},
   "outputs": [
    {
     "data": {
      "text/plain": [
       "9.999998123123124"
      ]
     },
     "execution_count": 37,
     "metadata": {},
     "output_type": "execute_result"
    }
   ],
   "source": [
    "(total_north / np.size(north_precip)) *100"
   ]
  },
  {
   "cell_type": "code",
   "execution_count": 38,
   "id": "835f5494-5f70-4c2a-965d-ab085e210b53",
   "metadata": {},
   "outputs": [],
   "source": [
    "lcs_north = np.sum(np.logical_and(where_north, north_precip > extreme_ind))"
   ]
  },
  {
   "cell_type": "code",
   "execution_count": null,
   "id": "b1b4f1a1-2a7d-4dd2-b89b-b86b8ca7d0e0",
   "metadata": {},
   "outputs": [],
   "source": []
  },
  {
   "cell_type": "code",
   "execution_count": 39,
   "id": "c72e118b-c330-42a1-94f2-a0fbce187824",
   "metadata": {},
   "outputs": [],
   "source": [
    "percentile_ind = int(percentile * np.size(sorted_south))"
   ]
  },
  {
   "cell_type": "code",
   "execution_count": 40,
   "id": "75f7aa61-c2f5-43d9-b271-09e387835936",
   "metadata": {},
   "outputs": [],
   "source": [
    "extreme_ind = (sorted_south[percentile_ind] + sorted_south[percentile_ind+1]) / 2.0"
   ]
  },
  {
   "cell_type": "code",
   "execution_count": 41,
   "id": "0c8bd65c-759f-4089-9b91-f806e94d5777",
   "metadata": {},
   "outputs": [],
   "source": [
    "total_south = np.sum(south_precip > extreme_ind)"
   ]
  },
  {
   "cell_type": "code",
   "execution_count": 42,
   "id": "2ce8e983-b394-4155-9f5e-588b89bb4d7d",
   "metadata": {},
   "outputs": [
    {
     "data": {
      "text/plain": [
       "9.999998123123124"
      ]
     },
     "execution_count": 42,
     "metadata": {},
     "output_type": "execute_result"
    }
   ],
   "source": [
    "(total_south / np.size(south_precip)) *100"
   ]
  },
  {
   "cell_type": "code",
   "execution_count": 43,
   "id": "2991429c-28b6-4997-a07e-fdc2bc788dd6",
   "metadata": {},
   "outputs": [],
   "source": [
    "lcs_south = np.sum(np.logical_and(where_south, south_precip > extreme_ind))"
   ]
  },
  {
   "cell_type": "code",
   "execution_count": null,
   "id": "92d5cee1-8355-4bc1-a38b-bab918e16489",
   "metadata": {},
   "outputs": [],
   "source": []
  },
  {
   "cell_type": "code",
   "execution_count": 44,
   "id": "b87d998e-9833-4a83-a3a8-3196ca043930",
   "metadata": {},
   "outputs": [
    {
     "data": {
      "text/plain": [
       "40.80985187872596"
      ]
     },
     "execution_count": 44,
     "metadata": {},
     "output_type": "execute_result"
    }
   ],
   "source": [
    "((lcs_north + lcs_south) / (total_north + total_south)) * 100"
   ]
  },
  {
   "cell_type": "code",
   "execution_count": null,
   "id": "3f208acf-2c6e-444b-bcd3-402762d06ba3",
   "metadata": {},
   "outputs": [],
   "source": []
  },
  {
   "cell_type": "code",
   "execution_count": null,
   "id": "fb24d9f7-21aa-4d64-a4ab-771be9b3cba9",
   "metadata": {},
   "outputs": [],
   "source": []
  },
  {
   "cell_type": "code",
   "execution_count": 45,
   "id": "6a69cbaa-c9c5-420f-bab7-c49499fb92f6",
   "metadata": {},
   "outputs": [],
   "source": [
    "percentile = 0.99"
   ]
  },
  {
   "cell_type": "code",
   "execution_count": 46,
   "id": "f48fb779-ffc6-4647-8890-69adc438c043",
   "metadata": {},
   "outputs": [
    {
     "data": {
      "text/plain": [
       "105494400.0"
      ]
     },
     "execution_count": 46,
     "metadata": {},
     "output_type": "execute_result"
    }
   ],
   "source": [
    "percentile * np.size(sorted_north)"
   ]
  },
  {
   "cell_type": "code",
   "execution_count": 47,
   "id": "d4c7ddac-3d91-4738-8f84-054e993d4be6",
   "metadata": {},
   "outputs": [],
   "source": [
    "percentile_ind = int(percentile * np.size(sorted_north))"
   ]
  },
  {
   "cell_type": "code",
   "execution_count": 48,
   "id": "e815a2e2-4ef9-4f89-8d46-5b7509d0592b",
   "metadata": {},
   "outputs": [],
   "source": [
    "extreme_ind = (sorted_north[percentile_ind] + sorted_north[percentile_ind+1]) / 2.0"
   ]
  },
  {
   "cell_type": "code",
   "execution_count": 49,
   "id": "9306c0e7-c742-42fd-93db-c67c694fa25e",
   "metadata": {},
   "outputs": [],
   "source": [
    "total_north = np.sum(north_precip > extreme_ind)"
   ]
  },
  {
   "cell_type": "code",
   "execution_count": 50,
   "id": "e78d0c3b-a887-42d1-be71-645ce5588542",
   "metadata": {},
   "outputs": [
    {
     "data": {
      "text/plain": [
       "0.9999990615615616"
      ]
     },
     "execution_count": 50,
     "metadata": {},
     "output_type": "execute_result"
    }
   ],
   "source": [
    "(total_north / np.size(north_precip)) *100"
   ]
  },
  {
   "cell_type": "code",
   "execution_count": 51,
   "id": "41fe7725-1c6f-4eb0-b823-3698689dd494",
   "metadata": {},
   "outputs": [],
   "source": [
    "lcs_north = np.sum(np.logical_and(where_north, north_precip > extreme_ind))"
   ]
  },
  {
   "cell_type": "code",
   "execution_count": null,
   "id": "27b24083-ed77-4d7f-af3d-878f4292dd7e",
   "metadata": {},
   "outputs": [],
   "source": []
  },
  {
   "cell_type": "code",
   "execution_count": 52,
   "id": "b3967e8b-41cf-47b8-90ff-48fef48624b3",
   "metadata": {},
   "outputs": [],
   "source": [
    "percentile_ind = int(percentile * np.size(sorted_south))"
   ]
  },
  {
   "cell_type": "code",
   "execution_count": 53,
   "id": "21b02f34-635f-4434-ae3e-d51ededb7e44",
   "metadata": {},
   "outputs": [],
   "source": [
    "extreme_ind = (sorted_south[percentile_ind] + sorted_south[percentile_ind+1]) / 2.0"
   ]
  },
  {
   "cell_type": "code",
   "execution_count": 54,
   "id": "5c44c08b-5494-4711-afa3-af711f171ed5",
   "metadata": {},
   "outputs": [],
   "source": [
    "total_south = np.sum(south_precip > extreme_ind)"
   ]
  },
  {
   "cell_type": "code",
   "execution_count": 55,
   "id": "46256144-55fe-47b0-a681-c332f7ca36f1",
   "metadata": {},
   "outputs": [
    {
     "data": {
      "text/plain": [
       "0.9999990615615616"
      ]
     },
     "execution_count": 55,
     "metadata": {},
     "output_type": "execute_result"
    }
   ],
   "source": [
    "(total_south / np.size(south_precip)) *100"
   ]
  },
  {
   "cell_type": "code",
   "execution_count": 56,
   "id": "b51fa2b7-c831-4937-8d68-82899dd3acd5",
   "metadata": {},
   "outputs": [],
   "source": [
    "lcs_south = np.sum(np.logical_and(where_south, south_precip > extreme_ind))"
   ]
  },
  {
   "cell_type": "code",
   "execution_count": null,
   "id": "5e724ff5-4f9c-45b4-bd17-480f50c75fec",
   "metadata": {},
   "outputs": [],
   "source": []
  },
  {
   "cell_type": "code",
   "execution_count": 57,
   "id": "ef485df8-d050-4c09-9519-7d800190239f",
   "metadata": {},
   "outputs": [
    {
     "data": {
      "text/plain": [
       "57.80162143545555"
      ]
     },
     "execution_count": 57,
     "metadata": {},
     "output_type": "execute_result"
    }
   ],
   "source": [
    "((lcs_north + lcs_south) / (total_north + total_south)) * 100"
   ]
  },
  {
   "cell_type": "code",
   "execution_count": null,
   "id": "e4f99f21-3f88-4ca0-bfc1-a755fb442458",
   "metadata": {},
   "outputs": [],
   "source": []
  },
  {
   "cell_type": "code",
   "execution_count": null,
   "id": "7bdccc7c-fcab-4c0f-8e5a-e533f0658470",
   "metadata": {},
   "outputs": [],
   "source": []
  },
  {
   "cell_type": "code",
   "execution_count": 58,
   "id": "c7821a45-771f-4174-ab37-5e95328db68c",
   "metadata": {},
   "outputs": [],
   "source": [
    "percentile = 0.999"
   ]
  },
  {
   "cell_type": "code",
   "execution_count": 59,
   "id": "e0efff5c-f010-496d-be1a-65f2abb96317",
   "metadata": {},
   "outputs": [
    {
     "data": {
      "text/plain": [
       "106453440.0"
      ]
     },
     "execution_count": 59,
     "metadata": {},
     "output_type": "execute_result"
    }
   ],
   "source": [
    "percentile * np.size(sorted_north)"
   ]
  },
  {
   "cell_type": "code",
   "execution_count": 60,
   "id": "c839b71b-09ff-41f2-b976-601f69f57e13",
   "metadata": {},
   "outputs": [],
   "source": [
    "percentile_ind = int(percentile * np.size(sorted_north))"
   ]
  },
  {
   "cell_type": "code",
   "execution_count": 61,
   "id": "efa31fa7-aaa4-4946-b89a-9e927809fdaf",
   "metadata": {},
   "outputs": [],
   "source": [
    "extreme_ind = (sorted_north[percentile_ind] + sorted_north[percentile_ind+1]) / 2.0"
   ]
  },
  {
   "cell_type": "code",
   "execution_count": 62,
   "id": "ca05b80c-e120-4fed-872b-85546c741b6e",
   "metadata": {},
   "outputs": [],
   "source": [
    "total_north = np.sum(north_precip > extreme_ind)"
   ]
  },
  {
   "cell_type": "code",
   "execution_count": 63,
   "id": "ba234925-5758-4385-acaf-c8d19d3a3a87",
   "metadata": {},
   "outputs": [
    {
     "data": {
      "text/plain": [
       "0.09999906156156156"
      ]
     },
     "execution_count": 63,
     "metadata": {},
     "output_type": "execute_result"
    }
   ],
   "source": [
    "(total_north / np.size(north_precip)) *100"
   ]
  },
  {
   "cell_type": "code",
   "execution_count": 64,
   "id": "49293535-7984-47e3-b5ad-abf68ba2684d",
   "metadata": {},
   "outputs": [],
   "source": [
    "lcs_north = np.sum(np.logical_and(where_north, north_precip > extreme_ind))"
   ]
  },
  {
   "cell_type": "code",
   "execution_count": null,
   "id": "8469a569-db87-4d14-a111-b3a34996def2",
   "metadata": {},
   "outputs": [],
   "source": []
  },
  {
   "cell_type": "code",
   "execution_count": 65,
   "id": "e9a5cd95-082e-4cc7-94a7-1bf31f351163",
   "metadata": {},
   "outputs": [],
   "source": [
    "percentile_ind = int(percentile * np.size(sorted_south))"
   ]
  },
  {
   "cell_type": "code",
   "execution_count": 66,
   "id": "217cefad-a8fc-447d-bd96-37204351793b",
   "metadata": {},
   "outputs": [],
   "source": [
    "extreme_ind = (sorted_south[percentile_ind] + sorted_south[percentile_ind+1]) / 2.0"
   ]
  },
  {
   "cell_type": "code",
   "execution_count": 67,
   "id": "ef6d9a59-f2f0-40d6-950b-75dee5b73f38",
   "metadata": {},
   "outputs": [],
   "source": [
    "total_south = np.sum(south_precip > extreme_ind)"
   ]
  },
  {
   "cell_type": "code",
   "execution_count": 68,
   "id": "33a6cb5e-7568-47f0-91c8-fd4f427e13ab",
   "metadata": {},
   "outputs": [
    {
     "data": {
      "text/plain": [
       "0.09999906156156156"
      ]
     },
     "execution_count": 68,
     "metadata": {},
     "output_type": "execute_result"
    }
   ],
   "source": [
    "(total_south / np.size(south_precip)) *100"
   ]
  },
  {
   "cell_type": "code",
   "execution_count": 69,
   "id": "944c6823-391e-4a49-b258-925bbc3759c0",
   "metadata": {},
   "outputs": [],
   "source": [
    "lcs_south = np.sum(np.logical_and(where_south, south_precip > extreme_ind))"
   ]
  },
  {
   "cell_type": "code",
   "execution_count": null,
   "id": "16aff824-3e58-41fb-99e2-776306a610c7",
   "metadata": {},
   "outputs": [],
   "source": []
  },
  {
   "cell_type": "code",
   "execution_count": 70,
   "id": "536e2cc8-4e79-4960-a667-569c4ea39d4c",
   "metadata": {},
   "outputs": [
    {
     "data": {
      "text/plain": [
       "77.82449159620491"
      ]
     },
     "execution_count": 70,
     "metadata": {},
     "output_type": "execute_result"
    }
   ],
   "source": [
    "((lcs_north + lcs_south) / (total_north + total_south)) * 100"
   ]
  },
  {
   "cell_type": "code",
   "execution_count": null,
   "id": "ab886e0b-7ae2-4eee-b093-4db64ad59e85",
   "metadata": {},
   "outputs": [],
   "source": []
  },
  {
   "cell_type": "code",
   "execution_count": null,
   "id": "6cc318e5-f612-4e4d-8f47-58c220892308",
   "metadata": {},
   "outputs": [],
   "source": []
  },
  {
   "cell_type": "markdown",
   "id": "e531ca67-fd50-427c-b657-79183aad71e2",
   "metadata": {},
   "source": [
    "## TECA results"
   ]
  },
  {
   "cell_type": "code",
   "execution_count": null,
   "id": "14032c0a-ce44-43e1-bf24-3f0af323aa2b",
   "metadata": {},
   "outputs": [],
   "source": []
  },
  {
   "cell_type": "code",
   "execution_count": 2,
   "id": "4cc39558-9e2f-45cc-87e4-26113a059301",
   "metadata": {},
   "outputs": [],
   "source": [
    "run_dir =  \"D:/Adam/Extracted-Disco-Data/AR-Extracted-Data/netcdf_data/\"\n",
    "obs_fields = []\n",
    "lcsdir =  \"D:/Adam/Extracted-Disco-Data/IVT_alt/result-16/fields/\"\n",
    "lcsfiles = sorted(os.listdir(lcsdir))"
   ]
  },
  {
   "cell_type": "code",
   "execution_count": 3,
   "id": "bb8853d2-6061-49d9-87f1-f8ca51b6fc95",
   "metadata": {},
   "outputs": [],
   "source": [
    "for (i,s) in enumerate(lcsfiles):\n",
    "    index = i%8\n",
    "    if index == 0:\n",
    "        obs_name = s[:-6]+'00000.nc'\n",
    "        # obs_name = obs_name[:43]+obs_name[44:46]+'2'+obs_name[47:]\n",
    "        obs_load = Dataset(run_dir+obs_name, 'r')[\"PRECT\"][:]\n",
    "    obs_field = obs_load[index]\n",
    "    obs_fields.append(obs_field)"
   ]
  },
  {
   "cell_type": "code",
   "execution_count": 4,
   "id": "6c7e0244-06a9-4a71-97d1-21f51e4eb49b",
   "metadata": {},
   "outputs": [],
   "source": [
    "precip_field = np.stack(obs_fields)"
   ]
  },
  {
   "cell_type": "code",
   "execution_count": 5,
   "id": "895aa3ce-fbe0-49ea-9d8d-ec27652a76ed",
   "metadata": {},
   "outputs": [
    {
     "data": {
      "text/plain": [
       "(500, 768, 1152)"
      ]
     },
     "execution_count": 5,
     "metadata": {},
     "output_type": "execute_result"
    }
   ],
   "source": [
    "np.shape(precip_field)"
   ]
  },
  {
   "cell_type": "code",
   "execution_count": null,
   "id": "ab73356b-f1f9-4fbd-a3be-f90204c0fd45",
   "metadata": {},
   "outputs": [],
   "source": []
  },
  {
   "cell_type": "code",
   "execution_count": 6,
   "id": "d50361d3-f325-4f9e-9ce5-2391bc79ac89",
   "metadata": {},
   "outputs": [],
   "source": [
    "tecadir = \"D:/Adam/Extracted-Disco-Data/TECA/TECA-BARD/\"\n",
    "tecafiles = sorted(os.listdir(tecadir))"
   ]
  },
  {
   "cell_type": "code",
   "execution_count": 7,
   "id": "98d1befb-cc6a-4b14-92c9-11be1a89bebe",
   "metadata": {},
   "outputs": [],
   "source": [
    "teca_field = []\n",
    "for (i,s) in enumerate(tecafiles):\n",
    "    teca_prob = Dataset(tecadir+s, \"r\")[\"ar_probability\"][:]\n",
    "    teca_load = teca_prob >= 2.0/3.0\n",
    "    teca_field.append(teca_load)\n",
    "ar_field = np.vstack(teca_field)"
   ]
  },
  {
   "cell_type": "code",
   "execution_count": 8,
   "id": "c91d0e2b-5ee4-4d3f-af46-e829d6724b88",
   "metadata": {},
   "outputs": [
    {
     "data": {
      "text/plain": [
       "(504, 768, 1152)"
      ]
     },
     "execution_count": 8,
     "metadata": {},
     "output_type": "execute_result"
    }
   ],
   "source": [
    "np.shape(ar_field)"
   ]
  },
  {
   "cell_type": "code",
   "execution_count": null,
   "id": "bb7a5e25-540d-4cb1-b27d-e55710dd1724",
   "metadata": {},
   "outputs": [],
   "source": []
  },
  {
   "cell_type": "code",
   "execution_count": 9,
   "id": "03614441-8427-4946-ac32-e74927c44a89",
   "metadata": {},
   "outputs": [],
   "source": [
    "tc_field = np.load(\"D:/Adam/Extracted-Disco-Data/TECA/TC/TC_seg_field.npy\")"
   ]
  },
  {
   "cell_type": "code",
   "execution_count": 10,
   "id": "acf4a32a-fd5a-43b9-b551-db0a5bf657d8",
   "metadata": {},
   "outputs": [
    {
     "data": {
      "text/plain": [
       "(500, 768, 1152)"
      ]
     },
     "execution_count": 10,
     "metadata": {},
     "output_type": "execute_result"
    }
   ],
   "source": [
    "np.shape(tc_field)"
   ]
  },
  {
   "cell_type": "markdown",
   "id": "fa2c70b7-3f08-4e0b-b50e-578afcd01277",
   "metadata": {},
   "source": [
    "### combine to make teca field"
   ]
  },
  {
   "cell_type": "code",
   "execution_count": 11,
   "id": "4a2f85ff-5557-432b-ae86-6df36e345f83",
   "metadata": {},
   "outputs": [
    {
     "data": {
      "text/plain": [
       "(500, 768, 1152)"
      ]
     },
     "execution_count": 11,
     "metadata": {},
     "output_type": "execute_result"
    }
   ],
   "source": [
    "np.shape(ar_field[:-4])"
   ]
  },
  {
   "cell_type": "code",
   "execution_count": 12,
   "id": "8c9b421e-2f63-44ba-8bff-e79743b7afdb",
   "metadata": {},
   "outputs": [
    {
     "data": {
      "text/plain": [
       "(500, 768, 1152)"
      ]
     },
     "execution_count": 12,
     "metadata": {},
     "output_type": "execute_result"
    }
   ],
   "source": [
    "teca_field = tc_field+ar_field[:-4]\n",
    "np.shape(teca_field)"
   ]
  },
  {
   "cell_type": "code",
   "execution_count": 13,
   "id": "0356bc13-6863-40e0-8740-0b48df460b62",
   "metadata": {},
   "outputs": [],
   "source": [
    "masked_teca = np.ma.masked_array(teca_field, teca_field==0)"
   ]
  },
  {
   "cell_type": "code",
   "execution_count": 14,
   "id": "5e460eb5-ad13-46ab-a9ed-be873069c80d",
   "metadata": {},
   "outputs": [],
   "source": [
    "where_teca = teca_field == 1"
   ]
  },
  {
   "cell_type": "code",
   "execution_count": 15,
   "id": "fe30c93e-dd61-46fb-ab3a-80909b639c4a",
   "metadata": {},
   "outputs": [
    {
     "data": {
      "text/plain": [
       "True"
      ]
     },
     "execution_count": 15,
     "metadata": {},
     "output_type": "execute_result"
    }
   ],
   "source": [
    "np.array_equal(np.invert(masked_teca.mask), where_teca)"
   ]
  },
  {
   "cell_type": "markdown",
   "id": "db753176-5d7c-48b1-ba03-ad28de75c802",
   "metadata": {},
   "source": [
    "total spacetime volume of teca seg masks"
   ]
  },
  {
   "cell_type": "code",
   "execution_count": 16,
   "id": "93493f7f-efdc-4343-bbc0-428e5bc4c412",
   "metadata": {},
   "outputs": [
    {
     "data": {
      "text/plain": [
       "3.2665296766493053"
      ]
     },
     "execution_count": 16,
     "metadata": {},
     "output_type": "execute_result"
    }
   ],
   "source": [
    "np.sum(where_teca) / np.size(precip_field) * 100"
   ]
  },
  {
   "cell_type": "markdown",
   "id": "cddc65b8-ef21-42f2-bd82-79b968af36c8",
   "metadata": {},
   "source": [
    "don't need `where_teca` field"
   ]
  },
  {
   "cell_type": "code",
   "execution_count": 17,
   "id": "2cb5e264-e841-4dc9-8eaf-e4eb4864aad2",
   "metadata": {},
   "outputs": [
    {
     "data": {
      "text/plain": [
       "3.2665296766493053"
      ]
     },
     "execution_count": 17,
     "metadata": {},
     "output_type": "execute_result"
    }
   ],
   "source": [
    "np.sum(teca_field) / np.size(teca_field) * 100"
   ]
  },
  {
   "cell_type": "code",
   "execution_count": null,
   "id": "fb8339c4-f10f-4da8-9e6a-6bad728152d2",
   "metadata": {},
   "outputs": [],
   "source": []
  },
  {
   "cell_type": "markdown",
   "id": "614f5be4-7dd4-4a56-bcc5-d46e15e243e4",
   "metadata": {},
   "source": [
    "### total precip with teca masks"
   ]
  },
  {
   "cell_type": "code",
   "execution_count": 18,
   "id": "0341e146-52d2-4b83-aa3c-4f86fce3a644",
   "metadata": {},
   "outputs": [],
   "source": [
    "maskedprecip = np.ma.masked_array(precip_field, masked_teca.mask)"
   ]
  },
  {
   "cell_type": "code",
   "execution_count": 19,
   "id": "7bd2ffbe-3572-4497-a88c-052f1e63d1af",
   "metadata": {},
   "outputs": [
    {
     "data": {
      "text/plain": [
       "14.397989213466644"
      ]
     },
     "execution_count": 19,
     "metadata": {},
     "output_type": "execute_result"
    }
   ],
   "source": [
    "(np.sum(maskedprecip) / np.sum(precip_field)) * 100"
   ]
  },
  {
   "cell_type": "code",
   "execution_count": null,
   "id": "c682fe2d-f18e-4753-8e14-7d7ec18e1ebb",
   "metadata": {},
   "outputs": [],
   "source": []
  },
  {
   "cell_type": "markdown",
   "id": "3d304c74-eb7f-47e9-a8f6-0585fe9850fa",
   "metadata": {},
   "source": [
    "## compute co-occurring precip extremes for different percentiles"
   ]
  },
  {
   "cell_type": "code",
   "execution_count": 34,
   "id": "55f06a61-d748-47d4-92a3-fd3dd1082ecf",
   "metadata": {},
   "outputs": [],
   "source": [
    "sorted_precip = np.sort(precip_field.flatten())"
   ]
  },
  {
   "cell_type": "code",
   "execution_count": null,
   "id": "37c2e639-3e2f-4d9c-8533-0c53bbc7a285",
   "metadata": {},
   "outputs": [],
   "source": []
  },
  {
   "cell_type": "code",
   "execution_count": 35,
   "id": "36cfb76e-115a-4ceb-a283-d7eeb2ffae47",
   "metadata": {},
   "outputs": [],
   "source": [
    "percentile = 0.9"
   ]
  },
  {
   "cell_type": "code",
   "execution_count": 36,
   "id": "c59a9dc6-1ab5-4ce3-a9dd-0f59902702c6",
   "metadata": {},
   "outputs": [
    {
     "data": {
      "text/plain": [
       "398131200.0"
      ]
     },
     "execution_count": 36,
     "metadata": {},
     "output_type": "execute_result"
    }
   ],
   "source": [
    "percentile * np.size(sorted_precip)"
   ]
  },
  {
   "cell_type": "code",
   "execution_count": 37,
   "id": "82c23223-247d-4804-bd66-3fb79044e1bc",
   "metadata": {},
   "outputs": [],
   "source": [
    "percentile_ind = int(percentile * np.size(sorted_precip))"
   ]
  },
  {
   "cell_type": "code",
   "execution_count": 38,
   "id": "d62828db-9766-46a8-a4f4-63f07077247a",
   "metadata": {},
   "outputs": [],
   "source": [
    "extreme_ind = (sorted_precip[percentile_ind] + sorted_precip[percentile_ind+1]) / 2.0"
   ]
  },
  {
   "cell_type": "code",
   "execution_count": 39,
   "id": "2051b8e5-f9de-4d5e-8484-752d4d2bea7d",
   "metadata": {},
   "outputs": [],
   "source": [
    "total_extremes = np.sum(precip_field > extreme_ind)"
   ]
  },
  {
   "cell_type": "markdown",
   "id": "c235318f-2ffe-46a1-8ccd-58276233f475",
   "metadata": {},
   "source": [
    "make sure percentile is working properly"
   ]
  },
  {
   "cell_type": "code",
   "execution_count": 40,
   "id": "9ed04831-c740-402b-b2d4-6f44387d2fb1",
   "metadata": {},
   "outputs": [
    {
     "data": {
      "text/plain": [
       "9.999999773943866"
      ]
     },
     "execution_count": 40,
     "metadata": {},
     "output_type": "execute_result"
    }
   ],
   "source": [
    "(total_extremes / np.size(precip_field)) *100"
   ]
  },
  {
   "cell_type": "code",
   "execution_count": 43,
   "id": "b2a8c8a3-ce3c-423d-910c-2649d5ba867e",
   "metadata": {},
   "outputs": [],
   "source": [
    "teca_extremes = np.sum(np.logical_and(teca_field, precip_field > extreme_ind))"
   ]
  },
  {
   "cell_type": "markdown",
   "id": "0a365212-cf2b-4316-8fab-91dccdd19a58",
   "metadata": {},
   "source": [
    "percent of co-occurring extremes:"
   ]
  },
  {
   "cell_type": "code",
   "execution_count": 44,
   "id": "f52def9e-2314-4305-b252-685f0a98c39e",
   "metadata": {},
   "outputs": [
    {
     "data": {
      "text/plain": [
       "11.037613729691428"
      ]
     },
     "execution_count": 44,
     "metadata": {},
     "output_type": "execute_result"
    }
   ],
   "source": [
    "(teca_extremes / total_extremes) * 100"
   ]
  },
  {
   "cell_type": "code",
   "execution_count": null,
   "id": "9690ed1e-2580-40f7-a7c5-4ac5e91edaab",
   "metadata": {},
   "outputs": [],
   "source": []
  },
  {
   "cell_type": "code",
   "execution_count": 45,
   "id": "33762e5d-1a0b-48e0-9430-d4f17f23d6bf",
   "metadata": {},
   "outputs": [],
   "source": [
    "percentile = 0.99"
   ]
  },
  {
   "cell_type": "code",
   "execution_count": 46,
   "id": "4b0e4f00-5320-48df-a2d5-f403a004134e",
   "metadata": {},
   "outputs": [
    {
     "data": {
      "text/plain": [
       "437944320.0"
      ]
     },
     "execution_count": 46,
     "metadata": {},
     "output_type": "execute_result"
    }
   ],
   "source": [
    "percentile * np.size(sorted_precip)"
   ]
  },
  {
   "cell_type": "code",
   "execution_count": 47,
   "id": "dd0c24f7-0e55-46d8-bfa7-06e1f7ff68a1",
   "metadata": {},
   "outputs": [],
   "source": [
    "percentile_ind = int(percentile * np.size(sorted_precip))"
   ]
  },
  {
   "cell_type": "code",
   "execution_count": 48,
   "id": "03d30412-576d-4bf6-93f3-74dde389e642",
   "metadata": {},
   "outputs": [],
   "source": [
    "extreme_ind = (sorted_precip[percentile_ind] + sorted_precip[percentile_ind+1]) / 2.0"
   ]
  },
  {
   "cell_type": "code",
   "execution_count": 49,
   "id": "f8e983d7-16c8-4624-88d1-c11368c47a47",
   "metadata": {},
   "outputs": [],
   "source": [
    "total_extremes = np.sum(precip_field > extreme_ind)"
   ]
  },
  {
   "cell_type": "markdown",
   "id": "db9de83f-a19a-44d1-99c8-14e02a4672d7",
   "metadata": {},
   "source": [
    "make sure percentile is working properly"
   ]
  },
  {
   "cell_type": "code",
   "execution_count": 50,
   "id": "db2861fd-1651-4041-8afb-2b358f45f521",
   "metadata": {},
   "outputs": [
    {
     "data": {
      "text/plain": [
       "0.9999997739438657"
      ]
     },
     "execution_count": 50,
     "metadata": {},
     "output_type": "execute_result"
    }
   ],
   "source": [
    "(total_extremes / np.size(precip_field)) *100"
   ]
  },
  {
   "cell_type": "code",
   "execution_count": 51,
   "id": "595bcc3b-1462-40f1-a924-df4c3ce129e2",
   "metadata": {},
   "outputs": [],
   "source": [
    "teca_extremes = np.sum(np.logical_and(teca_field, precip_field > extreme_ind))"
   ]
  },
  {
   "cell_type": "markdown",
   "id": "0889918c-b692-442c-9e0a-c3adeeed2312",
   "metadata": {},
   "source": [
    "percent of co-occurring extremes:"
   ]
  },
  {
   "cell_type": "code",
   "execution_count": 52,
   "id": "f3a2e81a-1963-459e-a4fe-eef6b86c4d44",
   "metadata": {},
   "outputs": [
    {
     "data": {
      "text/plain": [
       "27.33462351133525"
      ]
     },
     "execution_count": 52,
     "metadata": {},
     "output_type": "execute_result"
    }
   ],
   "source": [
    "(teca_extremes / total_extremes) * 100"
   ]
  },
  {
   "cell_type": "code",
   "execution_count": null,
   "id": "7747b147-bd3a-400d-8d86-0895f02c8482",
   "metadata": {},
   "outputs": [],
   "source": []
  },
  {
   "cell_type": "code",
   "execution_count": 53,
   "id": "90251bf7-bda5-406b-bb06-29c79a8eaae3",
   "metadata": {},
   "outputs": [],
   "source": [
    "percentile = 0.999"
   ]
  },
  {
   "cell_type": "code",
   "execution_count": 54,
   "id": "2e6aeab7-6fc4-4fc1-a795-7968e734de69",
   "metadata": {},
   "outputs": [
    {
     "data": {
      "text/plain": [
       "441925632.0"
      ]
     },
     "execution_count": 54,
     "metadata": {},
     "output_type": "execute_result"
    }
   ],
   "source": [
    "percentile * np.size(sorted_precip)"
   ]
  },
  {
   "cell_type": "code",
   "execution_count": 55,
   "id": "7785e63f-a3be-4ff8-b3dc-6cd7945b5e05",
   "metadata": {},
   "outputs": [],
   "source": [
    "percentile_ind = int(percentile * np.size(sorted_precip))"
   ]
  },
  {
   "cell_type": "code",
   "execution_count": 56,
   "id": "0b390db6-84f5-485e-9a0a-6e72474d7877",
   "metadata": {},
   "outputs": [],
   "source": [
    "extreme_ind = (sorted_precip[percentile_ind] + sorted_precip[percentile_ind+1]) / 2.0"
   ]
  },
  {
   "cell_type": "code",
   "execution_count": 57,
   "id": "c0a7f21d-aedf-4f93-9fbc-0e18cf80ed4b",
   "metadata": {},
   "outputs": [],
   "source": [
    "total_extremes = np.sum(precip_field > extreme_ind)"
   ]
  },
  {
   "cell_type": "markdown",
   "id": "49adc64e-e0e9-48a1-ab4c-6e4f1b570ccb",
   "metadata": {},
   "source": [
    "make sure percentile is working properly"
   ]
  },
  {
   "cell_type": "code",
   "execution_count": 58,
   "id": "9f5c3f09-4aa7-48b7-b92e-a5c4196d374d",
   "metadata": {},
   "outputs": [
    {
     "data": {
      "text/plain": [
       "0.09999977394386574"
      ]
     },
     "execution_count": 58,
     "metadata": {},
     "output_type": "execute_result"
    }
   ],
   "source": [
    "(total_extremes / np.size(precip_field)) *100"
   ]
  },
  {
   "cell_type": "code",
   "execution_count": 59,
   "id": "ecdf571e-426c-48da-82cb-d310205bc18f",
   "metadata": {},
   "outputs": [],
   "source": [
    "teca_extremes = np.sum(np.logical_and(teca_field, precip_field > extreme_ind))"
   ]
  },
  {
   "cell_type": "markdown",
   "id": "3a23e4bd-4bed-4012-a6c2-9db83e82bbaf",
   "metadata": {},
   "source": [
    "percent of co-occurring extremes:"
   ]
  },
  {
   "cell_type": "code",
   "execution_count": 60,
   "id": "65aa64d4-dca7-4974-bef7-8bb9f3ec4207",
   "metadata": {},
   "outputs": [
    {
     "data": {
      "text/plain": [
       "21.754335201314746"
      ]
     },
     "execution_count": 60,
     "metadata": {},
     "output_type": "execute_result"
    }
   ],
   "source": [
    "(teca_extremes / total_extremes) * 100"
   ]
  },
  {
   "cell_type": "code",
   "execution_count": null,
   "id": "f33013f1-b8f5-454a-a790-6164c567586f",
   "metadata": {},
   "outputs": [],
   "source": []
  },
  {
   "cell_type": "code",
   "execution_count": null,
   "id": "df30c30d-c71a-4397-98eb-7eadf4c3d134",
   "metadata": {},
   "outputs": [],
   "source": []
  },
  {
   "cell_type": "markdown",
   "id": "f22cb2e7-2f87-4745-a361-bb5a5aec3d3d",
   "metadata": {
    "tags": []
   },
   "source": [
    "## Calculations for zonal extremes"
   ]
  },
  {
   "cell_type": "code",
   "execution_count": null,
   "id": "6f8799c7-fa37-4b0f-9ab0-a35e41172412",
   "metadata": {},
   "outputs": [],
   "source": []
  },
  {
   "cell_type": "markdown",
   "id": "2decc5d7-0786-4b3c-a24e-f1bd262f48e2",
   "metadata": {},
   "source": [
    "### tropics"
   ]
  },
  {
   "cell_type": "code",
   "execution_count": 48,
   "id": "eef1c34e-f846-4d33-96e2-fb7da3eafa4e",
   "metadata": {},
   "outputs": [
    {
     "data": {
      "text/plain": [
       "(500, 768, 1152)"
      ]
     },
     "execution_count": 48,
     "metadata": {},
     "output_type": "execute_result"
    }
   ],
   "source": [
    "np.shape(precip_field)"
   ]
  },
  {
   "cell_type": "code",
   "execution_count": 61,
   "id": "2d6b20a7-b994-422f-9884-3c20066418d8",
   "metadata": {},
   "outputs": [
    {
     "data": {
      "text/plain": [
       "(500, 199, 1152)"
      ]
     },
     "execution_count": 61,
     "metadata": {},
     "output_type": "execute_result"
    }
   ],
   "source": [
    "tropic_precip = precip_field[:, stropic_lat:ntropic_lat, :]\n",
    "np.shape(tropic_precip)"
   ]
  },
  {
   "cell_type": "code",
   "execution_count": 64,
   "id": "124362e4-b0a1-4b6a-9063-8e63e968fd65",
   "metadata": {},
   "outputs": [
    {
     "data": {
      "text/plain": [
       "(500, 199, 1152)"
      ]
     },
     "execution_count": 64,
     "metadata": {},
     "output_type": "execute_result"
    }
   ],
   "source": [
    "tropic_teca = teca_field[:, stropic_lat:ntropic_lat, :]\n",
    "np.shape(tropic_teca)"
   ]
  },
  {
   "cell_type": "code",
   "execution_count": null,
   "id": "320ad387-cb0b-4d6c-9a5f-b01aa2b1af6f",
   "metadata": {},
   "outputs": [],
   "source": []
  },
  {
   "cell_type": "code",
   "execution_count": 65,
   "id": "6e87d440-7d96-4663-badc-1058b1550c5e",
   "metadata": {},
   "outputs": [],
   "source": [
    "sorted_precip = np.sort(tropic_precip.flatten())"
   ]
  },
  {
   "cell_type": "code",
   "execution_count": null,
   "id": "ad109147-83e3-448b-929e-6d40096df95d",
   "metadata": {},
   "outputs": [],
   "source": []
  },
  {
   "cell_type": "code",
   "execution_count": 66,
   "id": "8218f8ba-4ded-4d1f-b225-84544294308f",
   "metadata": {},
   "outputs": [],
   "source": [
    "percentile = 0.9"
   ]
  },
  {
   "cell_type": "code",
   "execution_count": 67,
   "id": "fe94c6cc-8e99-4998-bce5-29cf81e493aa",
   "metadata": {},
   "outputs": [
    {
     "data": {
      "text/plain": [
       "103161600.0"
      ]
     },
     "execution_count": 67,
     "metadata": {},
     "output_type": "execute_result"
    }
   ],
   "source": [
    "percentile * np.size(sorted_precip)"
   ]
  },
  {
   "cell_type": "code",
   "execution_count": 68,
   "id": "029d0eab-16a0-44b0-bc41-e0714859a074",
   "metadata": {},
   "outputs": [],
   "source": [
    "percentile_ind = int(percentile * np.size(sorted_precip))"
   ]
  },
  {
   "cell_type": "code",
   "execution_count": 69,
   "id": "05470ff2-93c6-4be1-b140-6e2c54650b1a",
   "metadata": {},
   "outputs": [],
   "source": [
    "extreme_ind = (sorted_precip[percentile_ind] + sorted_precip[percentile_ind+1]) / 2.0"
   ]
  },
  {
   "cell_type": "code",
   "execution_count": 70,
   "id": "9914db79-1df1-4010-998f-63336272227d",
   "metadata": {},
   "outputs": [],
   "source": [
    "total_extremes = np.sum(tropic_precip > extreme_ind)"
   ]
  },
  {
   "cell_type": "code",
   "execution_count": 71,
   "id": "f9717640-ee5a-4ad6-8592-19e667bb18a3",
   "metadata": {},
   "outputs": [
    {
     "data": {
      "text/plain": [
       "9.999999127582356"
      ]
     },
     "execution_count": 71,
     "metadata": {},
     "output_type": "execute_result"
    }
   ],
   "source": [
    "(total_extremes / np.size(tropic_precip)) *100"
   ]
  },
  {
   "cell_type": "code",
   "execution_count": 72,
   "id": "83181b2f-6770-4498-a095-e48a09a1d3af",
   "metadata": {},
   "outputs": [],
   "source": [
    "teca_extremes = np.sum(np.logical_and(tropic_teca, tropic_precip > extreme_ind))"
   ]
  },
  {
   "cell_type": "code",
   "execution_count": 73,
   "id": "635e55f1-6870-470d-84ec-cdb54727a911",
   "metadata": {},
   "outputs": [
    {
     "data": {
      "text/plain": [
       "0.49680699476610435"
      ]
     },
     "execution_count": 73,
     "metadata": {},
     "output_type": "execute_result"
    }
   ],
   "source": [
    "(teca_extremes / total_extremes) * 100"
   ]
  },
  {
   "cell_type": "code",
   "execution_count": null,
   "id": "50d03199-2ccf-457b-91be-c27b52f60131",
   "metadata": {},
   "outputs": [],
   "source": []
  },
  {
   "cell_type": "code",
   "execution_count": 74,
   "id": "6fe5462e-7e35-41a9-959d-5b86c25eaf60",
   "metadata": {},
   "outputs": [],
   "source": [
    "percentile = 0.99"
   ]
  },
  {
   "cell_type": "code",
   "execution_count": 75,
   "id": "7d6c6a2b-7913-439f-8d27-ca12098fd33b",
   "metadata": {},
   "outputs": [
    {
     "data": {
      "text/plain": [
       "113477760.0"
      ]
     },
     "execution_count": 75,
     "metadata": {},
     "output_type": "execute_result"
    }
   ],
   "source": [
    "percentile * np.size(sorted_precip)"
   ]
  },
  {
   "cell_type": "code",
   "execution_count": 76,
   "id": "5f8c3440-47ec-4140-b085-d05de6451b7e",
   "metadata": {},
   "outputs": [],
   "source": [
    "percentile_ind = int(percentile * np.size(sorted_precip))"
   ]
  },
  {
   "cell_type": "code",
   "execution_count": 77,
   "id": "b1e0294c-d9d0-48e8-a6ca-b0535d86f2ac",
   "metadata": {},
   "outputs": [],
   "source": [
    "extreme_ind = (sorted_precip[percentile_ind] + sorted_precip[percentile_ind+1]) / 2.0"
   ]
  },
  {
   "cell_type": "code",
   "execution_count": 78,
   "id": "809e9d2c-d39a-4c68-bef8-8e52b449fddd",
   "metadata": {},
   "outputs": [],
   "source": [
    "total_extremes = np.sum(tropic_precip > extreme_ind)"
   ]
  },
  {
   "cell_type": "code",
   "execution_count": 79,
   "id": "e9bb791e-8381-4b2e-b7e6-8be30d521ad1",
   "metadata": {},
   "outputs": [
    {
     "data": {
      "text/plain": [
       "0.9999991275823562"
      ]
     },
     "execution_count": 79,
     "metadata": {},
     "output_type": "execute_result"
    }
   ],
   "source": [
    "(total_extremes / np.size(tropic_precip)) *100"
   ]
  },
  {
   "cell_type": "code",
   "execution_count": 80,
   "id": "b0ff7c9e-b0df-493b-b60c-f5c03a149442",
   "metadata": {},
   "outputs": [],
   "source": [
    "teca_extremes = np.sum(np.logical_and(tropic_teca, tropic_precip > extreme_ind))"
   ]
  },
  {
   "cell_type": "code",
   "execution_count": 81,
   "id": "2e42b25d-e964-418f-9615-8bbeeea96cbc",
   "metadata": {},
   "outputs": [
    {
     "data": {
      "text/plain": [
       "1.4284978961630166"
      ]
     },
     "execution_count": 81,
     "metadata": {},
     "output_type": "execute_result"
    }
   ],
   "source": [
    "(teca_extremes / total_extremes) * 100"
   ]
  },
  {
   "cell_type": "code",
   "execution_count": null,
   "id": "b2de0179-72f5-4835-98d1-9502c449877f",
   "metadata": {},
   "outputs": [],
   "source": []
  },
  {
   "cell_type": "code",
   "execution_count": 82,
   "id": "25725b64-216f-4c65-9bb7-5db092acb4a6",
   "metadata": {},
   "outputs": [],
   "source": [
    "percentile = 0.999"
   ]
  },
  {
   "cell_type": "code",
   "execution_count": 83,
   "id": "b7924e8e-fec7-41fc-b3bc-3e587385b3b3",
   "metadata": {},
   "outputs": [
    {
     "data": {
      "text/plain": [
       "114509376.0"
      ]
     },
     "execution_count": 83,
     "metadata": {},
     "output_type": "execute_result"
    }
   ],
   "source": [
    "percentile * np.size(sorted_precip)"
   ]
  },
  {
   "cell_type": "code",
   "execution_count": 84,
   "id": "63485607-53f3-4dd3-a72b-cd5a6758f017",
   "metadata": {},
   "outputs": [],
   "source": [
    "percentile_ind = int(percentile * np.size(sorted_precip))"
   ]
  },
  {
   "cell_type": "code",
   "execution_count": 85,
   "id": "eb52b23c-2c68-44ad-a276-8c38d0cbaa06",
   "metadata": {},
   "outputs": [],
   "source": [
    "extreme_ind = (sorted_precip[percentile_ind] + sorted_precip[percentile_ind+1]) / 2.0"
   ]
  },
  {
   "cell_type": "code",
   "execution_count": 86,
   "id": "8452f603-cd62-4727-ad96-ce44623be2e5",
   "metadata": {},
   "outputs": [],
   "source": [
    "total_extremes = np.sum(tropic_precip > extreme_ind)"
   ]
  },
  {
   "cell_type": "code",
   "execution_count": 87,
   "id": "389bcd48-24fb-4b66-91f7-88a7f30568e9",
   "metadata": {},
   "outputs": [
    {
     "data": {
      "text/plain": [
       "0.09999912758235624"
      ]
     },
     "execution_count": 87,
     "metadata": {},
     "output_type": "execute_result"
    }
   ],
   "source": [
    "(total_extremes / np.size(tropic_precip)) *100"
   ]
  },
  {
   "cell_type": "code",
   "execution_count": 88,
   "id": "1a895325-c9cc-41fe-a025-dacfbd156185",
   "metadata": {},
   "outputs": [],
   "source": [
    "teca_extremes = np.sum(np.logical_and(tropic_teca, tropic_precip > extreme_ind))"
   ]
  },
  {
   "cell_type": "code",
   "execution_count": 89,
   "id": "a94d0d1e-2c02-4acf-8f8a-bfde63112666",
   "metadata": {},
   "outputs": [
    {
     "data": {
      "text/plain": [
       "2.727201347024594"
      ]
     },
     "execution_count": 89,
     "metadata": {},
     "output_type": "execute_result"
    }
   ],
   "source": [
    "(teca_extremes / total_extremes) * 100"
   ]
  },
  {
   "cell_type": "code",
   "execution_count": null,
   "id": "ee606df2-312f-49dc-84a8-db3e076b267d",
   "metadata": {},
   "outputs": [],
   "source": []
  },
  {
   "cell_type": "code",
   "execution_count": null,
   "id": "85aacfcd-25aa-4f62-975b-36c970db8458",
   "metadata": {},
   "outputs": [],
   "source": []
  },
  {
   "cell_type": "markdown",
   "id": "ca832c44-22e7-4427-add5-da34709a87a9",
   "metadata": {
    "tags": []
   },
   "source": [
    "### north temperate"
   ]
  },
  {
   "cell_type": "code",
   "execution_count": 82,
   "id": "53b13dec-0a47-4939-b1a6-f2ba2f03f40f",
   "metadata": {},
   "outputs": [
    {
     "data": {
      "text/plain": [
       "(500, 768, 1152)"
      ]
     },
     "execution_count": 82,
     "metadata": {},
     "output_type": "execute_result"
    }
   ],
   "source": [
    "np.shape(precip_field)"
   ]
  },
  {
   "cell_type": "code",
   "execution_count": 90,
   "id": "6de3d9c6-7417-4b4b-9574-b6ce036fd703",
   "metadata": {},
   "outputs": [
    {
     "data": {
      "text/plain": [
       "(500, 185, 1152)"
      ]
     },
     "execution_count": 90,
     "metadata": {},
     "output_type": "execute_result"
    }
   ],
   "source": [
    "north_precip = precip_field[:, ntropic_lat:arctic_lat, :]\n",
    "np.shape(north_precip)"
   ]
  },
  {
   "cell_type": "code",
   "execution_count": 92,
   "id": "49c41c77-df91-432b-9a72-387d058e81e2",
   "metadata": {},
   "outputs": [
    {
     "data": {
      "text/plain": [
       "(500, 185, 1152)"
      ]
     },
     "execution_count": 92,
     "metadata": {},
     "output_type": "execute_result"
    }
   ],
   "source": [
    "north_teca = teca_field[:, ntropic_lat:arctic_lat, :]\n",
    "np.shape(north_teca)"
   ]
  },
  {
   "cell_type": "code",
   "execution_count": null,
   "id": "ef01027b-4eb7-4a55-85b4-f735fcab9a66",
   "metadata": {},
   "outputs": [],
   "source": []
  },
  {
   "cell_type": "code",
   "execution_count": 93,
   "id": "b895ccce-6067-44f4-8928-ebbe95b2ad28",
   "metadata": {},
   "outputs": [],
   "source": [
    "sorted_precip = np.sort(north_precip.flatten())"
   ]
  },
  {
   "cell_type": "code",
   "execution_count": null,
   "id": "31ab28da-5bc2-4963-99b5-ed153fc5a9c7",
   "metadata": {},
   "outputs": [],
   "source": []
  },
  {
   "cell_type": "code",
   "execution_count": 94,
   "id": "d47ac855-569b-4378-87c0-383198df3bce",
   "metadata": {},
   "outputs": [],
   "source": [
    "percentile = 0.9"
   ]
  },
  {
   "cell_type": "code",
   "execution_count": 95,
   "id": "e7e6b876-6910-4956-a3d0-4510e928b248",
   "metadata": {},
   "outputs": [
    {
     "data": {
      "text/plain": [
       "95904000.0"
      ]
     },
     "execution_count": 95,
     "metadata": {},
     "output_type": "execute_result"
    }
   ],
   "source": [
    "percentile * np.size(sorted_precip)"
   ]
  },
  {
   "cell_type": "code",
   "execution_count": 96,
   "id": "e12cbebd-5387-4d32-bf52-4989da001d11",
   "metadata": {},
   "outputs": [],
   "source": [
    "percentile_ind = int(percentile * np.size(sorted_precip))"
   ]
  },
  {
   "cell_type": "code",
   "execution_count": 97,
   "id": "ff19e930-368a-4724-ab67-6cb3ced9dfec",
   "metadata": {},
   "outputs": [],
   "source": [
    "extreme_ind = (sorted_precip[percentile_ind] + sorted_precip[percentile_ind+1]) / 2.0"
   ]
  },
  {
   "cell_type": "code",
   "execution_count": 98,
   "id": "516ca744-e07f-470e-8ee7-c412272ec986",
   "metadata": {},
   "outputs": [],
   "source": [
    "total_extremes = np.sum(north_precip > extreme_ind)"
   ]
  },
  {
   "cell_type": "code",
   "execution_count": 99,
   "id": "8e23ddd5-764e-44d5-9952-72e819b0ab01",
   "metadata": {},
   "outputs": [
    {
     "data": {
      "text/plain": [
       "9.999998123123124"
      ]
     },
     "execution_count": 99,
     "metadata": {},
     "output_type": "execute_result"
    }
   ],
   "source": [
    "(total_extremes / np.size(north_precip)) *100"
   ]
  },
  {
   "cell_type": "code",
   "execution_count": 100,
   "id": "40b1431b-ca78-41a2-aadb-004fd344760f",
   "metadata": {},
   "outputs": [],
   "source": [
    "teca_extremes = np.sum(np.logical_and(north_teca, north_precip > extreme_ind))"
   ]
  },
  {
   "cell_type": "code",
   "execution_count": 101,
   "id": "3029b884-7471-4964-88d7-b912efc91992",
   "metadata": {},
   "outputs": [
    {
     "data": {
      "text/plain": [
       "18.352265081130835"
      ]
     },
     "execution_count": 101,
     "metadata": {},
     "output_type": "execute_result"
    }
   ],
   "source": [
    "(teca_extremes / total_extremes) * 100"
   ]
  },
  {
   "cell_type": "code",
   "execution_count": null,
   "id": "41a87a58-28a2-48bc-91cc-73fe3057a22f",
   "metadata": {},
   "outputs": [],
   "source": []
  },
  {
   "cell_type": "code",
   "execution_count": 102,
   "id": "b892b9ef-e39c-4e60-bda8-08f1df5fdf05",
   "metadata": {},
   "outputs": [],
   "source": [
    "percentile = 0.99"
   ]
  },
  {
   "cell_type": "code",
   "execution_count": 103,
   "id": "e88b1d21-bfa5-41ff-b64b-b5d65bb5d7c5",
   "metadata": {},
   "outputs": [
    {
     "data": {
      "text/plain": [
       "105494400.0"
      ]
     },
     "execution_count": 103,
     "metadata": {},
     "output_type": "execute_result"
    }
   ],
   "source": [
    "percentile * np.size(sorted_precip)"
   ]
  },
  {
   "cell_type": "code",
   "execution_count": 104,
   "id": "85f8bf9d-c6ab-41b9-9fd7-fe5c7c69f92c",
   "metadata": {},
   "outputs": [],
   "source": [
    "percentile_ind = int(percentile * np.size(sorted_precip))"
   ]
  },
  {
   "cell_type": "code",
   "execution_count": 105,
   "id": "5f4cded9-0a8d-4d34-ad16-ce72add08abb",
   "metadata": {},
   "outputs": [],
   "source": [
    "extreme_ind = (sorted_precip[percentile_ind] + sorted_precip[percentile_ind+1]) / 2.0"
   ]
  },
  {
   "cell_type": "code",
   "execution_count": 106,
   "id": "ea3ec643-ac52-4ec9-8149-28c1aaffef4e",
   "metadata": {},
   "outputs": [],
   "source": [
    "total_extremes = np.sum(north_precip > extreme_ind)"
   ]
  },
  {
   "cell_type": "code",
   "execution_count": 107,
   "id": "57c12e92-936a-4f01-85f3-b58c8b56d51c",
   "metadata": {},
   "outputs": [
    {
     "data": {
      "text/plain": [
       "0.9999990615615616"
      ]
     },
     "execution_count": 107,
     "metadata": {},
     "output_type": "execute_result"
    }
   ],
   "source": [
    "(total_extremes / np.size(north_precip)) *100"
   ]
  },
  {
   "cell_type": "code",
   "execution_count": 108,
   "id": "fab5e4b4-445b-49e6-921f-0947ebbb4485",
   "metadata": {},
   "outputs": [],
   "source": [
    "teca_extremes = np.sum(np.logical_and(north_teca, north_precip > extreme_ind))"
   ]
  },
  {
   "cell_type": "code",
   "execution_count": 109,
   "id": "10698dbd-c0b1-40e5-bf56-7f6051a30f1b",
   "metadata": {},
   "outputs": [
    {
     "data": {
      "text/plain": [
       "39.72864088648732"
      ]
     },
     "execution_count": 109,
     "metadata": {},
     "output_type": "execute_result"
    }
   ],
   "source": [
    "(teca_extremes / total_extremes) * 100"
   ]
  },
  {
   "cell_type": "code",
   "execution_count": null,
   "id": "c8fcc68b-ffe1-47c2-962f-f3215b8d29fd",
   "metadata": {},
   "outputs": [],
   "source": []
  },
  {
   "cell_type": "code",
   "execution_count": 110,
   "id": "049b1c60-ec2d-4f6f-9520-84e6a2b972da",
   "metadata": {},
   "outputs": [],
   "source": [
    "percentile = 0.999"
   ]
  },
  {
   "cell_type": "code",
   "execution_count": 111,
   "id": "12d3ff15-15e7-4dc6-9cb9-52d154bb88f9",
   "metadata": {},
   "outputs": [
    {
     "data": {
      "text/plain": [
       "106453440.0"
      ]
     },
     "execution_count": 111,
     "metadata": {},
     "output_type": "execute_result"
    }
   ],
   "source": [
    "percentile * np.size(sorted_precip)"
   ]
  },
  {
   "cell_type": "code",
   "execution_count": 112,
   "id": "aca38613-3f0d-4d84-b45d-f724b438c7cd",
   "metadata": {},
   "outputs": [],
   "source": [
    "percentile_ind = int(percentile * np.size(sorted_precip))"
   ]
  },
  {
   "cell_type": "code",
   "execution_count": 113,
   "id": "7eef5aad-332c-42b4-92b7-35f0753021fd",
   "metadata": {},
   "outputs": [],
   "source": [
    "extreme_ind = (sorted_precip[percentile_ind] + sorted_precip[percentile_ind+1]) / 2.0"
   ]
  },
  {
   "cell_type": "code",
   "execution_count": 114,
   "id": "952b353e-c062-4f07-a6b6-e797a1cda79e",
   "metadata": {},
   "outputs": [],
   "source": [
    "total_extremes = np.sum(north_precip > extreme_ind)"
   ]
  },
  {
   "cell_type": "code",
   "execution_count": 115,
   "id": "e1d73406-c20b-4318-89e2-5aa5cb714f4a",
   "metadata": {},
   "outputs": [
    {
     "data": {
      "text/plain": [
       "0.09999906156156156"
      ]
     },
     "execution_count": 115,
     "metadata": {},
     "output_type": "execute_result"
    }
   ],
   "source": [
    "(total_extremes / np.size(north_precip)) *100"
   ]
  },
  {
   "cell_type": "code",
   "execution_count": 116,
   "id": "e843347f-559d-48a3-8a54-74298f791101",
   "metadata": {},
   "outputs": [],
   "source": [
    "teca_extremes = np.sum(np.logical_and(north_teca, north_precip > extreme_ind))"
   ]
  },
  {
   "cell_type": "code",
   "execution_count": 117,
   "id": "a840407a-ddab-4b72-9e49-7369263aabae",
   "metadata": {},
   "outputs": [
    {
     "data": {
      "text/plain": [
       "52.28371137116527"
      ]
     },
     "execution_count": 117,
     "metadata": {},
     "output_type": "execute_result"
    }
   ],
   "source": [
    "(teca_extremes / total_extremes) * 100"
   ]
  },
  {
   "cell_type": "code",
   "execution_count": null,
   "id": "08fcf149-f73c-4b35-94b5-c9044a3b3ca1",
   "metadata": {},
   "outputs": [],
   "source": []
  },
  {
   "cell_type": "markdown",
   "id": "c381fbc3-1726-4e1b-8e9b-fe88b295ae94",
   "metadata": {},
   "source": [
    "### south temperate"
   ]
  },
  {
   "cell_type": "code",
   "execution_count": 118,
   "id": "09d819d0-2140-4ac0-a925-57dd7f66b764",
   "metadata": {},
   "outputs": [
    {
     "data": {
      "text/plain": [
       "(500, 768, 1152)"
      ]
     },
     "execution_count": 118,
     "metadata": {},
     "output_type": "execute_result"
    }
   ],
   "source": [
    "np.shape(precip_field)"
   ]
  },
  {
   "cell_type": "code",
   "execution_count": 119,
   "id": "a6eb6342-aeb8-4287-a93c-602d7fff315e",
   "metadata": {},
   "outputs": [
    {
     "data": {
      "text/plain": [
       "(500, 185, 1152)"
      ]
     },
     "execution_count": 119,
     "metadata": {},
     "output_type": "execute_result"
    }
   ],
   "source": [
    "south_precip = precip_field[:, antarctic_lat:stropic_lat, :]\n",
    "np.shape(south_precip)"
   ]
  },
  {
   "cell_type": "code",
   "execution_count": 120,
   "id": "ea57c9c2-3368-472a-b23f-b372ea698bdc",
   "metadata": {},
   "outputs": [
    {
     "data": {
      "text/plain": [
       "(500, 185, 1152)"
      ]
     },
     "execution_count": 120,
     "metadata": {},
     "output_type": "execute_result"
    }
   ],
   "source": [
    "south_teca = teca_field[:, antarctic_lat:stropic_lat, :]\n",
    "np.shape(south_teca)"
   ]
  },
  {
   "cell_type": "code",
   "execution_count": null,
   "id": "aec16485-3ad2-497d-8a72-2a85e4c017a2",
   "metadata": {},
   "outputs": [],
   "source": []
  },
  {
   "cell_type": "code",
   "execution_count": 121,
   "id": "5b462c0f-b9f9-4739-a3c2-55feb7e4c045",
   "metadata": {},
   "outputs": [],
   "source": [
    "sorted_precip = np.sort(south_precip.flatten())"
   ]
  },
  {
   "cell_type": "code",
   "execution_count": null,
   "id": "9f79aefa-ee92-44b9-9d7a-f64dfd6c79df",
   "metadata": {},
   "outputs": [],
   "source": []
  },
  {
   "cell_type": "code",
   "execution_count": 122,
   "id": "a2099dc9-54b6-4326-bd51-845eda410118",
   "metadata": {},
   "outputs": [],
   "source": [
    "percentile = 0.9"
   ]
  },
  {
   "cell_type": "code",
   "execution_count": 123,
   "id": "69185fef-3f6e-4011-a11c-ee8d57f1754e",
   "metadata": {},
   "outputs": [
    {
     "data": {
      "text/plain": [
       "95904000.0"
      ]
     },
     "execution_count": 123,
     "metadata": {},
     "output_type": "execute_result"
    }
   ],
   "source": [
    "percentile * np.size(sorted_precip)"
   ]
  },
  {
   "cell_type": "code",
   "execution_count": 124,
   "id": "9dbd1eb7-04c0-4c0d-a533-43d62a56f36b",
   "metadata": {},
   "outputs": [],
   "source": [
    "percentile_ind = int(percentile * np.size(sorted_precip))"
   ]
  },
  {
   "cell_type": "code",
   "execution_count": 125,
   "id": "a97d8d8e-4d63-45e0-9304-5f3a49cbb1f5",
   "metadata": {},
   "outputs": [],
   "source": [
    "extreme_ind = (sorted_precip[percentile_ind] + sorted_precip[percentile_ind+1]) / 2.0"
   ]
  },
  {
   "cell_type": "code",
   "execution_count": 126,
   "id": "6639e8ec-e3e6-40be-9970-053569feb5ef",
   "metadata": {},
   "outputs": [],
   "source": [
    "total_extremes = np.sum(south_precip > extreme_ind)"
   ]
  },
  {
   "cell_type": "code",
   "execution_count": 127,
   "id": "6c887e2f-4864-4550-b1e7-9055299d295c",
   "metadata": {},
   "outputs": [
    {
     "data": {
      "text/plain": [
       "9.999998123123124"
      ]
     },
     "execution_count": 127,
     "metadata": {},
     "output_type": "execute_result"
    }
   ],
   "source": [
    "(total_extremes / np.size(south_precip)) *100"
   ]
  },
  {
   "cell_type": "code",
   "execution_count": 128,
   "id": "4da232bf-516a-4b16-be4b-557e1deaeaf1",
   "metadata": {},
   "outputs": [],
   "source": [
    "teca_extremes = np.sum(np.logical_and(south_teca, south_precip > extreme_ind))"
   ]
  },
  {
   "cell_type": "code",
   "execution_count": 129,
   "id": "eb88f8c4-b619-43af-bf33-f8e1cf38a92c",
   "metadata": {},
   "outputs": [
    {
     "data": {
      "text/plain": [
       "28.30246402073274"
      ]
     },
     "execution_count": 129,
     "metadata": {},
     "output_type": "execute_result"
    }
   ],
   "source": [
    "(teca_extremes / total_extremes) * 100"
   ]
  },
  {
   "cell_type": "code",
   "execution_count": null,
   "id": "4f7caaef-a1cd-44d6-be17-8fe45d8f2152",
   "metadata": {},
   "outputs": [],
   "source": []
  },
  {
   "cell_type": "code",
   "execution_count": 130,
   "id": "ec3891a4-4834-4cf4-aba9-6c7dc641efc7",
   "metadata": {},
   "outputs": [],
   "source": [
    "percentile = 0.99"
   ]
  },
  {
   "cell_type": "code",
   "execution_count": 131,
   "id": "e930fbe8-fadd-41d9-a717-1bb6813a78fc",
   "metadata": {},
   "outputs": [
    {
     "data": {
      "text/plain": [
       "105494400.0"
      ]
     },
     "execution_count": 131,
     "metadata": {},
     "output_type": "execute_result"
    }
   ],
   "source": [
    "percentile * np.size(sorted_precip)"
   ]
  },
  {
   "cell_type": "code",
   "execution_count": 132,
   "id": "a7ab029e-cd9e-4b1a-afcc-f61bc0a966d7",
   "metadata": {},
   "outputs": [],
   "source": [
    "percentile_ind = int(percentile * np.size(sorted_precip))"
   ]
  },
  {
   "cell_type": "code",
   "execution_count": 133,
   "id": "f84e84c0-0f3c-4cab-a08b-c80d97aae3d7",
   "metadata": {},
   "outputs": [],
   "source": [
    "extreme_ind = (sorted_precip[percentile_ind] + sorted_precip[percentile_ind+1]) / 2.0"
   ]
  },
  {
   "cell_type": "code",
   "execution_count": 134,
   "id": "d317ad5b-019a-46bf-84a3-aa832fbad224",
   "metadata": {},
   "outputs": [],
   "source": [
    "total_extremes = np.sum(south_precip > extreme_ind)"
   ]
  },
  {
   "cell_type": "code",
   "execution_count": 135,
   "id": "17af5304-6183-460e-97aa-fc37318ecb73",
   "metadata": {},
   "outputs": [
    {
     "data": {
      "text/plain": [
       "0.9999990615615616"
      ]
     },
     "execution_count": 135,
     "metadata": {},
     "output_type": "execute_result"
    }
   ],
   "source": [
    "(total_extremes / np.size(south_precip)) *100"
   ]
  },
  {
   "cell_type": "code",
   "execution_count": 136,
   "id": "b0dce0d5-8207-41b5-80ce-a2ec0ec3cdbe",
   "metadata": {},
   "outputs": [],
   "source": [
    "teca_extremes = np.sum(np.logical_and(south_teca, south_precip > extreme_ind))"
   ]
  },
  {
   "cell_type": "code",
   "execution_count": 137,
   "id": "373dee83-e832-4f4c-970c-5c4bc27b5ea2",
   "metadata": {},
   "outputs": [
    {
     "data": {
      "text/plain": [
       "46.7972473697892"
      ]
     },
     "execution_count": 137,
     "metadata": {},
     "output_type": "execute_result"
    }
   ],
   "source": [
    "(teca_extremes / total_extremes) * 100"
   ]
  },
  {
   "cell_type": "code",
   "execution_count": null,
   "id": "8b0bcb30-e27e-4cc0-92b9-24ba4130872c",
   "metadata": {},
   "outputs": [],
   "source": []
  },
  {
   "cell_type": "code",
   "execution_count": 138,
   "id": "14b2f373-3d58-4588-8388-dcb542bc8f54",
   "metadata": {},
   "outputs": [],
   "source": [
    "percentile = 0.999"
   ]
  },
  {
   "cell_type": "code",
   "execution_count": 139,
   "id": "e0e66104-7608-4361-a257-e93faa5a8150",
   "metadata": {},
   "outputs": [
    {
     "data": {
      "text/plain": [
       "106453440.0"
      ]
     },
     "execution_count": 139,
     "metadata": {},
     "output_type": "execute_result"
    }
   ],
   "source": [
    "percentile * np.size(sorted_precip)"
   ]
  },
  {
   "cell_type": "code",
   "execution_count": 140,
   "id": "a72484a2-03b0-4731-9d1c-ad301a9e430b",
   "metadata": {},
   "outputs": [],
   "source": [
    "percentile_ind = int(percentile * np.size(sorted_precip))"
   ]
  },
  {
   "cell_type": "code",
   "execution_count": 141,
   "id": "1a877a17-0aff-4034-bc75-912087ea185f",
   "metadata": {},
   "outputs": [],
   "source": [
    "extreme_ind = (sorted_precip[percentile_ind] + sorted_precip[percentile_ind+1]) / 2.0"
   ]
  },
  {
   "cell_type": "code",
   "execution_count": 142,
   "id": "e85d1297-2d55-44af-b9f9-7c5bb4278cb2",
   "metadata": {},
   "outputs": [],
   "source": [
    "total_extremes = np.sum(south_precip > extreme_ind)"
   ]
  },
  {
   "cell_type": "code",
   "execution_count": 143,
   "id": "49fadb7d-159a-422d-b665-2fcc5f57148e",
   "metadata": {},
   "outputs": [
    {
     "data": {
      "text/plain": [
       "0.09999906156156156"
      ]
     },
     "execution_count": 143,
     "metadata": {},
     "output_type": "execute_result"
    }
   ],
   "source": [
    "(total_extremes / np.size(south_precip)) *100"
   ]
  },
  {
   "cell_type": "code",
   "execution_count": 144,
   "id": "d236ad33-8678-47cb-992d-0e79210b2a0f",
   "metadata": {},
   "outputs": [],
   "source": [
    "teca_extremes = np.sum(np.logical_and(south_teca, south_precip > extreme_ind))"
   ]
  },
  {
   "cell_type": "code",
   "execution_count": 145,
   "id": "cda6a0ef-e2cf-4e0f-aa6e-f4ab5573d59c",
   "metadata": {},
   "outputs": [
    {
     "data": {
      "text/plain": [
       "50.27355737197233"
      ]
     },
     "execution_count": 145,
     "metadata": {},
     "output_type": "execute_result"
    }
   ],
   "source": [
    "(teca_extremes / total_extremes) * 100"
   ]
  },
  {
   "cell_type": "code",
   "execution_count": null,
   "id": "c328aecb-cdc0-4cc2-905d-9dd864dbe5ff",
   "metadata": {},
   "outputs": [],
   "source": []
  },
  {
   "cell_type": "code",
   "execution_count": null,
   "id": "fd75db45-e58e-44a6-8520-4874dc58dc7d",
   "metadata": {},
   "outputs": [],
   "source": []
  },
  {
   "cell_type": "code",
   "execution_count": 146,
   "id": "34260fc4-c6e6-468f-ac17-cb092b825470",
   "metadata": {},
   "outputs": [
    {
     "data": {
      "text/plain": [
       "5.816023738872404"
      ]
     },
     "execution_count": 146,
     "metadata": {},
     "output_type": "execute_result"
    }
   ],
   "source": [
    "19.6 / 3.37"
   ]
  },
  {
   "cell_type": "code",
   "execution_count": null,
   "id": "274e79f5-f5ff-4843-9502-dc9959b30481",
   "metadata": {},
   "outputs": [],
   "source": []
  },
  {
   "cell_type": "code",
   "execution_count": null,
   "id": "27a5a1c3-b91b-4c1a-9a16-444ed0ba9376",
   "metadata": {},
   "outputs": [],
   "source": []
  },
  {
   "cell_type": "markdown",
   "id": "b7c6e7fc-862d-497c-b9de-fc37b722c5f4",
   "metadata": {},
   "source": [
    "### combined extra-tropics"
   ]
  },
  {
   "cell_type": "code",
   "execution_count": null,
   "id": "98df0034-4979-40b8-a003-0f847f497d81",
   "metadata": {},
   "outputs": [],
   "source": []
  },
  {
   "cell_type": "code",
   "execution_count": 82,
   "id": "1c83c124-bd4b-4954-80b9-c8b0235d84a0",
   "metadata": {},
   "outputs": [
    {
     "data": {
      "text/plain": [
       "(500, 768, 1152)"
      ]
     },
     "execution_count": 82,
     "metadata": {},
     "output_type": "execute_result"
    }
   ],
   "source": [
    "np.shape(precip_field)"
   ]
  },
  {
   "cell_type": "code",
   "execution_count": 25,
   "id": "48aed396-6b91-4584-8135-209cde9a682d",
   "metadata": {},
   "outputs": [
    {
     "data": {
      "text/plain": [
       "(500, 185, 1152)"
      ]
     },
     "execution_count": 25,
     "metadata": {},
     "output_type": "execute_result"
    }
   ],
   "source": [
    "north_precip = precip_field[:, ntropic_lat:arctic_lat, :]\n",
    "np.shape(north_precip)"
   ]
  },
  {
   "cell_type": "code",
   "execution_count": 26,
   "id": "f4491285-db3b-4f55-a251-cfacc3606509",
   "metadata": {},
   "outputs": [
    {
     "data": {
      "text/plain": [
       "(500, 185, 1152)"
      ]
     },
     "execution_count": 26,
     "metadata": {},
     "output_type": "execute_result"
    }
   ],
   "source": [
    "north_teca = teca_field[:, ntropic_lat:arctic_lat, :]\n",
    "np.shape(north_teca)"
   ]
  },
  {
   "cell_type": "code",
   "execution_count": 27,
   "id": "8723a878-891d-45bd-aed2-7d1c64243d8d",
   "metadata": {},
   "outputs": [],
   "source": [
    "sorted_north = np.sort(north_precip.flatten())"
   ]
  },
  {
   "cell_type": "code",
   "execution_count": null,
   "id": "565f54a1-0e4f-46a8-ae6a-ac833dd516da",
   "metadata": {},
   "outputs": [],
   "source": []
  },
  {
   "cell_type": "code",
   "execution_count": 28,
   "id": "aacec4ea-e81f-4649-bf1b-0cbf08a8074c",
   "metadata": {},
   "outputs": [
    {
     "data": {
      "text/plain": [
       "(500, 185, 1152)"
      ]
     },
     "execution_count": 28,
     "metadata": {},
     "output_type": "execute_result"
    }
   ],
   "source": [
    "south_precip = precip_field[:, antarctic_lat:stropic_lat, :]\n",
    "np.shape(south_precip)"
   ]
  },
  {
   "cell_type": "code",
   "execution_count": 29,
   "id": "346f9ff3-3454-4d46-bf6e-38332fd20f39",
   "metadata": {},
   "outputs": [
    {
     "data": {
      "text/plain": [
       "(500, 185, 1152)"
      ]
     },
     "execution_count": 29,
     "metadata": {},
     "output_type": "execute_result"
    }
   ],
   "source": [
    "south_teca = teca_field[:, antarctic_lat:stropic_lat, :]\n",
    "np.shape(south_teca)"
   ]
  },
  {
   "cell_type": "code",
   "execution_count": 30,
   "id": "02a5a22c-2d18-4dda-a6be-db80be8e24f8",
   "metadata": {},
   "outputs": [],
   "source": [
    "sorted_south = np.sort(south_precip.flatten())"
   ]
  },
  {
   "cell_type": "code",
   "execution_count": null,
   "id": "8fe1965b-4ff3-45e9-a262-3fed4acd84fc",
   "metadata": {},
   "outputs": [],
   "source": []
  },
  {
   "cell_type": "code",
   "execution_count": null,
   "id": "f1cd4816-7549-47ba-9ce8-42b1a3c1ff54",
   "metadata": {},
   "outputs": [],
   "source": []
  },
  {
   "cell_type": "code",
   "execution_count": 31,
   "id": "fe8be143-0d3d-4d16-a9f4-4ed53025cb6a",
   "metadata": {},
   "outputs": [],
   "source": [
    "percentile = 0.9"
   ]
  },
  {
   "cell_type": "code",
   "execution_count": 33,
   "id": "71de4c1f-0c0d-406c-8793-4cd451797383",
   "metadata": {},
   "outputs": [
    {
     "data": {
      "text/plain": [
       "95904000.0"
      ]
     },
     "execution_count": 33,
     "metadata": {},
     "output_type": "execute_result"
    }
   ],
   "source": [
    "percentile * np.size(sorted_north)"
   ]
  },
  {
   "cell_type": "code",
   "execution_count": 34,
   "id": "5c8f274a-147a-419f-8b9a-3e4ba293d5d9",
   "metadata": {},
   "outputs": [],
   "source": [
    "percentile_ind = int(percentile * np.size(sorted_north))"
   ]
  },
  {
   "cell_type": "code",
   "execution_count": 35,
   "id": "95e77247-4694-4c3f-8f53-b4896a0ed39a",
   "metadata": {},
   "outputs": [],
   "source": [
    "extreme_ind = (sorted_north[percentile_ind] + sorted_north[percentile_ind+1]) / 2.0"
   ]
  },
  {
   "cell_type": "code",
   "execution_count": 36,
   "id": "e470c16a-2454-4cee-9f15-073b4a0ceab6",
   "metadata": {},
   "outputs": [],
   "source": [
    "total_north = np.sum(north_precip > extreme_ind)"
   ]
  },
  {
   "cell_type": "code",
   "execution_count": 38,
   "id": "e4aab39c-df25-490b-b6a4-cc0d2839abcf",
   "metadata": {},
   "outputs": [
    {
     "data": {
      "text/plain": [
       "9.999998123123124"
      ]
     },
     "execution_count": 38,
     "metadata": {},
     "output_type": "execute_result"
    }
   ],
   "source": [
    "(total_north / np.size(north_precip)) *100"
   ]
  },
  {
   "cell_type": "code",
   "execution_count": 39,
   "id": "84f0a3e8-0038-4e17-854b-8208333d5a68",
   "metadata": {},
   "outputs": [],
   "source": [
    "teca_north = np.sum(np.logical_and(north_teca, north_precip > extreme_ind))"
   ]
  },
  {
   "cell_type": "code",
   "execution_count": null,
   "id": "3b2d2a79-be99-4983-98f6-aecd3be5b733",
   "metadata": {},
   "outputs": [],
   "source": []
  },
  {
   "cell_type": "code",
   "execution_count": 40,
   "id": "11a77ab0-5731-47dc-a27c-567dd534a32a",
   "metadata": {},
   "outputs": [],
   "source": [
    "percentile_ind = int(percentile * np.size(sorted_south))"
   ]
  },
  {
   "cell_type": "code",
   "execution_count": 41,
   "id": "40a3c957-eb60-4421-9967-84da73e7035a",
   "metadata": {},
   "outputs": [],
   "source": [
    "extreme_ind = (sorted_south[percentile_ind] + sorted_south[percentile_ind+1]) / 2.0"
   ]
  },
  {
   "cell_type": "code",
   "execution_count": 42,
   "id": "ba58140f-a1c4-4ffc-a137-08fc08d69eed",
   "metadata": {},
   "outputs": [],
   "source": [
    "total_south = np.sum(south_precip > extreme_ind)"
   ]
  },
  {
   "cell_type": "code",
   "execution_count": 43,
   "id": "12cd4868-c93c-4fd7-873e-e5d03e944b78",
   "metadata": {},
   "outputs": [
    {
     "data": {
      "text/plain": [
       "9.999998123123124"
      ]
     },
     "execution_count": 43,
     "metadata": {},
     "output_type": "execute_result"
    }
   ],
   "source": [
    "(total_south / np.size(south_precip)) *100"
   ]
  },
  {
   "cell_type": "code",
   "execution_count": 44,
   "id": "b40a87ea-35cf-4304-aa17-9b6095dd278f",
   "metadata": {},
   "outputs": [],
   "source": [
    "teca_south = np.sum(np.logical_and(south_teca, south_precip > extreme_ind))"
   ]
  },
  {
   "cell_type": "code",
   "execution_count": null,
   "id": "c12f9aeb-cd60-47db-be23-499c707f0069",
   "metadata": {},
   "outputs": [],
   "source": []
  },
  {
   "cell_type": "code",
   "execution_count": 45,
   "id": "a489ceb2-fe9c-4436-8aec-cda69ba748f7",
   "metadata": {},
   "outputs": [
    {
     "data": {
      "text/plain": [
       "23.327364550931783"
      ]
     },
     "execution_count": 45,
     "metadata": {},
     "output_type": "execute_result"
    }
   ],
   "source": [
    "((teca_north + teca_south) / (total_north + total_south)) * 100"
   ]
  },
  {
   "cell_type": "code",
   "execution_count": null,
   "id": "f00ad9d3-cb86-43d0-96df-be0061ae3e82",
   "metadata": {},
   "outputs": [],
   "source": []
  },
  {
   "cell_type": "code",
   "execution_count": null,
   "id": "28f9c770-b931-4e8c-b3c9-2e6cbea1f021",
   "metadata": {},
   "outputs": [],
   "source": []
  },
  {
   "cell_type": "code",
   "execution_count": 46,
   "id": "18cb6a8b-db14-4883-8382-b8660c719463",
   "metadata": {},
   "outputs": [],
   "source": [
    "percentile = 0.99"
   ]
  },
  {
   "cell_type": "code",
   "execution_count": 47,
   "id": "071f0cd8-3f97-4aea-b985-929472f495a4",
   "metadata": {},
   "outputs": [
    {
     "data": {
      "text/plain": [
       "105494400.0"
      ]
     },
     "execution_count": 47,
     "metadata": {},
     "output_type": "execute_result"
    }
   ],
   "source": [
    "percentile * np.size(sorted_north)"
   ]
  },
  {
   "cell_type": "code",
   "execution_count": 48,
   "id": "5d9171ef-49fc-4bb6-a23b-7085378bd222",
   "metadata": {},
   "outputs": [],
   "source": [
    "percentile_ind = int(percentile * np.size(sorted_north))"
   ]
  },
  {
   "cell_type": "code",
   "execution_count": 49,
   "id": "cb2b8e0d-7d76-4f6d-8a55-dcbd5d1558bf",
   "metadata": {},
   "outputs": [],
   "source": [
    "extreme_ind = (sorted_north[percentile_ind] + sorted_north[percentile_ind+1]) / 2.0"
   ]
  },
  {
   "cell_type": "code",
   "execution_count": 50,
   "id": "3aaa5f54-1fe2-4811-9e71-a2a33b826e0a",
   "metadata": {},
   "outputs": [],
   "source": [
    "total_north = np.sum(north_precip > extreme_ind)"
   ]
  },
  {
   "cell_type": "code",
   "execution_count": 51,
   "id": "3dd5604b-2bb4-4570-8ee3-308c10553864",
   "metadata": {},
   "outputs": [
    {
     "data": {
      "text/plain": [
       "0.9999990615615616"
      ]
     },
     "execution_count": 51,
     "metadata": {},
     "output_type": "execute_result"
    }
   ],
   "source": [
    "(total_north / np.size(north_precip)) *100"
   ]
  },
  {
   "cell_type": "code",
   "execution_count": 52,
   "id": "89343514-2a61-4378-aa1a-20688132d9a3",
   "metadata": {},
   "outputs": [],
   "source": [
    "teca_north = np.sum(np.logical_and(north_teca, north_precip > extreme_ind))"
   ]
  },
  {
   "cell_type": "code",
   "execution_count": null,
   "id": "a4b2d978-3da9-4865-b9f2-e2cd3c035966",
   "metadata": {},
   "outputs": [],
   "source": []
  },
  {
   "cell_type": "code",
   "execution_count": 53,
   "id": "230da022-7042-46f8-acd2-7116de15c471",
   "metadata": {},
   "outputs": [],
   "source": [
    "percentile_ind = int(percentile * np.size(sorted_south))"
   ]
  },
  {
   "cell_type": "code",
   "execution_count": 54,
   "id": "3dd92fb9-4b7c-4049-a3a8-2eccfc3f028c",
   "metadata": {},
   "outputs": [],
   "source": [
    "extreme_ind = (sorted_south[percentile_ind] + sorted_south[percentile_ind+1]) / 2.0"
   ]
  },
  {
   "cell_type": "code",
   "execution_count": 55,
   "id": "eaa32592-687e-4821-89c1-eebd5227e5df",
   "metadata": {},
   "outputs": [],
   "source": [
    "total_south = np.sum(south_precip > extreme_ind)"
   ]
  },
  {
   "cell_type": "code",
   "execution_count": 56,
   "id": "c3d4309d-5156-45e0-a718-99002da88eaa",
   "metadata": {},
   "outputs": [
    {
     "data": {
      "text/plain": [
       "0.9999990615615616"
      ]
     },
     "execution_count": 56,
     "metadata": {},
     "output_type": "execute_result"
    }
   ],
   "source": [
    "(total_south / np.size(south_precip)) *100"
   ]
  },
  {
   "cell_type": "code",
   "execution_count": 57,
   "id": "17b19cef-a048-400b-83ee-8b294466c828",
   "metadata": {},
   "outputs": [],
   "source": [
    "teca_south = np.sum(np.logical_and(south_teca, south_precip > extreme_ind))"
   ]
  },
  {
   "cell_type": "code",
   "execution_count": null,
   "id": "0f6f1417-2897-492b-957b-60a136238102",
   "metadata": {},
   "outputs": [],
   "source": []
  },
  {
   "cell_type": "code",
   "execution_count": 58,
   "id": "3b820284-3aaf-4738-b7df-2e4a1ed2dddb",
   "metadata": {},
   "outputs": [
    {
     "data": {
      "text/plain": [
       "43.26294412813826"
      ]
     },
     "execution_count": 58,
     "metadata": {},
     "output_type": "execute_result"
    }
   ],
   "source": [
    "((teca_north + teca_south) / (total_north + total_south)) * 100"
   ]
  },
  {
   "cell_type": "code",
   "execution_count": null,
   "id": "185ef54e-9b1c-4e3a-ba8f-8d24989217a2",
   "metadata": {},
   "outputs": [],
   "source": []
  },
  {
   "cell_type": "code",
   "execution_count": null,
   "id": "fe840ec7-13bf-41ed-9fdb-3215b43f838f",
   "metadata": {},
   "outputs": [],
   "source": []
  },
  {
   "cell_type": "code",
   "execution_count": 59,
   "id": "d4729250-0fb5-4dfb-804c-58159e2b12c9",
   "metadata": {},
   "outputs": [],
   "source": [
    "percentile = 0.999"
   ]
  },
  {
   "cell_type": "code",
   "execution_count": 60,
   "id": "5fd1a12c-1a47-4ab6-bbe7-ab1577d99f15",
   "metadata": {},
   "outputs": [
    {
     "data": {
      "text/plain": [
       "106453440.0"
      ]
     },
     "execution_count": 60,
     "metadata": {},
     "output_type": "execute_result"
    }
   ],
   "source": [
    "percentile * np.size(sorted_north)"
   ]
  },
  {
   "cell_type": "code",
   "execution_count": 61,
   "id": "a189830b-19b6-4b94-a4b8-3cb99ebba1f7",
   "metadata": {},
   "outputs": [],
   "source": [
    "percentile_ind = int(percentile * np.size(sorted_north))"
   ]
  },
  {
   "cell_type": "code",
   "execution_count": 62,
   "id": "c3506f9a-b70c-4b2c-a6b0-38d5956ec35d",
   "metadata": {},
   "outputs": [],
   "source": [
    "extreme_ind = (sorted_north[percentile_ind] + sorted_north[percentile_ind+1]) / 2.0"
   ]
  },
  {
   "cell_type": "code",
   "execution_count": 63,
   "id": "26bae18f-68e2-4560-b626-b39922b60c1d",
   "metadata": {},
   "outputs": [],
   "source": [
    "total_north = np.sum(north_precip > extreme_ind)"
   ]
  },
  {
   "cell_type": "code",
   "execution_count": 64,
   "id": "06787489-527a-4065-b5e4-353c7a2956dc",
   "metadata": {},
   "outputs": [
    {
     "data": {
      "text/plain": [
       "0.09999906156156156"
      ]
     },
     "execution_count": 64,
     "metadata": {},
     "output_type": "execute_result"
    }
   ],
   "source": [
    "(total_north / np.size(north_precip)) *100"
   ]
  },
  {
   "cell_type": "code",
   "execution_count": 65,
   "id": "00008a29-cc8b-4318-a91c-742925e75e5d",
   "metadata": {},
   "outputs": [],
   "source": [
    "teca_north = np.sum(np.logical_and(north_teca, north_precip > extreme_ind))"
   ]
  },
  {
   "cell_type": "code",
   "execution_count": null,
   "id": "44e49471-495b-4ace-93e2-27bef713cca6",
   "metadata": {},
   "outputs": [],
   "source": []
  },
  {
   "cell_type": "code",
   "execution_count": 66,
   "id": "850d4ac9-4f70-407d-88a4-8a8b5ac8a914",
   "metadata": {},
   "outputs": [],
   "source": [
    "percentile_ind = int(percentile * np.size(sorted_south))"
   ]
  },
  {
   "cell_type": "code",
   "execution_count": 67,
   "id": "a3541fc0-9b3b-4739-923b-b5bbda7872e9",
   "metadata": {},
   "outputs": [],
   "source": [
    "extreme_ind = (sorted_south[percentile_ind] + sorted_south[percentile_ind+1]) / 2.0"
   ]
  },
  {
   "cell_type": "code",
   "execution_count": 68,
   "id": "a75ce8f5-8dd5-46ec-9490-86684e5568c4",
   "metadata": {},
   "outputs": [],
   "source": [
    "total_south = np.sum(south_precip > extreme_ind)"
   ]
  },
  {
   "cell_type": "code",
   "execution_count": 69,
   "id": "65710a9b-f905-4dac-9a9e-72ded8ffed6b",
   "metadata": {},
   "outputs": [
    {
     "data": {
      "text/plain": [
       "0.09999906156156156"
      ]
     },
     "execution_count": 69,
     "metadata": {},
     "output_type": "execute_result"
    }
   ],
   "source": [
    "(total_south / np.size(south_precip)) *100"
   ]
  },
  {
   "cell_type": "code",
   "execution_count": 70,
   "id": "94a75752-a9d2-42ad-91b9-c332a36c68c8",
   "metadata": {},
   "outputs": [],
   "source": [
    "teca_south = np.sum(np.logical_and(south_teca, south_precip > extreme_ind))"
   ]
  },
  {
   "cell_type": "code",
   "execution_count": null,
   "id": "1379b820-ba26-4b94-87a5-ad7203b1141c",
   "metadata": {},
   "outputs": [],
   "source": []
  },
  {
   "cell_type": "code",
   "execution_count": 72,
   "id": "d69bae71-4b60-4871-85f2-2cb44070d1a0",
   "metadata": {},
   "outputs": [
    {
     "data": {
      "text/plain": [
       "51.2786343715688"
      ]
     },
     "execution_count": 72,
     "metadata": {},
     "output_type": "execute_result"
    }
   ],
   "source": [
    "((teca_north + teca_south) / (total_north + total_south)) * 100"
   ]
  },
  {
   "cell_type": "code",
   "execution_count": null,
   "id": "79a61ba0-52cd-4495-8060-50c2293b3507",
   "metadata": {},
   "outputs": [],
   "source": []
  }
 ],
 "metadata": {
  "kernelspec": {
   "display_name": "Python 3 (ipykernel)",
   "language": "python",
   "name": "python3"
  },
  "language_info": {
   "codemirror_mode": {
    "name": "ipython",
    "version": 3
   },
   "file_extension": ".py",
   "mimetype": "text/x-python",
   "name": "python",
   "nbconvert_exporter": "python",
   "pygments_lexer": "ipython3",
   "version": "3.8.15"
  }
 },
 "nbformat": 4,
 "nbformat_minor": 5
}
