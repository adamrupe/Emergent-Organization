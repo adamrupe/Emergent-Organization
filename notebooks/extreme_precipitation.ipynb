{
 "cells": [
  {
   "cell_type": "code",
   "execution_count": 1,
   "id": "7cf9580b-2a69-45bf-a036-0fde002d95a0",
   "metadata": {},
   "outputs": [],
   "source": [
    "import numpy as np\n",
    "import os\n",
    "from netCDF4 import Dataset\n",
    "\n",
    "import cartopy.crs as ccrs\n",
    "import matplotlib.pyplot as plt"
   ]
  },
  {
   "cell_type": "code",
   "execution_count": 2,
   "id": "9a253bef-013a-487e-97af-a963c80b58a0",
   "metadata": {},
   "outputs": [],
   "source": [
    "import os, sys\n",
    "module_path = os.path.abspath(os.path.join('C:/Users/Adam.000/Dropbox/Code/DisCo/'))\n",
    "sys.path.append(module_path)\n",
    "from visuals import *"
   ]
  },
  {
   "cell_type": "code",
   "execution_count": 3,
   "id": "18cc4d76-e1c0-40e8-9c07-b2b5808eb2a5",
   "metadata": {},
   "outputs": [],
   "source": [
    "matplotlib.use(\"TkAgg\")\n",
    "%matplotlib inline"
   ]
  },
  {
   "cell_type": "code",
   "execution_count": null,
   "id": "102dae96-f236-4906-bbf0-981b97baffea",
   "metadata": {},
   "outputs": [],
   "source": []
  },
  {
   "cell_type": "code",
   "execution_count": 4,
   "id": "76179a65-181f-44c2-aa09-0f78bb884a60",
   "metadata": {},
   "outputs": [],
   "source": [
    "datadir = \"D:/Adam/Extracted-Disco-Data/CAM5-1-0.25degree_All-Hist_est1_v3_run1.cam.h2.2015-08-29-00000.nc\"\n",
    "obs_load = Dataset(datadir, 'r')\n",
    "lats = obs_load['lat'][:]\n",
    "lons = obs_load['lon'][:]"
   ]
  },
  {
   "cell_type": "code",
   "execution_count": 5,
   "id": "284b5158-8142-4596-be47-58b559114139",
   "metadata": {},
   "outputs": [
    {
     "data": {
      "text/plain": [
       "-90.0"
      ]
     },
     "execution_count": 5,
     "metadata": {},
     "output_type": "execute_result"
    }
   ],
   "source": [
    "lats[0]"
   ]
  },
  {
   "cell_type": "code",
   "execution_count": 6,
   "id": "bc0a5c47-83b1-4a82-b4c9-6898310fcbb2",
   "metadata": {},
   "outputs": [
    {
     "data": {
      "text/plain": [
       "-66.76662320730117"
      ]
     },
     "execution_count": 6,
     "metadata": {},
     "output_type": "execute_result"
    }
   ],
   "source": [
    "lats[99]"
   ]
  },
  {
   "cell_type": "code",
   "execution_count": 7,
   "id": "fad09a15-4191-4cd5-8dca-df25d708bc59",
   "metadata": {},
   "outputs": [],
   "source": [
    "antarctic_lat = 99\n",
    "stropic_lat = 284\n",
    "ntropic_lat = 483\n",
    "arctic_lat = 668"
   ]
  },
  {
   "cell_type": "code",
   "execution_count": null,
   "id": "64a3f9eb-ee0f-44e8-b08b-8fc13a6ed72b",
   "metadata": {},
   "outputs": [],
   "source": []
  },
  {
   "cell_type": "markdown",
   "id": "aaab2a54-9f79-473a-aa39-b16c48ea3d4c",
   "metadata": {},
   "source": [
    "## load fields"
   ]
  },
  {
   "cell_type": "code",
   "execution_count": 8,
   "id": "fafa4ee5-01e7-4f8a-8bc2-f4b41c4203ed",
   "metadata": {},
   "outputs": [],
   "source": [
    "run_dir =  \"D:/Adam/Extracted-Disco-Data/AR-Extracted-Data/netcdf_data/\"\n",
    "obs_fields = []\n",
    "lcsdir =  \"D:/Adam/Extracted-Disco-Data/IVT_alt/result-16/fields/\"\n",
    "lcsfiles = sorted(os.listdir(lcsdir))"
   ]
  },
  {
   "cell_type": "code",
   "execution_count": 9,
   "id": "77ce2e44-433d-4bf4-b51a-f6290e284fb8",
   "metadata": {},
   "outputs": [],
   "source": [
    "for (i,s) in enumerate(lcsfiles):\n",
    "    index = i%8\n",
    "    if index == 0:\n",
    "        obs_name = s[:-6]+'00000.nc'\n",
    "        # obs_name = obs_name[:43]+obs_name[44:46]+'2'+obs_name[47:]\n",
    "        obs_load = Dataset(run_dir+obs_name, 'r')[\"PRECT\"][:]\n",
    "    obs_field = obs_load[index]\n",
    "    obs_fields.append(obs_field)"
   ]
  },
  {
   "cell_type": "code",
   "execution_count": 10,
   "id": "898509e5-926b-467b-8a2f-f57f49a32208",
   "metadata": {},
   "outputs": [],
   "source": [
    "precip_field = np.stack(obs_fields)"
   ]
  },
  {
   "cell_type": "code",
   "execution_count": 11,
   "id": "38103eca-eaf0-47a2-8c91-6b4c87903022",
   "metadata": {},
   "outputs": [
    {
     "data": {
      "text/plain": [
       "(500, 768, 1152)"
      ]
     },
     "execution_count": 11,
     "metadata": {},
     "output_type": "execute_result"
    }
   ],
   "source": [
    "np.shape(precip_field)"
   ]
  },
  {
   "cell_type": "code",
   "execution_count": 12,
   "id": "d44256eb-d755-4462-bfce-d8d5b696b5b4",
   "metadata": {},
   "outputs": [],
   "source": [
    "lcs_fields = []\n",
    "\n",
    "for i,s in enumerate(lcsfiles):\n",
    "    s_field = np.load(lcsdir+s)\n",
    "    lcs_fields.append(s_field)\n",
    "state_field = np.vstack(lcs_fields)"
   ]
  },
  {
   "cell_type": "code",
   "execution_count": 13,
   "id": "5da1f684-1fd2-43d6-b63c-0f8816f8dedc",
   "metadata": {},
   "outputs": [
    {
     "data": {
      "text/plain": [
       "(500, 768, 1152)"
      ]
     },
     "execution_count": 13,
     "metadata": {},
     "output_type": "execute_result"
    }
   ],
   "source": [
    "np.shape(state_field)"
   ]
  },
  {
   "cell_type": "code",
   "execution_count": null,
   "id": "a961a622-8663-4e04-b84f-9f7d21b2f8fb",
   "metadata": {},
   "outputs": [],
   "source": []
  },
  {
   "cell_type": "markdown",
   "id": "e7582870-1314-4d79-8128-da73223f1107",
   "metadata": {},
   "source": [
    "## create masked array to mask out background state from the LCS field"
   ]
  },
  {
   "cell_type": "code",
   "execution_count": 14,
   "id": "e0e6ece9-c7c1-4234-a67c-f2f1f2cf1387",
   "metadata": {},
   "outputs": [],
   "source": [
    "filteredIVT = np.ones(np.shape(state_field), dtype=int)\n",
    "filteredIVT[state_field==13] = 0\n",
    "filteredIVT[state_field==0] = 0 # also include boundary \"null\" state"
   ]
  },
  {
   "cell_type": "code",
   "execution_count": 15,
   "id": "72f6f89b-9b2f-4674-9820-e85cc1e1d5ae",
   "metadata": {},
   "outputs": [],
   "source": [
    "maskedIVT = np.ma.masked_array(filteredIVT, filteredIVT==0)"
   ]
  },
  {
   "cell_type": "code",
   "execution_count": null,
   "id": "550220e8-5e83-4c14-922e-41b8af0365a7",
   "metadata": {},
   "outputs": [],
   "source": []
  },
  {
   "cell_type": "markdown",
   "id": "904ca16a-edbf-4cab-8e4f-0d86a5d794e6",
   "metadata": {
    "tags": []
   },
   "source": [
    "### invert the masked array to first compute total spacetime volume of non-background states, i.e. EWE states "
   ]
  },
  {
   "cell_type": "code",
   "execution_count": 16,
   "id": "daeb85d1-e3d9-4265-8349-47ebda792b19",
   "metadata": {},
   "outputs": [],
   "source": [
    "wherestates = filteredIVT == 1"
   ]
  },
  {
   "cell_type": "code",
   "execution_count": 17,
   "id": "f9cc4449-3ac6-4a49-b40e-01c705d39133",
   "metadata": {},
   "outputs": [],
   "source": [
    "maskedIVT = np.ma.masked_array(filteredIVT, filteredIVT==0)"
   ]
  },
  {
   "cell_type": "code",
   "execution_count": 18,
   "id": "9657f3ca-c7c3-4a76-a4a6-4ab1dc74873a",
   "metadata": {},
   "outputs": [
    {
     "data": {
      "text/plain": [
       "True"
      ]
     },
     "execution_count": 18,
     "metadata": {},
     "output_type": "execute_result"
    }
   ],
   "source": [
    "np.array_equal(np.invert(maskedIVT.mask), wherestates)"
   ]
  },
  {
   "cell_type": "markdown",
   "id": "97092f53-06ec-42fd-873c-651a919e8e40",
   "metadata": {},
   "source": [
    "total spacetime volume:"
   ]
  },
  {
   "cell_type": "code",
   "execution_count": 19,
   "id": "122eb86e-b32d-42b2-b48d-11ed36bc4eab",
   "metadata": {},
   "outputs": [
    {
     "data": {
      "text/plain": [
       "19.610698332609957"
      ]
     },
     "execution_count": 19,
     "metadata": {},
     "output_type": "execute_result"
    }
   ],
   "source": [
    "np.sum(wherestates) / np.size(precip_field) * 100"
   ]
  },
  {
   "cell_type": "code",
   "execution_count": null,
   "id": "1cdf9756-92a4-4c9e-b50a-8a0a9e2b4de1",
   "metadata": {},
   "outputs": [],
   "source": []
  },
  {
   "cell_type": "markdown",
   "id": "483ee555-e359-4fda-a527-b6febdb431ca",
   "metadata": {},
   "source": [
    "### total precip co-occurring with EWE states"
   ]
  },
  {
   "cell_type": "code",
   "execution_count": 20,
   "id": "1a0c3038-e5d1-4244-b260-45646ba12d21",
   "metadata": {},
   "outputs": [],
   "source": [
    "maskedprecip = np.ma.masked_array(precip_field, maskedIVT.mask)"
   ]
  },
  {
   "cell_type": "code",
   "execution_count": 21,
   "id": "cd532732-20a3-48ac-acce-035faa3c86f6",
   "metadata": {},
   "outputs": [
    {
     "data": {
      "text/plain": [
       "48.243916034698486"
      ]
     },
     "execution_count": 21,
     "metadata": {},
     "output_type": "execute_result"
    }
   ],
   "source": [
    "(np.sum(maskedprecip) / np.sum(precip_field)) * 100"
   ]
  },
  {
   "cell_type": "code",
   "execution_count": null,
   "id": "6b4cb3f9-0900-48ac-b441-8c11e78e910f",
   "metadata": {},
   "outputs": [],
   "source": []
  },
  {
   "cell_type": "markdown",
   "id": "d7a96b28-0bd2-45c3-a229-8c7ff4750ac1",
   "metadata": {},
   "source": [
    "## compute co-occurring precip extremes for different percentiles"
   ]
  },
  {
   "cell_type": "code",
   "execution_count": 22,
   "id": "ad1dcff5-5057-4901-941f-5e797ee5ec2c",
   "metadata": {},
   "outputs": [],
   "source": [
    "sorted_precip = np.sort(precip_field.flatten())"
   ]
  },
  {
   "cell_type": "code",
   "execution_count": null,
   "id": "ce475a9a-658b-4d3c-a44b-31c6e3f2cfb3",
   "metadata": {},
   "outputs": [],
   "source": []
  },
  {
   "cell_type": "code",
   "execution_count": 23,
   "id": "222fd6f6-7520-4b0e-95d4-38212fada325",
   "metadata": {},
   "outputs": [],
   "source": [
    "percentile = 0.9"
   ]
  },
  {
   "cell_type": "code",
   "execution_count": 24,
   "id": "c777c933-e37a-4b8d-b00f-f0065d74992c",
   "metadata": {},
   "outputs": [
    {
     "data": {
      "text/plain": [
       "398131200.0"
      ]
     },
     "execution_count": 24,
     "metadata": {},
     "output_type": "execute_result"
    }
   ],
   "source": [
    "percentile * np.size(sorted_precip)"
   ]
  },
  {
   "cell_type": "code",
   "execution_count": 25,
   "id": "d70aaf7f-e5c2-4a8e-8d14-d1d224ddf2e6",
   "metadata": {},
   "outputs": [],
   "source": [
    "percentile_ind = int(percentile * np.size(sorted_precip))"
   ]
  },
  {
   "cell_type": "code",
   "execution_count": 26,
   "id": "755a1d33-9c5e-4195-901f-202e27a34f9d",
   "metadata": {},
   "outputs": [],
   "source": [
    "extreme_ind = (sorted_precip[percentile_ind] + sorted_precip[percentile_ind+1]) / 2.0"
   ]
  },
  {
   "cell_type": "code",
   "execution_count": 27,
   "id": "69c1d7fe-98b9-4d55-b954-64cead40d8d0",
   "metadata": {},
   "outputs": [],
   "source": [
    "total_extremes = np.sum(precip_field > extreme_ind)"
   ]
  },
  {
   "cell_type": "markdown",
   "id": "645b4cfe-8175-4a12-bcf3-c66f9c507115",
   "metadata": {},
   "source": [
    "make sure percentile is working properly"
   ]
  },
  {
   "cell_type": "code",
   "execution_count": 29,
   "id": "aec5ac68-450a-4321-b77d-15f876a4f32f",
   "metadata": {},
   "outputs": [
    {
     "data": {
      "text/plain": [
       "9.999999773943866"
      ]
     },
     "execution_count": 29,
     "metadata": {},
     "output_type": "execute_result"
    }
   ],
   "source": [
    "(total_extremes / np.size(precip_field)) *100"
   ]
  },
  {
   "cell_type": "code",
   "execution_count": 30,
   "id": "0bba1b6d-7737-4e79-8f9e-851ff6fafb1b",
   "metadata": {},
   "outputs": [],
   "source": [
    "state_extremes = np.sum(np.logical_and(wherestates, precip_field > extreme_ind))"
   ]
  },
  {
   "cell_type": "markdown",
   "id": "acc2b99e-c542-4e87-994a-b3ca0520706c",
   "metadata": {},
   "source": [
    "percent of co-occurring extremes:"
   ]
  },
  {
   "cell_type": "code",
   "execution_count": 31,
   "id": "fd65ee53-9b33-4035-95d5-6ba67acd3a30",
   "metadata": {},
   "outputs": [
    {
     "data": {
      "text/plain": [
       "44.95693732270276"
      ]
     },
     "execution_count": 31,
     "metadata": {},
     "output_type": "execute_result"
    }
   ],
   "source": [
    "(state_extremes / total_extremes) * 100"
   ]
  },
  {
   "cell_type": "code",
   "execution_count": null,
   "id": "1c75b9d3-0c68-457b-9ff4-b03d5b94d425",
   "metadata": {},
   "outputs": [],
   "source": []
  },
  {
   "cell_type": "code",
   "execution_count": 32,
   "id": "19aed479-dfc7-4368-a1a1-fb5b53c075ee",
   "metadata": {},
   "outputs": [],
   "source": [
    "percentile = 0.99"
   ]
  },
  {
   "cell_type": "code",
   "execution_count": 33,
   "id": "1dbae994-5c10-4f2f-a971-1b6ecd18620f",
   "metadata": {},
   "outputs": [
    {
     "data": {
      "text/plain": [
       "437944320.0"
      ]
     },
     "execution_count": 33,
     "metadata": {},
     "output_type": "execute_result"
    }
   ],
   "source": [
    "percentile * np.size(sorted_precip)"
   ]
  },
  {
   "cell_type": "code",
   "execution_count": 34,
   "id": "7d3baf04-733e-4658-9d2c-0ea42855f26a",
   "metadata": {},
   "outputs": [],
   "source": [
    "percentile_ind = int(percentile * np.size(sorted_precip))"
   ]
  },
  {
   "cell_type": "code",
   "execution_count": 35,
   "id": "931dda08-3ec5-406c-afac-aee6273d2dfb",
   "metadata": {},
   "outputs": [],
   "source": [
    "extreme_ind = (sorted_precip[percentile_ind] + sorted_precip[percentile_ind+1]) / 2.0"
   ]
  },
  {
   "cell_type": "code",
   "execution_count": 36,
   "id": "acbae41a-f0a0-4de8-9a59-445da97929ec",
   "metadata": {},
   "outputs": [],
   "source": [
    "total_extremes = np.sum(precip_field > extreme_ind)"
   ]
  },
  {
   "cell_type": "markdown",
   "id": "652a9a64-2e5b-4836-8659-4079fa1332a3",
   "metadata": {},
   "source": [
    "make sure percentile is working properly"
   ]
  },
  {
   "cell_type": "code",
   "execution_count": 37,
   "id": "ab1b6b63-1da0-4c6c-8fa6-73901079c8f7",
   "metadata": {},
   "outputs": [
    {
     "data": {
      "text/plain": [
       "0.9999997739438657"
      ]
     },
     "execution_count": 37,
     "metadata": {},
     "output_type": "execute_result"
    }
   ],
   "source": [
    "(total_extremes / np.size(precip_field)) *100"
   ]
  },
  {
   "cell_type": "code",
   "execution_count": 38,
   "id": "b9ec2b7a-ab67-4291-bfb6-5144475e3965",
   "metadata": {},
   "outputs": [],
   "source": [
    "state_extremes = np.sum(np.logical_and(wherestates, precip_field > extreme_ind))"
   ]
  },
  {
   "cell_type": "markdown",
   "id": "5eda6ed0-610a-4994-b345-9d8edae88514",
   "metadata": {},
   "source": [
    "percent of co-occurring extremes:"
   ]
  },
  {
   "cell_type": "code",
   "execution_count": 39,
   "id": "090b9e99-588b-488f-9628-ed8aa865494c",
   "metadata": {},
   "outputs": [
    {
     "data": {
      "text/plain": [
       "58.07559725739594"
      ]
     },
     "execution_count": 39,
     "metadata": {},
     "output_type": "execute_result"
    }
   ],
   "source": [
    "(state_extremes / total_extremes) * 100"
   ]
  },
  {
   "cell_type": "code",
   "execution_count": null,
   "id": "511358ce-d100-4c22-9310-89953d4411ab",
   "metadata": {},
   "outputs": [],
   "source": []
  },
  {
   "cell_type": "code",
   "execution_count": 40,
   "id": "b8a0bf59-6700-4f13-b742-e2214c563eda",
   "metadata": {},
   "outputs": [],
   "source": [
    "percentile = 0.999"
   ]
  },
  {
   "cell_type": "code",
   "execution_count": 41,
   "id": "fc569e31-a689-44bf-9d37-62450d396aad",
   "metadata": {},
   "outputs": [
    {
     "data": {
      "text/plain": [
       "441925632.0"
      ]
     },
     "execution_count": 41,
     "metadata": {},
     "output_type": "execute_result"
    }
   ],
   "source": [
    "percentile * np.size(sorted_precip)"
   ]
  },
  {
   "cell_type": "code",
   "execution_count": 42,
   "id": "9df9c05b-f1b3-4c8e-a3b9-ecd9fb0c5ff7",
   "metadata": {},
   "outputs": [],
   "source": [
    "percentile_ind = int(percentile * np.size(sorted_precip))"
   ]
  },
  {
   "cell_type": "code",
   "execution_count": 43,
   "id": "2187073a-31cc-45c9-a1d3-be19ea0ec6fa",
   "metadata": {},
   "outputs": [],
   "source": [
    "extreme_ind = (sorted_precip[percentile_ind] + sorted_precip[percentile_ind+1]) / 2.0"
   ]
  },
  {
   "cell_type": "code",
   "execution_count": 44,
   "id": "91074070-c9fa-46db-8cce-a8e8e9212070",
   "metadata": {},
   "outputs": [],
   "source": [
    "total_extremes = np.sum(precip_field > extreme_ind)"
   ]
  },
  {
   "cell_type": "markdown",
   "id": "c3a49230-f09a-46a2-9eb3-5c6ee090eeaf",
   "metadata": {},
   "source": [
    "make sure percentile is working properly"
   ]
  },
  {
   "cell_type": "code",
   "execution_count": 45,
   "id": "89c6639a-5335-48fa-be05-a9a45fbfc2cf",
   "metadata": {},
   "outputs": [
    {
     "data": {
      "text/plain": [
       "0.09999977394386574"
      ]
     },
     "execution_count": 45,
     "metadata": {},
     "output_type": "execute_result"
    }
   ],
   "source": [
    "(total_extremes / np.size(precip_field)) *100"
   ]
  },
  {
   "cell_type": "code",
   "execution_count": 46,
   "id": "2e31dff5-9cd2-410d-9dd6-36132db1031a",
   "metadata": {},
   "outputs": [],
   "source": [
    "state_extremes = np.sum(np.logical_and(wherestates, precip_field > extreme_ind))"
   ]
  },
  {
   "cell_type": "markdown",
   "id": "ac7ae64c-16f3-427c-9cb9-77a7e65df4db",
   "metadata": {},
   "source": [
    "percent of co-occurring extremes:"
   ]
  },
  {
   "cell_type": "code",
   "execution_count": 47,
   "id": "6c5a74ad-9dc4-4557-9193-df1b2dd98324",
   "metadata": {},
   "outputs": [
    {
     "data": {
      "text/plain": [
       "75.2694030070055"
      ]
     },
     "execution_count": 47,
     "metadata": {},
     "output_type": "execute_result"
    }
   ],
   "source": [
    "(state_extremes / total_extremes) * 100"
   ]
  },
  {
   "cell_type": "code",
   "execution_count": null,
   "id": "9ee5d41e-7836-40ec-a980-6969b3dfa2cc",
   "metadata": {},
   "outputs": [],
   "source": []
  },
  {
   "cell_type": "markdown",
   "id": "8845cb63-a815-434d-ae4e-404d99bafb3b",
   "metadata": {},
   "source": [
    "## Calculations for zonal extremes"
   ]
  },
  {
   "cell_type": "code",
   "execution_count": null,
   "id": "ae66eeb2-71ca-47ee-ac04-afc0161a840a",
   "metadata": {},
   "outputs": [],
   "source": []
  },
  {
   "cell_type": "markdown",
   "id": "a7cb1fd5-4fe6-469a-8a18-8109efd1529d",
   "metadata": {},
   "source": [
    "### tropics"
   ]
  },
  {
   "cell_type": "code",
   "execution_count": 48,
   "id": "1c8251c2-8a70-4ec4-8a24-ca439e4cd457",
   "metadata": {},
   "outputs": [
    {
     "data": {
      "text/plain": [
       "(500, 768, 1152)"
      ]
     },
     "execution_count": 48,
     "metadata": {},
     "output_type": "execute_result"
    }
   ],
   "source": [
    "np.shape(precip_field)"
   ]
  },
  {
   "cell_type": "code",
   "execution_count": 49,
   "id": "569c458d-b1df-4f50-903e-4557524df272",
   "metadata": {},
   "outputs": [
    {
     "data": {
      "text/plain": [
       "(500, 199, 1152)"
      ]
     },
     "execution_count": 49,
     "metadata": {},
     "output_type": "execute_result"
    }
   ],
   "source": [
    "tropic_precip = precip_field[:, stropic_lat:ntropic_lat, :]\n",
    "np.shape(tropic_precip)"
   ]
  },
  {
   "cell_type": "code",
   "execution_count": 50,
   "id": "bf13c33c-f41e-4fe3-b799-69c73279947e",
   "metadata": {},
   "outputs": [
    {
     "data": {
      "text/plain": [
       "(500, 199, 1152)"
      ]
     },
     "execution_count": 50,
     "metadata": {},
     "output_type": "execute_result"
    }
   ],
   "source": [
    "tropic_states = state_field[:, stropic_lat:ntropic_lat, :]\n",
    "np.shape(tropic_states)"
   ]
  },
  {
   "cell_type": "code",
   "execution_count": 51,
   "id": "e0581ad5-b323-487d-8f10-707a96333af6",
   "metadata": {},
   "outputs": [],
   "source": [
    "filteredIVT = np.ones(np.shape(tropic_states), dtype=int)\n",
    "filteredIVT[tropic_states==13] = 0\n",
    "filteredIVT[tropic_states==0] = 0"
   ]
  },
  {
   "cell_type": "code",
   "execution_count": 52,
   "id": "d106bd85-41f3-4d77-b664-e6ee509d00db",
   "metadata": {},
   "outputs": [],
   "source": [
    "wherestates = filteredIVT == 1"
   ]
  },
  {
   "cell_type": "code",
   "execution_count": 53,
   "id": "f71742ee-fae0-4258-95ba-4a814b90a13f",
   "metadata": {},
   "outputs": [],
   "source": [
    "maskedIVT = np.ma.masked_array(filteredIVT, filteredIVT==0)"
   ]
  },
  {
   "cell_type": "code",
   "execution_count": null,
   "id": "c0d43f7b-083c-4408-8711-64993fe49388",
   "metadata": {},
   "outputs": [],
   "source": []
  },
  {
   "cell_type": "code",
   "execution_count": 54,
   "id": "435361fe-6a3f-4174-87df-f952deb5b355",
   "metadata": {},
   "outputs": [
    {
     "data": {
      "text/plain": [
       "38.41553514098269"
      ]
     },
     "execution_count": 54,
     "metadata": {},
     "output_type": "execute_result"
    }
   ],
   "source": [
    "np.sum(wherestates) / np.size(tropic_precip) * 100"
   ]
  },
  {
   "cell_type": "code",
   "execution_count": 55,
   "id": "b4195962-4bf4-4278-8304-55ab4c5e0ed8",
   "metadata": {},
   "outputs": [],
   "source": [
    "maskedprecip = np.ma.masked_array(tropic_precip, maskedIVT.mask)"
   ]
  },
  {
   "cell_type": "code",
   "execution_count": 56,
   "id": "a54d4bce-1ddf-4326-8d9a-212951827f55",
   "metadata": {},
   "outputs": [
    {
     "data": {
      "text/plain": [
       "61.93549633026123"
      ]
     },
     "execution_count": 56,
     "metadata": {},
     "output_type": "execute_result"
    }
   ],
   "source": [
    "(np.sum(maskedprecip) / np.sum(tropic_precip)) * 100"
   ]
  },
  {
   "cell_type": "code",
   "execution_count": null,
   "id": "e0c97bc5-090a-4ab3-90da-1a0a97e4ff20",
   "metadata": {},
   "outputs": [],
   "source": []
  },
  {
   "cell_type": "code",
   "execution_count": 57,
   "id": "c416ad82-f8c8-4027-bb1d-f04ad266d37e",
   "metadata": {},
   "outputs": [],
   "source": [
    "sorted_precip = np.sort(tropic_precip.flatten())"
   ]
  },
  {
   "cell_type": "code",
   "execution_count": null,
   "id": "42eb1738-fb9a-4ff0-b6f3-f2f249359b94",
   "metadata": {},
   "outputs": [],
   "source": []
  },
  {
   "cell_type": "code",
   "execution_count": 58,
   "id": "a63b40c7-61a2-4c1a-b5db-9e89978dc50f",
   "metadata": {},
   "outputs": [],
   "source": [
    "percentile = 0.9"
   ]
  },
  {
   "cell_type": "code",
   "execution_count": 59,
   "id": "135fc2d7-e919-4830-a069-4d18d4793d05",
   "metadata": {},
   "outputs": [
    {
     "data": {
      "text/plain": [
       "103161600.0"
      ]
     },
     "execution_count": 59,
     "metadata": {},
     "output_type": "execute_result"
    }
   ],
   "source": [
    "percentile * np.size(sorted_precip)"
   ]
  },
  {
   "cell_type": "code",
   "execution_count": 60,
   "id": "85c0bc3d-6ed5-469f-b977-8e61bad304d3",
   "metadata": {},
   "outputs": [],
   "source": [
    "percentile_ind = int(percentile * np.size(sorted_precip))"
   ]
  },
  {
   "cell_type": "code",
   "execution_count": 61,
   "id": "439ccd87-60b9-425a-a2aa-4013a40583cb",
   "metadata": {},
   "outputs": [],
   "source": [
    "extreme_ind = (sorted_precip[percentile_ind] + sorted_precip[percentile_ind+1]) / 2.0"
   ]
  },
  {
   "cell_type": "code",
   "execution_count": 62,
   "id": "61a94a48-ea2f-4c64-892e-cee31e82b857",
   "metadata": {},
   "outputs": [],
   "source": [
    "total_extremes = np.sum(tropic_precip > extreme_ind)"
   ]
  },
  {
   "cell_type": "code",
   "execution_count": 63,
   "id": "b4be8b57-52ef-4ef7-8b65-242c38f24380",
   "metadata": {},
   "outputs": [
    {
     "data": {
      "text/plain": [
       "9.999999127582356"
      ]
     },
     "execution_count": 63,
     "metadata": {},
     "output_type": "execute_result"
    }
   ],
   "source": [
    "(total_extremes / np.size(tropic_precip)) *100"
   ]
  },
  {
   "cell_type": "code",
   "execution_count": 64,
   "id": "225ee315-b959-42af-990f-2b179a5dd744",
   "metadata": {},
   "outputs": [],
   "source": [
    "state_extremes = np.sum(np.logical_and(wherestates, tropic_precip > extreme_ind))"
   ]
  },
  {
   "cell_type": "code",
   "execution_count": 65,
   "id": "55227b78-4907-4d48-99f7-1d2bfbc662cb",
   "metadata": {},
   "outputs": [
    {
     "data": {
      "text/plain": [
       "61.733830762652744"
      ]
     },
     "execution_count": 65,
     "metadata": {},
     "output_type": "execute_result"
    }
   ],
   "source": [
    "(state_extremes / total_extremes) * 100"
   ]
  },
  {
   "cell_type": "code",
   "execution_count": null,
   "id": "1dca3aad-4341-43b7-bf15-cfa2f54d533f",
   "metadata": {},
   "outputs": [],
   "source": []
  },
  {
   "cell_type": "code",
   "execution_count": 66,
   "id": "e6b9e0ec-89a5-4251-8fbc-2e50fdcf716f",
   "metadata": {},
   "outputs": [],
   "source": [
    "percentile = 0.99"
   ]
  },
  {
   "cell_type": "code",
   "execution_count": 67,
   "id": "064787ca-eb36-43a0-a713-8bf4262842c4",
   "metadata": {},
   "outputs": [
    {
     "data": {
      "text/plain": [
       "113477760.0"
      ]
     },
     "execution_count": 67,
     "metadata": {},
     "output_type": "execute_result"
    }
   ],
   "source": [
    "percentile * np.size(sorted_precip)"
   ]
  },
  {
   "cell_type": "code",
   "execution_count": 68,
   "id": "78ca625d-7ade-4645-ab52-2365b21164a4",
   "metadata": {},
   "outputs": [],
   "source": [
    "percentile_ind = int(percentile * np.size(sorted_precip))"
   ]
  },
  {
   "cell_type": "code",
   "execution_count": 69,
   "id": "2786189a-3a01-437d-afc8-955a2ca3a956",
   "metadata": {},
   "outputs": [],
   "source": [
    "extreme_ind = (sorted_precip[percentile_ind] + sorted_precip[percentile_ind+1]) / 2.0"
   ]
  },
  {
   "cell_type": "code",
   "execution_count": 70,
   "id": "78505658-8886-427f-8901-364ad70aec24",
   "metadata": {},
   "outputs": [],
   "source": [
    "total_extremes = np.sum(tropic_precip > extreme_ind)"
   ]
  },
  {
   "cell_type": "code",
   "execution_count": 71,
   "id": "8931d0f8-8846-408c-879f-cc2fa0f1064b",
   "metadata": {},
   "outputs": [
    {
     "data": {
      "text/plain": [
       "0.9999991275823562"
      ]
     },
     "execution_count": 71,
     "metadata": {},
     "output_type": "execute_result"
    }
   ],
   "source": [
    "(total_extremes / np.size(tropic_precip)) *100"
   ]
  },
  {
   "cell_type": "code",
   "execution_count": 72,
   "id": "10d6fb21-7d5e-4543-a98d-e45e9a08f92b",
   "metadata": {},
   "outputs": [],
   "source": [
    "state_extremes = np.sum(np.logical_and(wherestates, tropic_precip > extreme_ind))"
   ]
  },
  {
   "cell_type": "code",
   "execution_count": 73,
   "id": "feed81d1-cf90-41dd-93f2-9c8964d31d2c",
   "metadata": {},
   "outputs": [
    {
     "data": {
      "text/plain": [
       "69.53384067371638"
      ]
     },
     "execution_count": 73,
     "metadata": {},
     "output_type": "execute_result"
    }
   ],
   "source": [
    "(state_extremes / total_extremes) * 100"
   ]
  },
  {
   "cell_type": "code",
   "execution_count": null,
   "id": "4372dca0-c935-4884-aa7b-3c5f17b4804e",
   "metadata": {},
   "outputs": [],
   "source": []
  },
  {
   "cell_type": "code",
   "execution_count": 74,
   "id": "9b8392be-5b1a-436e-93fe-c10ef36ecac0",
   "metadata": {},
   "outputs": [],
   "source": [
    "percentile = 0.999"
   ]
  },
  {
   "cell_type": "code",
   "execution_count": 75,
   "id": "19ffe927-1109-4402-9552-a60431acb32c",
   "metadata": {},
   "outputs": [
    {
     "data": {
      "text/plain": [
       "114509376.0"
      ]
     },
     "execution_count": 75,
     "metadata": {},
     "output_type": "execute_result"
    }
   ],
   "source": [
    "percentile * np.size(sorted_precip)"
   ]
  },
  {
   "cell_type": "code",
   "execution_count": 76,
   "id": "6c13fb3f-5c71-40c4-938e-34dcaaddb454",
   "metadata": {},
   "outputs": [],
   "source": [
    "percentile_ind = int(percentile * np.size(sorted_precip))"
   ]
  },
  {
   "cell_type": "code",
   "execution_count": 77,
   "id": "370703b5-4ce0-4236-ace9-f770264d3a5e",
   "metadata": {},
   "outputs": [],
   "source": [
    "extreme_ind = (sorted_precip[percentile_ind] + sorted_precip[percentile_ind+1]) / 2.0"
   ]
  },
  {
   "cell_type": "code",
   "execution_count": 78,
   "id": "bb3e51bd-013b-436d-8473-f15b9d4f616d",
   "metadata": {},
   "outputs": [],
   "source": [
    "total_extremes = np.sum(tropic_precip > extreme_ind)"
   ]
  },
  {
   "cell_type": "code",
   "execution_count": 79,
   "id": "cc449baf-e35d-49e9-aa25-e392ce8af5ec",
   "metadata": {},
   "outputs": [
    {
     "data": {
      "text/plain": [
       "0.09999912758235624"
      ]
     },
     "execution_count": 79,
     "metadata": {},
     "output_type": "execute_result"
    }
   ],
   "source": [
    "(total_extremes / np.size(tropic_precip)) *100"
   ]
  },
  {
   "cell_type": "code",
   "execution_count": 80,
   "id": "42b52f7e-e1ee-4ed9-b476-fb00cbcbedc6",
   "metadata": {},
   "outputs": [],
   "source": [
    "state_extremes = np.sum(np.logical_and(wherestates, tropic_precip > extreme_ind))"
   ]
  },
  {
   "cell_type": "code",
   "execution_count": 81,
   "id": "0071b208-8081-41ce-aa6b-a2a93f95ab49",
   "metadata": {},
   "outputs": [
    {
     "data": {
      "text/plain": [
       "76.67745565898642"
      ]
     },
     "execution_count": 81,
     "metadata": {},
     "output_type": "execute_result"
    }
   ],
   "source": [
    "(state_extremes / total_extremes) * 100"
   ]
  },
  {
   "cell_type": "code",
   "execution_count": null,
   "id": "29fdedd9-9cf3-4350-b9a1-fc5cca5597cd",
   "metadata": {},
   "outputs": [],
   "source": []
  },
  {
   "cell_type": "markdown",
   "id": "638dcdfd-b16f-4f3d-9b46-3a58865af59d",
   "metadata": {},
   "source": [
    "### north temperate"
   ]
  },
  {
   "cell_type": "code",
   "execution_count": 82,
   "id": "5a727b2a-b7f4-4aed-b4ba-3f700b66f6c5",
   "metadata": {},
   "outputs": [
    {
     "data": {
      "text/plain": [
       "(500, 768, 1152)"
      ]
     },
     "execution_count": 82,
     "metadata": {},
     "output_type": "execute_result"
    }
   ],
   "source": [
    "np.shape(precip_field)"
   ]
  },
  {
   "cell_type": "code",
   "execution_count": 83,
   "id": "d3734634-2a1c-41fc-b707-3b7a35297342",
   "metadata": {},
   "outputs": [
    {
     "data": {
      "text/plain": [
       "(500, 185, 1152)"
      ]
     },
     "execution_count": 83,
     "metadata": {},
     "output_type": "execute_result"
    }
   ],
   "source": [
    "north_precip = precip_field[:, ntropic_lat:arctic_lat, :]\n",
    "np.shape(north_precip)"
   ]
  },
  {
   "cell_type": "code",
   "execution_count": 84,
   "id": "dcabbe15-c956-4048-bf28-799f12df163d",
   "metadata": {},
   "outputs": [
    {
     "data": {
      "text/plain": [
       "(500, 185, 1152)"
      ]
     },
     "execution_count": 84,
     "metadata": {},
     "output_type": "execute_result"
    }
   ],
   "source": [
    "north_states = state_field[:, ntropic_lat:arctic_lat, :]\n",
    "np.shape(north_states)"
   ]
  },
  {
   "cell_type": "code",
   "execution_count": 85,
   "id": "4cd4d73d-c7ba-4deb-80f3-53d1ed633aa6",
   "metadata": {},
   "outputs": [],
   "source": [
    "filteredIVT = np.ones(np.shape(north_states), dtype=int)\n",
    "filteredIVT[north_states==13] = 0\n",
    "filteredIVT[north_states==0] = 0"
   ]
  },
  {
   "cell_type": "code",
   "execution_count": 86,
   "id": "20a75abc-48f4-49b5-9488-391c38d0e6e4",
   "metadata": {},
   "outputs": [],
   "source": [
    "wherestates = filteredIVT == 1"
   ]
  },
  {
   "cell_type": "code",
   "execution_count": 87,
   "id": "581a8b14-272c-4cd4-bd70-66c11dddbcb2",
   "metadata": {},
   "outputs": [],
   "source": [
    "maskedIVT = np.ma.masked_array(filteredIVT, filteredIVT==0)"
   ]
  },
  {
   "cell_type": "code",
   "execution_count": null,
   "id": "ff31e5f4-8b23-4f64-9031-af56598d724a",
   "metadata": {},
   "outputs": [],
   "source": []
  },
  {
   "cell_type": "code",
   "execution_count": 88,
   "id": "746873bc-e05f-44bb-ad80-3aefb00bb4c0",
   "metadata": {},
   "outputs": [
    {
     "data": {
      "text/plain": [
       "17.92901839339339"
      ]
     },
     "execution_count": 88,
     "metadata": {},
     "output_type": "execute_result"
    }
   ],
   "source": [
    "np.sum(wherestates) / np.size(north_precip) * 100"
   ]
  },
  {
   "cell_type": "code",
   "execution_count": 89,
   "id": "dfd4f19c-6cc0-4cd1-a06a-426cdc9beda8",
   "metadata": {},
   "outputs": [],
   "source": [
    "maskedprecip = np.ma.masked_array(north_precip, maskedIVT.mask)"
   ]
  },
  {
   "cell_type": "code",
   "execution_count": 90,
   "id": "1338ca19-a6af-42c3-b4b7-7bd4c8456527",
   "metadata": {},
   "outputs": [
    {
     "data": {
      "text/plain": [
       "46.997418999671936"
      ]
     },
     "execution_count": 90,
     "metadata": {},
     "output_type": "execute_result"
    }
   ],
   "source": [
    "(np.sum(maskedprecip) / np.sum(north_precip)) * 100"
   ]
  },
  {
   "cell_type": "code",
   "execution_count": null,
   "id": "9f60ea82-2557-4294-a261-43e4b42ba2d2",
   "metadata": {},
   "outputs": [],
   "source": []
  },
  {
   "cell_type": "code",
   "execution_count": 91,
   "id": "a37bb0d6-5e67-444d-8aec-feef1a4ba5ab",
   "metadata": {},
   "outputs": [],
   "source": [
    "sorted_precip = np.sort(north_precip.flatten())"
   ]
  },
  {
   "cell_type": "code",
   "execution_count": null,
   "id": "82cf0806-0ed3-40fe-958e-faf0d8ebf3cf",
   "metadata": {},
   "outputs": [],
   "source": []
  },
  {
   "cell_type": "code",
   "execution_count": 92,
   "id": "9cab4503-69a2-48a1-bca9-b09cd6af18f5",
   "metadata": {},
   "outputs": [],
   "source": [
    "percentile = 0.9"
   ]
  },
  {
   "cell_type": "code",
   "execution_count": 93,
   "id": "75531ca0-de67-4110-b04a-4f76f1faa46f",
   "metadata": {},
   "outputs": [
    {
     "data": {
      "text/plain": [
       "95904000.0"
      ]
     },
     "execution_count": 93,
     "metadata": {},
     "output_type": "execute_result"
    }
   ],
   "source": [
    "percentile * np.size(sorted_precip)"
   ]
  },
  {
   "cell_type": "code",
   "execution_count": 94,
   "id": "adb83baf-dd11-4c1e-a669-cc9dbcc6f3a5",
   "metadata": {},
   "outputs": [],
   "source": [
    "percentile_ind = int(percentile * np.size(sorted_precip))"
   ]
  },
  {
   "cell_type": "code",
   "execution_count": 95,
   "id": "85c83143-f794-4449-8755-f4331b6e67c3",
   "metadata": {},
   "outputs": [],
   "source": [
    "extreme_ind = (sorted_precip[percentile_ind] + sorted_precip[percentile_ind+1]) / 2.0"
   ]
  },
  {
   "cell_type": "code",
   "execution_count": 96,
   "id": "cd96a8e4-0185-4c5a-8347-c317fe1f2d1c",
   "metadata": {},
   "outputs": [],
   "source": [
    "total_extremes = np.sum(north_precip > extreme_ind)"
   ]
  },
  {
   "cell_type": "code",
   "execution_count": 97,
   "id": "fd6fca9c-cd04-478e-91a2-90233b6da4d0",
   "metadata": {},
   "outputs": [
    {
     "data": {
      "text/plain": [
       "9.999998123123124"
      ]
     },
     "execution_count": 97,
     "metadata": {},
     "output_type": "execute_result"
    }
   ],
   "source": [
    "(total_extremes / np.size(north_precip)) *100"
   ]
  },
  {
   "cell_type": "code",
   "execution_count": 98,
   "id": "5e1f7dea-b7e6-4f51-bf11-e48433d54f06",
   "metadata": {},
   "outputs": [],
   "source": [
    "state_extremes = np.sum(np.logical_and(wherestates, north_precip > extreme_ind))"
   ]
  },
  {
   "cell_type": "code",
   "execution_count": 99,
   "id": "55defc4f-4407-45b6-9cc9-fd30b2f0f4ba",
   "metadata": {},
   "outputs": [
    {
     "data": {
      "text/plain": [
       "39.51222588442678"
      ]
     },
     "execution_count": 99,
     "metadata": {},
     "output_type": "execute_result"
    }
   ],
   "source": [
    "(state_extremes / total_extremes) * 100"
   ]
  },
  {
   "cell_type": "code",
   "execution_count": null,
   "id": "d4a60a59-c7bc-4487-9428-8c6249dad763",
   "metadata": {},
   "outputs": [],
   "source": []
  },
  {
   "cell_type": "code",
   "execution_count": 100,
   "id": "164a4931-bc0f-44e4-9baf-60e46cbe5748",
   "metadata": {},
   "outputs": [],
   "source": [
    "percentile = 0.99"
   ]
  },
  {
   "cell_type": "code",
   "execution_count": 101,
   "id": "19c38d86-e8b4-42ef-91c8-e01705271349",
   "metadata": {},
   "outputs": [
    {
     "data": {
      "text/plain": [
       "105494400.0"
      ]
     },
     "execution_count": 101,
     "metadata": {},
     "output_type": "execute_result"
    }
   ],
   "source": [
    "percentile * np.size(sorted_precip)"
   ]
  },
  {
   "cell_type": "code",
   "execution_count": 102,
   "id": "465ab155-96d2-447d-bcfe-a2688786a028",
   "metadata": {},
   "outputs": [],
   "source": [
    "percentile_ind = int(percentile * np.size(sorted_precip))"
   ]
  },
  {
   "cell_type": "code",
   "execution_count": 103,
   "id": "cf7321b1-2ea6-4f1a-a304-961dadd56363",
   "metadata": {},
   "outputs": [],
   "source": [
    "extreme_ind = (sorted_precip[percentile_ind] + sorted_precip[percentile_ind+1]) / 2.0"
   ]
  },
  {
   "cell_type": "code",
   "execution_count": 104,
   "id": "7ba8a911-183e-4ee6-a711-6155f783d855",
   "metadata": {},
   "outputs": [],
   "source": [
    "total_extremes = np.sum(north_precip > extreme_ind)"
   ]
  },
  {
   "cell_type": "code",
   "execution_count": 105,
   "id": "7e2a5d9c-c043-4939-863e-e348ccc1a41f",
   "metadata": {},
   "outputs": [
    {
     "data": {
      "text/plain": [
       "0.9999990615615616"
      ]
     },
     "execution_count": 105,
     "metadata": {},
     "output_type": "execute_result"
    }
   ],
   "source": [
    "(total_extremes / np.size(north_precip)) *100"
   ]
  },
  {
   "cell_type": "code",
   "execution_count": 106,
   "id": "439c823c-9bb8-4c4a-b680-a2e70acc6a75",
   "metadata": {},
   "outputs": [],
   "source": [
    "state_extremes = np.sum(np.logical_and(wherestates, north_precip > extreme_ind))"
   ]
  },
  {
   "cell_type": "code",
   "execution_count": 107,
   "id": "73a31fa8-97c7-4fca-b7ed-dde4669a0dce",
   "metadata": {},
   "outputs": [
    {
     "data": {
      "text/plain": [
       "54.76713097516045"
      ]
     },
     "execution_count": 107,
     "metadata": {},
     "output_type": "execute_result"
    }
   ],
   "source": [
    "(state_extremes / total_extremes) * 100"
   ]
  },
  {
   "cell_type": "code",
   "execution_count": null,
   "id": "ccf3429d-e415-4c4c-ab17-be99d7792737",
   "metadata": {},
   "outputs": [],
   "source": []
  },
  {
   "cell_type": "code",
   "execution_count": 108,
   "id": "b397ca58-ef0e-4e27-8a61-bb5bb4ec7f82",
   "metadata": {},
   "outputs": [],
   "source": [
    "percentile = 0.999"
   ]
  },
  {
   "cell_type": "code",
   "execution_count": 109,
   "id": "b444bc7b-32b6-466f-b805-7cd51a1328b8",
   "metadata": {},
   "outputs": [
    {
     "data": {
      "text/plain": [
       "106453440.0"
      ]
     },
     "execution_count": 109,
     "metadata": {},
     "output_type": "execute_result"
    }
   ],
   "source": [
    "percentile * np.size(sorted_precip)"
   ]
  },
  {
   "cell_type": "code",
   "execution_count": 110,
   "id": "3baabf8f-bc23-4d3f-9522-33b7388184ff",
   "metadata": {},
   "outputs": [],
   "source": [
    "percentile_ind = int(percentile * np.size(sorted_precip))"
   ]
  },
  {
   "cell_type": "code",
   "execution_count": 111,
   "id": "291274ad-1b4d-41da-9aaf-6b2b9509355d",
   "metadata": {},
   "outputs": [],
   "source": [
    "extreme_ind = (sorted_precip[percentile_ind] + sorted_precip[percentile_ind+1]) / 2.0"
   ]
  },
  {
   "cell_type": "code",
   "execution_count": 112,
   "id": "2e8c322f-1c84-43ae-8dcc-710b02919ad2",
   "metadata": {},
   "outputs": [],
   "source": [
    "total_extremes = np.sum(north_precip > extreme_ind)"
   ]
  },
  {
   "cell_type": "code",
   "execution_count": 113,
   "id": "418a910d-ab0a-407d-8f36-7c330e01f384",
   "metadata": {},
   "outputs": [
    {
     "data": {
      "text/plain": [
       "0.09999906156156156"
      ]
     },
     "execution_count": 113,
     "metadata": {},
     "output_type": "execute_result"
    }
   ],
   "source": [
    "(total_extremes / np.size(north_precip)) *100"
   ]
  },
  {
   "cell_type": "code",
   "execution_count": 114,
   "id": "11cdb89a-76e1-4421-a7d1-0e925ff8cdcb",
   "metadata": {},
   "outputs": [],
   "source": [
    "state_extremes = np.sum(np.logical_and(wherestates, north_precip > extreme_ind))"
   ]
  },
  {
   "cell_type": "code",
   "execution_count": 115,
   "id": "83846212-6f13-48d9-9204-9582aef1263d",
   "metadata": {},
   "outputs": [
    {
     "data": {
      "text/plain": [
       "79.21433196632852"
      ]
     },
     "execution_count": 115,
     "metadata": {},
     "output_type": "execute_result"
    }
   ],
   "source": [
    "(state_extremes / total_extremes) * 100"
   ]
  },
  {
   "cell_type": "code",
   "execution_count": null,
   "id": "7525894a-5d8b-459e-b29f-f54bc1382f0a",
   "metadata": {},
   "outputs": [],
   "source": []
  },
  {
   "cell_type": "markdown",
   "id": "fdfa117d-d5f5-4eb4-9c22-43a6ee7063c5",
   "metadata": {},
   "source": [
    "### south temperate"
   ]
  },
  {
   "cell_type": "code",
   "execution_count": 116,
   "id": "dd0ad685-ee3f-45a1-9e36-cba4ba617466",
   "metadata": {},
   "outputs": [
    {
     "data": {
      "text/plain": [
       "(500, 768, 1152)"
      ]
     },
     "execution_count": 116,
     "metadata": {},
     "output_type": "execute_result"
    }
   ],
   "source": [
    "np.shape(precip_field)"
   ]
  },
  {
   "cell_type": "code",
   "execution_count": 117,
   "id": "5f1bb3f0-e988-40c1-bc28-4e3e4c9c94dc",
   "metadata": {},
   "outputs": [
    {
     "data": {
      "text/plain": [
       "(500, 185, 1152)"
      ]
     },
     "execution_count": 117,
     "metadata": {},
     "output_type": "execute_result"
    }
   ],
   "source": [
    "south_precip = precip_field[:, antarctic_lat:stropic_lat, :]\n",
    "np.shape(south_precip)"
   ]
  },
  {
   "cell_type": "code",
   "execution_count": 118,
   "id": "8832c9b6-e1f0-4774-ba16-a47ffa1f361d",
   "metadata": {},
   "outputs": [
    {
     "data": {
      "text/plain": [
       "(500, 185, 1152)"
      ]
     },
     "execution_count": 118,
     "metadata": {},
     "output_type": "execute_result"
    }
   ],
   "source": [
    "south_states = state_field[:, antarctic_lat:stropic_lat, :]\n",
    "np.shape(south_states)"
   ]
  },
  {
   "cell_type": "code",
   "execution_count": 119,
   "id": "d63613d3-5a2d-47f7-bef6-e703e78533be",
   "metadata": {},
   "outputs": [],
   "source": [
    "filteredIVT = np.ones(np.shape(south_states), dtype=int)\n",
    "filteredIVT[south_states==13] = 0\n",
    "filteredIVT[south_states==0] = 0"
   ]
  },
  {
   "cell_type": "code",
   "execution_count": 120,
   "id": "7bf8416d-5577-4365-a802-5e88376cde10",
   "metadata": {},
   "outputs": [],
   "source": [
    "wherestates = filteredIVT == 1"
   ]
  },
  {
   "cell_type": "code",
   "execution_count": 121,
   "id": "ea38bfd4-43b1-4875-b236-d8a4f118f4bd",
   "metadata": {},
   "outputs": [],
   "source": [
    "maskedIVT = np.ma.masked_array(filteredIVT, filteredIVT==0)"
   ]
  },
  {
   "cell_type": "code",
   "execution_count": null,
   "id": "3ff01327-875c-4fce-87eb-d095d01bbddf",
   "metadata": {},
   "outputs": [],
   "source": []
  },
  {
   "cell_type": "code",
   "execution_count": 122,
   "id": "96d885b9-0a53-413f-9088-dfadf2e22d9e",
   "metadata": {},
   "outputs": [
    {
     "data": {
      "text/plain": [
       "20.87145082582583"
      ]
     },
     "execution_count": 122,
     "metadata": {},
     "output_type": "execute_result"
    }
   ],
   "source": [
    "np.sum(wherestates) / np.size(south_precip) * 100"
   ]
  },
  {
   "cell_type": "code",
   "execution_count": 123,
   "id": "bd4f6027-5b4a-4c91-bb8a-72549959dca5",
   "metadata": {},
   "outputs": [],
   "source": [
    "maskedprecip = np.ma.masked_array(south_precip, maskedIVT.mask)"
   ]
  },
  {
   "cell_type": "code",
   "execution_count": 124,
   "id": "c70e2749-7c0d-4d6a-a537-429c0b45f946",
   "metadata": {},
   "outputs": [
    {
     "data": {
      "text/plain": [
       "45.299723744392395"
      ]
     },
     "execution_count": 124,
     "metadata": {},
     "output_type": "execute_result"
    }
   ],
   "source": [
    "(np.sum(maskedprecip) / np.sum(south_precip)) * 100"
   ]
  },
  {
   "cell_type": "code",
   "execution_count": null,
   "id": "b988d5ac-6818-4089-9891-d90089eb5541",
   "metadata": {},
   "outputs": [],
   "source": []
  },
  {
   "cell_type": "code",
   "execution_count": 125,
   "id": "324e3dc6-1e46-48db-aa5f-2c14e84d25b0",
   "metadata": {},
   "outputs": [],
   "source": [
    "sorted_precip = np.sort(south_precip.flatten())"
   ]
  },
  {
   "cell_type": "code",
   "execution_count": null,
   "id": "17c5fca3-dbdf-4f13-ae47-b2483bde4d84",
   "metadata": {},
   "outputs": [],
   "source": []
  },
  {
   "cell_type": "code",
   "execution_count": 126,
   "id": "074c1da8-1edd-4f02-b0a3-23e47f7e9929",
   "metadata": {},
   "outputs": [],
   "source": [
    "percentile = 0.9"
   ]
  },
  {
   "cell_type": "code",
   "execution_count": 127,
   "id": "70e26c1a-6231-42f0-8ccd-562999c51a7f",
   "metadata": {},
   "outputs": [
    {
     "data": {
      "text/plain": [
       "95904000.0"
      ]
     },
     "execution_count": 127,
     "metadata": {},
     "output_type": "execute_result"
    }
   ],
   "source": [
    "percentile * np.size(sorted_precip)"
   ]
  },
  {
   "cell_type": "code",
   "execution_count": 128,
   "id": "505970a3-b687-4336-8558-c2ddef9efdf2",
   "metadata": {},
   "outputs": [],
   "source": [
    "percentile_ind = int(percentile * np.size(sorted_precip))"
   ]
  },
  {
   "cell_type": "code",
   "execution_count": 129,
   "id": "890e23cb-86a9-42a3-a675-5d8009a41a0c",
   "metadata": {},
   "outputs": [],
   "source": [
    "extreme_ind = (sorted_precip[percentile_ind] + sorted_precip[percentile_ind+1]) / 2.0"
   ]
  },
  {
   "cell_type": "code",
   "execution_count": 130,
   "id": "6f89c8a1-79f6-431c-b9c1-f913cd85a98a",
   "metadata": {},
   "outputs": [],
   "source": [
    "total_extremes = np.sum(south_precip > extreme_ind)"
   ]
  },
  {
   "cell_type": "code",
   "execution_count": 131,
   "id": "21655872-ea55-4c8a-9e4e-db771c6859c5",
   "metadata": {},
   "outputs": [
    {
     "data": {
      "text/plain": [
       "9.999998123123124"
      ]
     },
     "execution_count": 131,
     "metadata": {},
     "output_type": "execute_result"
    }
   ],
   "source": [
    "(total_extremes / np.size(south_precip)) *100"
   ]
  },
  {
   "cell_type": "code",
   "execution_count": 132,
   "id": "b8323ed5-1b11-4c54-98a5-32f3ad095def",
   "metadata": {},
   "outputs": [],
   "source": [
    "state_extremes = np.sum(np.logical_and(wherestates, south_precip > extreme_ind))"
   ]
  },
  {
   "cell_type": "code",
   "execution_count": 133,
   "id": "1521d133-ea70-4aa3-87ca-9dfc4037b7ec",
   "metadata": {},
   "outputs": [
    {
     "data": {
      "text/plain": [
       "42.107477873025125"
      ]
     },
     "execution_count": 133,
     "metadata": {},
     "output_type": "execute_result"
    }
   ],
   "source": [
    "(state_extremes / total_extremes) * 100"
   ]
  },
  {
   "cell_type": "code",
   "execution_count": null,
   "id": "fb74f947-7f4c-408b-b382-93d3fc26063f",
   "metadata": {},
   "outputs": [],
   "source": []
  },
  {
   "cell_type": "code",
   "execution_count": 134,
   "id": "6da627af-1bbe-45ea-b86c-3187f706b39d",
   "metadata": {},
   "outputs": [],
   "source": [
    "percentile = 0.99"
   ]
  },
  {
   "cell_type": "code",
   "execution_count": 135,
   "id": "8eb03641-4177-4382-9b69-e57dea3bdda7",
   "metadata": {},
   "outputs": [
    {
     "data": {
      "text/plain": [
       "105494400.0"
      ]
     },
     "execution_count": 135,
     "metadata": {},
     "output_type": "execute_result"
    }
   ],
   "source": [
    "percentile * np.size(sorted_precip)"
   ]
  },
  {
   "cell_type": "code",
   "execution_count": 136,
   "id": "8e073804-97cc-4c92-b50a-a10352e1cc48",
   "metadata": {},
   "outputs": [],
   "source": [
    "percentile_ind = int(percentile * np.size(sorted_precip))"
   ]
  },
  {
   "cell_type": "code",
   "execution_count": 137,
   "id": "72cbddf6-5df5-403a-ab39-ba4de28918c1",
   "metadata": {},
   "outputs": [],
   "source": [
    "extreme_ind = (sorted_precip[percentile_ind] + sorted_precip[percentile_ind+1]) / 2.0"
   ]
  },
  {
   "cell_type": "code",
   "execution_count": 138,
   "id": "76c50fa4-62b1-4efe-ade9-e8e908d8c1dd",
   "metadata": {},
   "outputs": [],
   "source": [
    "total_extremes = np.sum(south_precip > extreme_ind)"
   ]
  },
  {
   "cell_type": "code",
   "execution_count": 139,
   "id": "ae1850f8-be11-4110-b7d9-94f95ff05934",
   "metadata": {},
   "outputs": [
    {
     "data": {
      "text/plain": [
       "0.9999990615615616"
      ]
     },
     "execution_count": 139,
     "metadata": {},
     "output_type": "execute_result"
    }
   ],
   "source": [
    "(total_extremes / np.size(south_precip)) *100"
   ]
  },
  {
   "cell_type": "code",
   "execution_count": 140,
   "id": "326e24e6-d7a7-4860-abb0-ffb81cb7118f",
   "metadata": {},
   "outputs": [],
   "source": [
    "state_extremes = np.sum(np.logical_and(wherestates, south_precip > extreme_ind))"
   ]
  },
  {
   "cell_type": "code",
   "execution_count": 141,
   "id": "698d82d8-e9b6-40a0-ad7b-1e083634d926",
   "metadata": {},
   "outputs": [
    {
     "data": {
      "text/plain": [
       "60.836111895750655"
      ]
     },
     "execution_count": 141,
     "metadata": {},
     "output_type": "execute_result"
    }
   ],
   "source": [
    "(state_extremes / total_extremes) * 100"
   ]
  },
  {
   "cell_type": "code",
   "execution_count": null,
   "id": "cacd323f-b6cf-4443-93b1-3760622ca3cb",
   "metadata": {},
   "outputs": [],
   "source": []
  },
  {
   "cell_type": "code",
   "execution_count": 142,
   "id": "449ad035-564f-4a9e-85e7-9a8a328ea344",
   "metadata": {},
   "outputs": [],
   "source": [
    "percentile = 0.999"
   ]
  },
  {
   "cell_type": "code",
   "execution_count": 143,
   "id": "f4b8ed5d-ae70-4b39-bde7-9096080b12dd",
   "metadata": {},
   "outputs": [
    {
     "data": {
      "text/plain": [
       "106453440.0"
      ]
     },
     "execution_count": 143,
     "metadata": {},
     "output_type": "execute_result"
    }
   ],
   "source": [
    "percentile * np.size(sorted_precip)"
   ]
  },
  {
   "cell_type": "code",
   "execution_count": 144,
   "id": "88bbd01b-e33c-4172-92d4-a3b24ba5531c",
   "metadata": {},
   "outputs": [],
   "source": [
    "percentile_ind = int(percentile * np.size(sorted_precip))"
   ]
  },
  {
   "cell_type": "code",
   "execution_count": 145,
   "id": "b056b199-6695-4a48-9808-b46cbc4c92b0",
   "metadata": {},
   "outputs": [],
   "source": [
    "extreme_ind = (sorted_precip[percentile_ind] + sorted_precip[percentile_ind+1]) / 2.0"
   ]
  },
  {
   "cell_type": "code",
   "execution_count": 146,
   "id": "7fb095d9-f09b-4c9f-b9cb-19362f6dc0a5",
   "metadata": {},
   "outputs": [],
   "source": [
    "total_extremes = np.sum(south_precip > extreme_ind)"
   ]
  },
  {
   "cell_type": "code",
   "execution_count": 147,
   "id": "02756a6c-ac82-440b-81fe-f5fab4fed405",
   "metadata": {},
   "outputs": [
    {
     "data": {
      "text/plain": [
       "0.09999906156156156"
      ]
     },
     "execution_count": 147,
     "metadata": {},
     "output_type": "execute_result"
    }
   ],
   "source": [
    "(total_extremes / np.size(south_precip)) *100"
   ]
  },
  {
   "cell_type": "code",
   "execution_count": 148,
   "id": "86d07ec2-57f4-4100-912a-cc0c33262be8",
   "metadata": {},
   "outputs": [],
   "source": [
    "state_extremes = np.sum(np.logical_and(wherestates, south_precip > extreme_ind))"
   ]
  },
  {
   "cell_type": "code",
   "execution_count": 149,
   "id": "5df8338b-d822-4a35-98ca-a2410c1c6b45",
   "metadata": {},
   "outputs": [
    {
     "data": {
      "text/plain": [
       "76.43465122608133"
      ]
     },
     "execution_count": 149,
     "metadata": {},
     "output_type": "execute_result"
    }
   ],
   "source": [
    "(state_extremes / total_extremes) * 100"
   ]
  },
  {
   "cell_type": "code",
   "execution_count": null,
   "id": "b39b1160-8173-41d5-9db2-3f8e7d90b569",
   "metadata": {},
   "outputs": [],
   "source": []
  }
 ],
 "metadata": {
  "kernelspec": {
   "display_name": "Python 3 (ipykernel)",
   "language": "python",
   "name": "python3"
  },
  "language_info": {
   "codemirror_mode": {
    "name": "ipython",
    "version": 3
   },
   "file_extension": ".py",
   "mimetype": "text/x-python",
   "name": "python",
   "nbconvert_exporter": "python",
   "pygments_lexer": "ipython3",
   "version": "3.8.15"
  }
 },
 "nbformat": 4,
 "nbformat_minor": 5
}
